{
  "cells": [
    {
      "cell_type": "code",
      "execution_count": 1,
      "metadata": {
        "id": "K07lfYCfbiPu"
      },
      "outputs": [],
      "source": [
        "import pandas as pd\n",
        "from nltk.corpus import stopwords\n",
        "from sklearn.metrics import accuracy_score, confusion_matrix, precision_score, recall_score, f1_score\n",
        "from sklearn.naive_bayes import GaussianNB\n",
        "from sklearn.feature_extraction.text import TfidfVectorizer\n",
        "from sklearn.model_selection import train_test_split\n",
        "import numpy as np"
      ]
    },
    {
      "cell_type": "code",
      "execution_count": 3,
      "metadata": {
        "colab": {
          "base_uri": "https://localhost:8080/",
          "height": 607
        },
        "id": "64dK2xWYbyPp",
        "outputId": "8932032c-40d3-410f-b3cd-e6c511fc381c"
      },
      "outputs": [
        {
          "output_type": "execute_result",
          "data": {
            "text/plain": [
              "      Unnamed: 0                      user  \\\n",
              "0              0                 Su Lastri   \n",
              "1              1   Puji Riyanti Ibune Kraf   \n",
              "2              2            Celina Meliala   \n",
              "3              3               Hairol Erol   \n",
              "4              4              Meisya Putri   \n",
              "...          ...                       ...   \n",
              "1600        1600   Firda Ummu Hisyam Harun   \n",
              "1601        1601        Setty Wahyuningsih   \n",
              "1602        1602   Ash'habil Jannatil Atqo   \n",
              "1603        1603  Ida Mutmainnatul Maulida   \n",
              "1604        1604               Elfia Rahmi   \n",
              "\n",
              "                                                  tweet  \\\n",
              "0     Walou ank sy dh bnyak tp sy klo lihat org lahi...   \n",
              "1     Alhamdulillah mau merasakan yg ke 5 x nya, sem...   \n",
              "2     WAduh bahagianya Ibu nih moga tahun ini saya d...   \n",
              "3     Alhamdulillah..... syukur apa yg ada PD kita d...   \n",
              "4     Alhamdulillah mau merasakan untuk ke 3 xnya, s...   \n",
              "...                                                 ...   \n",
              "1600  Kalau di Aulia Hospital kemaren saya bawa oran...   \n",
              "1601                                   Syafakillah kk..   \n",
              "1602             Dokter nya dimana ni kk praktek nya ??   \n",
              "1603                   Semoga segara sembuh mba Makhtum   \n",
              "1604                                  Syafakillah  ....   \n",
              "\n",
              "                                                   stem  label  \\\n",
              "0     walou ank sy dh bnyak sy klo lihat org lahir s...      0   \n",
              "1     alhamdulillah rasa moga lancar selancar lncarn...      1   \n",
              "2             bahagia moga rasa bahagia manjadi sekrang      1   \n",
              "3     alhamdulillah syukur pd ayah jaga ank mu dgn c...      1   \n",
              "4     alhamdulillah rasa xnya moga d lancar salin sl...      1   \n",
              "...                                                 ...    ...   \n",
              "1600  aulia hospital kemaren bawa orangtua obat dr i...      1   \n",
              "1601                                     syafakillah kk      0   \n",
              "1602                          dokter mana ni kk praktek      0   \n",
              "1603                     moga segara sembuh mba makhtum      0   \n",
              "1604                                        syafakillah      0   \n",
              "\n",
              "                                             tokenizing  \n",
              "0     ['walou', 'ank', 'sy', 'dh', 'bnyak', 'tp', 's...  \n",
              "1     ['alhamdulillah', 'mau', 'merasakan', 'yg', 'k...  \n",
              "2     ['waduh', 'bahagianya', 'ibu', 'nih', 'moga', ...  \n",
              "3     ['alhamdulillah', 'syukur', 'apa', 'yg', 'ada'...  \n",
              "4     ['alhamdulillah', 'mau', 'merasakan', 'untuk',...  \n",
              "...                                                 ...  \n",
              "1600  ['kalau', 'di', 'aulia', 'hospital', 'kemaren'...  \n",
              "1601                              ['syafakillah', 'kk']  \n",
              "1602  ['dokter', 'nya', 'dimana', 'ni', 'kk', 'prakt...  \n",
              "1603   ['semoga', 'segara', 'sembuh', 'mba', 'makhtum']  \n",
              "1604                                    ['syafakillah']  \n",
              "\n",
              "[1605 rows x 6 columns]"
            ],
            "text/html": [
              "\n",
              "  <div id=\"df-9e4552ae-4146-41ff-a81d-f1ee6fcc93d3\">\n",
              "    <div class=\"colab-df-container\">\n",
              "      <div>\n",
              "<style scoped>\n",
              "    .dataframe tbody tr th:only-of-type {\n",
              "        vertical-align: middle;\n",
              "    }\n",
              "\n",
              "    .dataframe tbody tr th {\n",
              "        vertical-align: top;\n",
              "    }\n",
              "\n",
              "    .dataframe thead th {\n",
              "        text-align: right;\n",
              "    }\n",
              "</style>\n",
              "<table border=\"1\" class=\"dataframe\">\n",
              "  <thead>\n",
              "    <tr style=\"text-align: right;\">\n",
              "      <th></th>\n",
              "      <th>Unnamed: 0</th>\n",
              "      <th>user</th>\n",
              "      <th>tweet</th>\n",
              "      <th>stem</th>\n",
              "      <th>label</th>\n",
              "      <th>tokenizing</th>\n",
              "    </tr>\n",
              "  </thead>\n",
              "  <tbody>\n",
              "    <tr>\n",
              "      <th>0</th>\n",
              "      <td>0</td>\n",
              "      <td>Su Lastri</td>\n",
              "      <td>Walou ank sy dh bnyak tp sy klo lihat org lahi...</td>\n",
              "      <td>walou ank sy dh bnyak sy klo lihat org lahir s...</td>\n",
              "      <td>0</td>\n",
              "      <td>['walou', 'ank', 'sy', 'dh', 'bnyak', 'tp', 's...</td>\n",
              "    </tr>\n",
              "    <tr>\n",
              "      <th>1</th>\n",
              "      <td>1</td>\n",
              "      <td>Puji Riyanti Ibune Kraf</td>\n",
              "      <td>Alhamdulillah mau merasakan yg ke 5 x nya, sem...</td>\n",
              "      <td>alhamdulillah rasa moga lancar selancar lncarn...</td>\n",
              "      <td>1</td>\n",
              "      <td>['alhamdulillah', 'mau', 'merasakan', 'yg', 'k...</td>\n",
              "    </tr>\n",
              "    <tr>\n",
              "      <th>2</th>\n",
              "      <td>2</td>\n",
              "      <td>Celina Meliala</td>\n",
              "      <td>WAduh bahagianya Ibu nih moga tahun ini saya d...</td>\n",
              "      <td>bahagia moga rasa bahagia manjadi sekrang</td>\n",
              "      <td>1</td>\n",
              "      <td>['waduh', 'bahagianya', 'ibu', 'nih', 'moga', ...</td>\n",
              "    </tr>\n",
              "    <tr>\n",
              "      <th>3</th>\n",
              "      <td>3</td>\n",
              "      <td>Hairol Erol</td>\n",
              "      <td>Alhamdulillah..... syukur apa yg ada PD kita d...</td>\n",
              "      <td>alhamdulillah syukur pd ayah jaga ank mu dgn c...</td>\n",
              "      <td>1</td>\n",
              "      <td>['alhamdulillah', 'syukur', 'apa', 'yg', 'ada'...</td>\n",
              "    </tr>\n",
              "    <tr>\n",
              "      <th>4</th>\n",
              "      <td>4</td>\n",
              "      <td>Meisya Putri</td>\n",
              "      <td>Alhamdulillah mau merasakan untuk ke 3 xnya, s...</td>\n",
              "      <td>alhamdulillah rasa xnya moga d lancar salin sl...</td>\n",
              "      <td>1</td>\n",
              "      <td>['alhamdulillah', 'mau', 'merasakan', 'untuk',...</td>\n",
              "    </tr>\n",
              "    <tr>\n",
              "      <th>...</th>\n",
              "      <td>...</td>\n",
              "      <td>...</td>\n",
              "      <td>...</td>\n",
              "      <td>...</td>\n",
              "      <td>...</td>\n",
              "      <td>...</td>\n",
              "    </tr>\n",
              "    <tr>\n",
              "      <th>1600</th>\n",
              "      <td>1600</td>\n",
              "      <td>Firda Ummu Hisyam Harun</td>\n",
              "      <td>Kalau di Aulia Hospital kemaren saya bawa oran...</td>\n",
              "      <td>aulia hospital kemaren bawa orangtua obat dr i...</td>\n",
              "      <td>1</td>\n",
              "      <td>['kalau', 'di', 'aulia', 'hospital', 'kemaren'...</td>\n",
              "    </tr>\n",
              "    <tr>\n",
              "      <th>1601</th>\n",
              "      <td>1601</td>\n",
              "      <td>Setty Wahyuningsih</td>\n",
              "      <td>Syafakillah kk..</td>\n",
              "      <td>syafakillah kk</td>\n",
              "      <td>0</td>\n",
              "      <td>['syafakillah', 'kk']</td>\n",
              "    </tr>\n",
              "    <tr>\n",
              "      <th>1602</th>\n",
              "      <td>1602</td>\n",
              "      <td>Ash'habil Jannatil Atqo</td>\n",
              "      <td>Dokter nya dimana ni kk praktek nya ??</td>\n",
              "      <td>dokter mana ni kk praktek</td>\n",
              "      <td>0</td>\n",
              "      <td>['dokter', 'nya', 'dimana', 'ni', 'kk', 'prakt...</td>\n",
              "    </tr>\n",
              "    <tr>\n",
              "      <th>1603</th>\n",
              "      <td>1603</td>\n",
              "      <td>Ida Mutmainnatul Maulida</td>\n",
              "      <td>Semoga segara sembuh mba Makhtum</td>\n",
              "      <td>moga segara sembuh mba makhtum</td>\n",
              "      <td>0</td>\n",
              "      <td>['semoga', 'segara', 'sembuh', 'mba', 'makhtum']</td>\n",
              "    </tr>\n",
              "    <tr>\n",
              "      <th>1604</th>\n",
              "      <td>1604</td>\n",
              "      <td>Elfia Rahmi</td>\n",
              "      <td>Syafakillah  ....</td>\n",
              "      <td>syafakillah</td>\n",
              "      <td>0</td>\n",
              "      <td>['syafakillah']</td>\n",
              "    </tr>\n",
              "  </tbody>\n",
              "</table>\n",
              "<p>1605 rows × 6 columns</p>\n",
              "</div>\n",
              "      <button class=\"colab-df-convert\" onclick=\"convertToInteractive('df-9e4552ae-4146-41ff-a81d-f1ee6fcc93d3')\"\n",
              "              title=\"Convert this dataframe to an interactive table.\"\n",
              "              style=\"display:none;\">\n",
              "        \n",
              "  <svg xmlns=\"http://www.w3.org/2000/svg\" height=\"24px\"viewBox=\"0 0 24 24\"\n",
              "       width=\"24px\">\n",
              "    <path d=\"M0 0h24v24H0V0z\" fill=\"none\"/>\n",
              "    <path d=\"M18.56 5.44l.94 2.06.94-2.06 2.06-.94-2.06-.94-.94-2.06-.94 2.06-2.06.94zm-11 1L8.5 8.5l.94-2.06 2.06-.94-2.06-.94L8.5 2.5l-.94 2.06-2.06.94zm10 10l.94 2.06.94-2.06 2.06-.94-2.06-.94-.94-2.06-.94 2.06-2.06.94z\"/><path d=\"M17.41 7.96l-1.37-1.37c-.4-.4-.92-.59-1.43-.59-.52 0-1.04.2-1.43.59L10.3 9.45l-7.72 7.72c-.78.78-.78 2.05 0 2.83L4 21.41c.39.39.9.59 1.41.59.51 0 1.02-.2 1.41-.59l7.78-7.78 2.81-2.81c.8-.78.8-2.07 0-2.86zM5.41 20L4 18.59l7.72-7.72 1.47 1.35L5.41 20z\"/>\n",
              "  </svg>\n",
              "      </button>\n",
              "      \n",
              "  <style>\n",
              "    .colab-df-container {\n",
              "      display:flex;\n",
              "      flex-wrap:wrap;\n",
              "      gap: 12px;\n",
              "    }\n",
              "\n",
              "    .colab-df-convert {\n",
              "      background-color: #E8F0FE;\n",
              "      border: none;\n",
              "      border-radius: 50%;\n",
              "      cursor: pointer;\n",
              "      display: none;\n",
              "      fill: #1967D2;\n",
              "      height: 32px;\n",
              "      padding: 0 0 0 0;\n",
              "      width: 32px;\n",
              "    }\n",
              "\n",
              "    .colab-df-convert:hover {\n",
              "      background-color: #E2EBFA;\n",
              "      box-shadow: 0px 1px 2px rgba(60, 64, 67, 0.3), 0px 1px 3px 1px rgba(60, 64, 67, 0.15);\n",
              "      fill: #174EA6;\n",
              "    }\n",
              "\n",
              "    [theme=dark] .colab-df-convert {\n",
              "      background-color: #3B4455;\n",
              "      fill: #D2E3FC;\n",
              "    }\n",
              "\n",
              "    [theme=dark] .colab-df-convert:hover {\n",
              "      background-color: #434B5C;\n",
              "      box-shadow: 0px 1px 3px 1px rgba(0, 0, 0, 0.15);\n",
              "      filter: drop-shadow(0px 1px 2px rgba(0, 0, 0, 0.3));\n",
              "      fill: #FFFFFF;\n",
              "    }\n",
              "  </style>\n",
              "\n",
              "      <script>\n",
              "        const buttonEl =\n",
              "          document.querySelector('#df-9e4552ae-4146-41ff-a81d-f1ee6fcc93d3 button.colab-df-convert');\n",
              "        buttonEl.style.display =\n",
              "          google.colab.kernel.accessAllowed ? 'block' : 'none';\n",
              "\n",
              "        async function convertToInteractive(key) {\n",
              "          const element = document.querySelector('#df-9e4552ae-4146-41ff-a81d-f1ee6fcc93d3');\n",
              "          const dataTable =\n",
              "            await google.colab.kernel.invokeFunction('convertToInteractive',\n",
              "                                                     [key], {});\n",
              "          if (!dataTable) return;\n",
              "\n",
              "          const docLinkHtml = 'Like what you see? Visit the ' +\n",
              "            '<a target=\"_blank\" href=https://colab.research.google.com/notebooks/data_table.ipynb>data table notebook</a>'\n",
              "            + ' to learn more about interactive tables.';\n",
              "          element.innerHTML = '';\n",
              "          dataTable['output_type'] = 'display_data';\n",
              "          await google.colab.output.renderOutput(dataTable, element);\n",
              "          const docLink = document.createElement('div');\n",
              "          docLink.innerHTML = docLinkHtml;\n",
              "          element.appendChild(docLink);\n",
              "        }\n",
              "      </script>\n",
              "    </div>\n",
              "  </div>\n",
              "  "
            ]
          },
          "metadata": {},
          "execution_count": 3
        }
      ],
      "source": [
        "df = pd.read_csv('dataset/dataset_labeling_facebook.csv') #Read dataset\n",
        "df.to_numpy()\n",
        "df"
      ]
    },
    {
      "cell_type": "code",
      "execution_count": 4,
      "metadata": {
        "id": "NUu2tofJcCFf"
      },
      "outputs": [],
      "source": [
        "# Setup X & y \n",
        "X = list()\n",
        "y = list()\n",
        "\n",
        "for i, r in df.iterrows():\n",
        "    X.append(str(r['stem']))\n",
        "    y.append(r['label'])\n",
        "    \n",
        "X_train, X_test, y_train, y_test = train_test_split(X, y, test_size=0.25)"
      ]
    },
    {
      "cell_type": "code",
      "execution_count": 5,
      "metadata": {
        "colab": {
          "base_uri": "https://localhost:8080/",
          "height": 424
        },
        "id": "FommLvezcGnl",
        "outputId": "090dd4d1-88b8-4d1c-b3d1-334fc2498617"
      },
      "outputs": [
        {
          "output_type": "execute_result",
          "data": {
            "text/plain": [
              "                                                   stem  label\n",
              "0     bln penjara moga penegakhukum propesional dlm ...     -1\n",
              "1                                   sikurity diam waaee      0\n",
              "2                    ga ush pake klarifikasi biar kapok      0\n",
              "3                              oh jd kalo polisi mau ya      0\n",
              "4                    suruh org tuax pasang infus sampah     -1\n",
              "...                                                 ...    ...\n",
              "1198  nga kontrol langsung suruh sc ambil tindak nga...      0\n",
              "1199                        suruh pasang diri klu trima      0\n",
              "1200                    viralkan biar masuk dlm penjara     -1\n",
              "1201                                   anak titip allah      0\n",
              "1202                              cina sdh tingkah skrg      0\n",
              "\n",
              "[1203 rows x 2 columns]"
            ],
            "text/html": [
              "\n",
              "  <div id=\"df-8ca5bf95-0b8a-4d70-9500-d5780b3bf4ce\">\n",
              "    <div class=\"colab-df-container\">\n",
              "      <div>\n",
              "<style scoped>\n",
              "    .dataframe tbody tr th:only-of-type {\n",
              "        vertical-align: middle;\n",
              "    }\n",
              "\n",
              "    .dataframe tbody tr th {\n",
              "        vertical-align: top;\n",
              "    }\n",
              "\n",
              "    .dataframe thead th {\n",
              "        text-align: right;\n",
              "    }\n",
              "</style>\n",
              "<table border=\"1\" class=\"dataframe\">\n",
              "  <thead>\n",
              "    <tr style=\"text-align: right;\">\n",
              "      <th></th>\n",
              "      <th>stem</th>\n",
              "      <th>label</th>\n",
              "    </tr>\n",
              "  </thead>\n",
              "  <tbody>\n",
              "    <tr>\n",
              "      <th>0</th>\n",
              "      <td>bln penjara moga penegakhukum propesional dlm ...</td>\n",
              "      <td>-1</td>\n",
              "    </tr>\n",
              "    <tr>\n",
              "      <th>1</th>\n",
              "      <td>sikurity diam waaee</td>\n",
              "      <td>0</td>\n",
              "    </tr>\n",
              "    <tr>\n",
              "      <th>2</th>\n",
              "      <td>ga ush pake klarifikasi biar kapok</td>\n",
              "      <td>0</td>\n",
              "    </tr>\n",
              "    <tr>\n",
              "      <th>3</th>\n",
              "      <td>oh jd kalo polisi mau ya</td>\n",
              "      <td>0</td>\n",
              "    </tr>\n",
              "    <tr>\n",
              "      <th>4</th>\n",
              "      <td>suruh org tuax pasang infus sampah</td>\n",
              "      <td>-1</td>\n",
              "    </tr>\n",
              "    <tr>\n",
              "      <th>...</th>\n",
              "      <td>...</td>\n",
              "      <td>...</td>\n",
              "    </tr>\n",
              "    <tr>\n",
              "      <th>1198</th>\n",
              "      <td>nga kontrol langsung suruh sc ambil tindak nga...</td>\n",
              "      <td>0</td>\n",
              "    </tr>\n",
              "    <tr>\n",
              "      <th>1199</th>\n",
              "      <td>suruh pasang diri klu trima</td>\n",
              "      <td>0</td>\n",
              "    </tr>\n",
              "    <tr>\n",
              "      <th>1200</th>\n",
              "      <td>viralkan biar masuk dlm penjara</td>\n",
              "      <td>-1</td>\n",
              "    </tr>\n",
              "    <tr>\n",
              "      <th>1201</th>\n",
              "      <td>anak titip allah</td>\n",
              "      <td>0</td>\n",
              "    </tr>\n",
              "    <tr>\n",
              "      <th>1202</th>\n",
              "      <td>cina sdh tingkah skrg</td>\n",
              "      <td>0</td>\n",
              "    </tr>\n",
              "  </tbody>\n",
              "</table>\n",
              "<p>1203 rows × 2 columns</p>\n",
              "</div>\n",
              "      <button class=\"colab-df-convert\" onclick=\"convertToInteractive('df-8ca5bf95-0b8a-4d70-9500-d5780b3bf4ce')\"\n",
              "              title=\"Convert this dataframe to an interactive table.\"\n",
              "              style=\"display:none;\">\n",
              "        \n",
              "  <svg xmlns=\"http://www.w3.org/2000/svg\" height=\"24px\"viewBox=\"0 0 24 24\"\n",
              "       width=\"24px\">\n",
              "    <path d=\"M0 0h24v24H0V0z\" fill=\"none\"/>\n",
              "    <path d=\"M18.56 5.44l.94 2.06.94-2.06 2.06-.94-2.06-.94-.94-2.06-.94 2.06-2.06.94zm-11 1L8.5 8.5l.94-2.06 2.06-.94-2.06-.94L8.5 2.5l-.94 2.06-2.06.94zm10 10l.94 2.06.94-2.06 2.06-.94-2.06-.94-.94-2.06-.94 2.06-2.06.94z\"/><path d=\"M17.41 7.96l-1.37-1.37c-.4-.4-.92-.59-1.43-.59-.52 0-1.04.2-1.43.59L10.3 9.45l-7.72 7.72c-.78.78-.78 2.05 0 2.83L4 21.41c.39.39.9.59 1.41.59.51 0 1.02-.2 1.41-.59l7.78-7.78 2.81-2.81c.8-.78.8-2.07 0-2.86zM5.41 20L4 18.59l7.72-7.72 1.47 1.35L5.41 20z\"/>\n",
              "  </svg>\n",
              "      </button>\n",
              "      \n",
              "  <style>\n",
              "    .colab-df-container {\n",
              "      display:flex;\n",
              "      flex-wrap:wrap;\n",
              "      gap: 12px;\n",
              "    }\n",
              "\n",
              "    .colab-df-convert {\n",
              "      background-color: #E8F0FE;\n",
              "      border: none;\n",
              "      border-radius: 50%;\n",
              "      cursor: pointer;\n",
              "      display: none;\n",
              "      fill: #1967D2;\n",
              "      height: 32px;\n",
              "      padding: 0 0 0 0;\n",
              "      width: 32px;\n",
              "    }\n",
              "\n",
              "    .colab-df-convert:hover {\n",
              "      background-color: #E2EBFA;\n",
              "      box-shadow: 0px 1px 2px rgba(60, 64, 67, 0.3), 0px 1px 3px 1px rgba(60, 64, 67, 0.15);\n",
              "      fill: #174EA6;\n",
              "    }\n",
              "\n",
              "    [theme=dark] .colab-df-convert {\n",
              "      background-color: #3B4455;\n",
              "      fill: #D2E3FC;\n",
              "    }\n",
              "\n",
              "    [theme=dark] .colab-df-convert:hover {\n",
              "      background-color: #434B5C;\n",
              "      box-shadow: 0px 1px 3px 1px rgba(0, 0, 0, 0.15);\n",
              "      filter: drop-shadow(0px 1px 2px rgba(0, 0, 0, 0.3));\n",
              "      fill: #FFFFFF;\n",
              "    }\n",
              "  </style>\n",
              "\n",
              "      <script>\n",
              "        const buttonEl =\n",
              "          document.querySelector('#df-8ca5bf95-0b8a-4d70-9500-d5780b3bf4ce button.colab-df-convert');\n",
              "        buttonEl.style.display =\n",
              "          google.colab.kernel.accessAllowed ? 'block' : 'none';\n",
              "\n",
              "        async function convertToInteractive(key) {\n",
              "          const element = document.querySelector('#df-8ca5bf95-0b8a-4d70-9500-d5780b3bf4ce');\n",
              "          const dataTable =\n",
              "            await google.colab.kernel.invokeFunction('convertToInteractive',\n",
              "                                                     [key], {});\n",
              "          if (!dataTable) return;\n",
              "\n",
              "          const docLinkHtml = 'Like what you see? Visit the ' +\n",
              "            '<a target=\"_blank\" href=https://colab.research.google.com/notebooks/data_table.ipynb>data table notebook</a>'\n",
              "            + ' to learn more about interactive tables.';\n",
              "          element.innerHTML = '';\n",
              "          dataTable['output_type'] = 'display_data';\n",
              "          await google.colab.output.renderOutput(dataTable, element);\n",
              "          const docLink = document.createElement('div');\n",
              "          docLink.innerHTML = docLinkHtml;\n",
              "          element.appendChild(docLink);\n",
              "        }\n",
              "      </script>\n",
              "    </div>\n",
              "  </div>\n",
              "  "
            ]
          },
          "metadata": {},
          "execution_count": 5
        }
      ],
      "source": [
        "# Visualisasi Train Data\n",
        "train_data = {'stem':list(), 'label':list()}\n",
        "for xt in range(len(X_train)):\n",
        "    train_data['stem'].append(X_train[xt])\n",
        "    train_data['label'].append(y_train[xt])\n",
        "train_data = pd.DataFrame(train_data)\n",
        "train_data"
      ]
    },
    {
      "cell_type": "code",
      "execution_count": 6,
      "metadata": {
        "colab": {
          "base_uri": "https://localhost:8080/"
        },
        "id": "z9VIdLkfcHeE",
        "outputId": "c4d97acc-bdcb-4fe3-883b-57e0f03d4e2a"
      },
      "outputs": [
        {
          "output_type": "stream",
          "name": "stdout",
          "text": [
            "============================ TRAIN DATA ===============================\n",
            "Total Label Positive =  227\n",
            "Total Label Neutral =  658\n",
            "Total Label Negative =  318\n",
            "=======================================================================\n"
          ]
        }
      ],
      "source": [
        "## Menghitung setiap jumlah Negative, Neutral dan Positive yang ada di data train\n",
        "train_label_positive = 0\n",
        "train_label_negative = 0\n",
        "train_label_neutral = 0 #\n",
        "\n",
        "train_datasets = list()\n",
        "\n",
        "for index, row in train_data.iterrows():\n",
        "    if(row['stem'] != ''):\n",
        "        if(row['label'] == -1):\n",
        "            train_label_negative += 1\n",
        "        elif(row['label'] == 0):\n",
        "            train_label_neutral += 1 #\n",
        "        else:\n",
        "            train_label_positive  += 1\n",
        "\n",
        "        ## Append array train_data\n",
        "        to_append = {\n",
        "            'stemming_tweet' : row['stem'],\n",
        "            'label' : row['label']\n",
        "        }\n",
        "        train_datasets.append(to_append)\n",
        "print('============================ TRAIN DATA ===============================')     \n",
        "print('Total Label Positive = ', train_label_positive)\n",
        "print('Total Label Neutral = ', train_label_neutral) #\n",
        "print('Total Label Negative = ', train_label_negative)\n",
        "print('=======================================================================')"
      ]
    },
    {
      "cell_type": "code",
      "execution_count": 7,
      "metadata": {
        "colab": {
          "base_uri": "https://localhost:8080/",
          "height": 424
        },
        "id": "mpJyLc53cKId",
        "outputId": "114eba75-fa74-4345-a26e-06c66126ef24"
      },
      "outputs": [
        {
          "output_type": "execute_result",
          "data": {
            "text/plain": [
              "                                                  stem  label\n",
              "0                             ngaku polisi heeeeh heee      0\n",
              "1    alhamdulillah k anak lahir normal asa campur a...      1\n",
              "2    kaya pas k dktr rahim sehat sehat ajja pas sma...      1\n",
              "3                                cantik manjaaa ya tik      1\n",
              "4                                        satpam tolong      0\n",
              "..                                                 ...    ...\n",
              "397                               klo orang temperamen      0\n",
              "398     suruh pasang aja rs mana ga terima salahin lho      1\n",
              "399  bentar video klarifikasi maaf udah selesai polisi      1\n",
              "400                          sekuriti tolol diem doang     -1\n",
              "401  suruh pasang sendri infus binatang pikir gampa...      0\n",
              "\n",
              "[402 rows x 2 columns]"
            ],
            "text/html": [
              "\n",
              "  <div id=\"df-7f4efc94-bc36-497e-bcf8-7044e1c7818a\">\n",
              "    <div class=\"colab-df-container\">\n",
              "      <div>\n",
              "<style scoped>\n",
              "    .dataframe tbody tr th:only-of-type {\n",
              "        vertical-align: middle;\n",
              "    }\n",
              "\n",
              "    .dataframe tbody tr th {\n",
              "        vertical-align: top;\n",
              "    }\n",
              "\n",
              "    .dataframe thead th {\n",
              "        text-align: right;\n",
              "    }\n",
              "</style>\n",
              "<table border=\"1\" class=\"dataframe\">\n",
              "  <thead>\n",
              "    <tr style=\"text-align: right;\">\n",
              "      <th></th>\n",
              "      <th>stem</th>\n",
              "      <th>label</th>\n",
              "    </tr>\n",
              "  </thead>\n",
              "  <tbody>\n",
              "    <tr>\n",
              "      <th>0</th>\n",
              "      <td>ngaku polisi heeeeh heee</td>\n",
              "      <td>0</td>\n",
              "    </tr>\n",
              "    <tr>\n",
              "      <th>1</th>\n",
              "      <td>alhamdulillah k anak lahir normal asa campur a...</td>\n",
              "      <td>1</td>\n",
              "    </tr>\n",
              "    <tr>\n",
              "      <th>2</th>\n",
              "      <td>kaya pas k dktr rahim sehat sehat ajja pas sma...</td>\n",
              "      <td>1</td>\n",
              "    </tr>\n",
              "    <tr>\n",
              "      <th>3</th>\n",
              "      <td>cantik manjaaa ya tik</td>\n",
              "      <td>1</td>\n",
              "    </tr>\n",
              "    <tr>\n",
              "      <th>4</th>\n",
              "      <td>satpam tolong</td>\n",
              "      <td>0</td>\n",
              "    </tr>\n",
              "    <tr>\n",
              "      <th>...</th>\n",
              "      <td>...</td>\n",
              "      <td>...</td>\n",
              "    </tr>\n",
              "    <tr>\n",
              "      <th>397</th>\n",
              "      <td>klo orang temperamen</td>\n",
              "      <td>0</td>\n",
              "    </tr>\n",
              "    <tr>\n",
              "      <th>398</th>\n",
              "      <td>suruh pasang aja rs mana ga terima salahin lho</td>\n",
              "      <td>1</td>\n",
              "    </tr>\n",
              "    <tr>\n",
              "      <th>399</th>\n",
              "      <td>bentar video klarifikasi maaf udah selesai polisi</td>\n",
              "      <td>1</td>\n",
              "    </tr>\n",
              "    <tr>\n",
              "      <th>400</th>\n",
              "      <td>sekuriti tolol diem doang</td>\n",
              "      <td>-1</td>\n",
              "    </tr>\n",
              "    <tr>\n",
              "      <th>401</th>\n",
              "      <td>suruh pasang sendri infus binatang pikir gampa...</td>\n",
              "      <td>0</td>\n",
              "    </tr>\n",
              "  </tbody>\n",
              "</table>\n",
              "<p>402 rows × 2 columns</p>\n",
              "</div>\n",
              "      <button class=\"colab-df-convert\" onclick=\"convertToInteractive('df-7f4efc94-bc36-497e-bcf8-7044e1c7818a')\"\n",
              "              title=\"Convert this dataframe to an interactive table.\"\n",
              "              style=\"display:none;\">\n",
              "        \n",
              "  <svg xmlns=\"http://www.w3.org/2000/svg\" height=\"24px\"viewBox=\"0 0 24 24\"\n",
              "       width=\"24px\">\n",
              "    <path d=\"M0 0h24v24H0V0z\" fill=\"none\"/>\n",
              "    <path d=\"M18.56 5.44l.94 2.06.94-2.06 2.06-.94-2.06-.94-.94-2.06-.94 2.06-2.06.94zm-11 1L8.5 8.5l.94-2.06 2.06-.94-2.06-.94L8.5 2.5l-.94 2.06-2.06.94zm10 10l.94 2.06.94-2.06 2.06-.94-2.06-.94-.94-2.06-.94 2.06-2.06.94z\"/><path d=\"M17.41 7.96l-1.37-1.37c-.4-.4-.92-.59-1.43-.59-.52 0-1.04.2-1.43.59L10.3 9.45l-7.72 7.72c-.78.78-.78 2.05 0 2.83L4 21.41c.39.39.9.59 1.41.59.51 0 1.02-.2 1.41-.59l7.78-7.78 2.81-2.81c.8-.78.8-2.07 0-2.86zM5.41 20L4 18.59l7.72-7.72 1.47 1.35L5.41 20z\"/>\n",
              "  </svg>\n",
              "      </button>\n",
              "      \n",
              "  <style>\n",
              "    .colab-df-container {\n",
              "      display:flex;\n",
              "      flex-wrap:wrap;\n",
              "      gap: 12px;\n",
              "    }\n",
              "\n",
              "    .colab-df-convert {\n",
              "      background-color: #E8F0FE;\n",
              "      border: none;\n",
              "      border-radius: 50%;\n",
              "      cursor: pointer;\n",
              "      display: none;\n",
              "      fill: #1967D2;\n",
              "      height: 32px;\n",
              "      padding: 0 0 0 0;\n",
              "      width: 32px;\n",
              "    }\n",
              "\n",
              "    .colab-df-convert:hover {\n",
              "      background-color: #E2EBFA;\n",
              "      box-shadow: 0px 1px 2px rgba(60, 64, 67, 0.3), 0px 1px 3px 1px rgba(60, 64, 67, 0.15);\n",
              "      fill: #174EA6;\n",
              "    }\n",
              "\n",
              "    [theme=dark] .colab-df-convert {\n",
              "      background-color: #3B4455;\n",
              "      fill: #D2E3FC;\n",
              "    }\n",
              "\n",
              "    [theme=dark] .colab-df-convert:hover {\n",
              "      background-color: #434B5C;\n",
              "      box-shadow: 0px 1px 3px 1px rgba(0, 0, 0, 0.15);\n",
              "      filter: drop-shadow(0px 1px 2px rgba(0, 0, 0, 0.3));\n",
              "      fill: #FFFFFF;\n",
              "    }\n",
              "  </style>\n",
              "\n",
              "      <script>\n",
              "        const buttonEl =\n",
              "          document.querySelector('#df-7f4efc94-bc36-497e-bcf8-7044e1c7818a button.colab-df-convert');\n",
              "        buttonEl.style.display =\n",
              "          google.colab.kernel.accessAllowed ? 'block' : 'none';\n",
              "\n",
              "        async function convertToInteractive(key) {\n",
              "          const element = document.querySelector('#df-7f4efc94-bc36-497e-bcf8-7044e1c7818a');\n",
              "          const dataTable =\n",
              "            await google.colab.kernel.invokeFunction('convertToInteractive',\n",
              "                                                     [key], {});\n",
              "          if (!dataTable) return;\n",
              "\n",
              "          const docLinkHtml = 'Like what you see? Visit the ' +\n",
              "            '<a target=\"_blank\" href=https://colab.research.google.com/notebooks/data_table.ipynb>data table notebook</a>'\n",
              "            + ' to learn more about interactive tables.';\n",
              "          element.innerHTML = '';\n",
              "          dataTable['output_type'] = 'display_data';\n",
              "          await google.colab.output.renderOutput(dataTable, element);\n",
              "          const docLink = document.createElement('div');\n",
              "          docLink.innerHTML = docLinkHtml;\n",
              "          element.appendChild(docLink);\n",
              "        }\n",
              "      </script>\n",
              "    </div>\n",
              "  </div>\n",
              "  "
            ]
          },
          "metadata": {},
          "execution_count": 7
        }
      ],
      "source": [
        "# Visualisasi Test Data\n",
        "test_data = {'stem':list(), 'label':list()}\n",
        "for xt in range(len(X_test)):\n",
        "    test_data['stem'].append(X_test[xt])\n",
        "    test_data['label'].append(y_test[xt])\n",
        "test_data = pd.DataFrame(test_data)\n",
        "test_data"
      ]
    },
    {
      "cell_type": "code",
      "execution_count": 8,
      "metadata": {
        "colab": {
          "base_uri": "https://localhost:8080/"
        },
        "id": "cYO9oRrMcM1m",
        "outputId": "3668acd1-0c9a-4095-ce4c-8a25361d6882"
      },
      "outputs": [
        {
          "output_type": "stream",
          "name": "stdout",
          "text": [
            "============================ Test DATA ===============================\n",
            "Total Label Positive =  81\n",
            "Total Label Negative =  98\n",
            "Total Label Neutral =  223\n",
            "=======================================================================\n"
          ]
        }
      ],
      "source": [
        "## Menghitung setiap jumlah Negative, Neutral dan Positive yang ada di data test\n",
        "test_label_positive = 0\n",
        "test_label_negative = 0\n",
        "test_label_neutral = 0\n",
        "\n",
        "test_datasets = list()\n",
        "\n",
        "for index, row in test_data.iterrows():\n",
        "    if(row['stem'] != ''):\n",
        "        if(row['label'] == -1):\n",
        "            test_label_negative += 1\n",
        "        elif(row['label'] == 0):\n",
        "            test_label_neutral += 1 #\n",
        "        else:\n",
        "            test_label_positive  += 1\n",
        "\n",
        "        ## Append array train_data\n",
        "        to_append = {\n",
        "            'stemming_tweet' : row['stem'],\n",
        "            'label' : row['label']\n",
        "        }\n",
        "        test_datasets.append(to_append)\n",
        "print('============================ Test DATA ===============================')     \n",
        "print('Total Label Positive = ', test_label_positive)\n",
        "print('Total Label Negative = ', test_label_negative)\n",
        "print('Total Label Neutral = ', test_label_neutral) #\n",
        "print('=======================================================================')"
      ]
    },
    {
      "cell_type": "code",
      "execution_count": 9,
      "metadata": {
        "colab": {
          "base_uri": "https://localhost:8080/"
        },
        "id": "KsGVRPYtcXQI",
        "outputId": "5fa4e2e7-fc08-483b-e5eb-2b5c1c04d6b7"
      },
      "outputs": [
        {
          "output_type": "execute_result",
          "data": {
            "text/plain": [
              "array(['aaa', 'aaaaaaa', 'aamiin', ..., 'zhlim', 'zikir', 'zikirr'],\n",
              "      dtype=object)"
            ]
          },
          "metadata": {},
          "execution_count": 9
        }
      ],
      "source": [
        "from sklearn.feature_extraction.text import TfidfVectorizer\n",
        "\n",
        "vectorizer     = TfidfVectorizer(norm='l2') # Membuat TF ID-F Vectorizer\n",
        "X_train_corpus = vectorizer.fit_transform(X_train) # Mencari vocabulary\n",
        "feature_names  = vectorizer.get_feature_names_out() # Mendapatkan Feature Names matrix\n",
        "feature_names"
      ]
    },
    {
      "cell_type": "code",
      "execution_count": 10,
      "metadata": {
        "id": "BZmItCr1ca1-"
      },
      "outputs": [],
      "source": [
        "X_test_corpus = vectorizer.transform(X_test) # Masukan corpus test ke matrix train\n",
        "\n",
        "df_vec_test = pd.DataFrame(X_test_corpus.toarray(), columns=feature_names)"
      ]
    },
    {
      "cell_type": "markdown",
      "metadata": {
        "id": "JYDfQ61vc7ei"
      },
      "source": [
        "## Algoritma Naive Bayes"
      ]
    },
    {
      "cell_type": "code",
      "execution_count": 11,
      "metadata": {
        "id": "BVzKNAsEc2z3"
      },
      "outputs": [],
      "source": [
        "model = GaussianNB()\n",
        "model.fit(X_train_corpus.toarray(), y_train)\n",
        "y_pred= model.predict((X_test_corpus.toarray()))\n",
        "preds = y_pred.tolist()"
      ]
    },
    {
      "cell_type": "code",
      "execution_count": 12,
      "metadata": {
        "colab": {
          "base_uri": "https://localhost:8080/",
          "height": 295
        },
        "id": "753grSJ6dEOS",
        "outputId": "5fdbcf31-a46b-409b-9959-3e3ecc823c64"
      },
      "outputs": [
        {
          "output_type": "display_data",
          "data": {
            "text/plain": [
              "<Figure size 432x288 with 2 Axes>"
            ],
            "image/png": "[encoded data removed]"
          },
          "metadata": {
            "needs_background": "light"
          }
        }
      ],
      "source": [
        " # confusion matrix\n",
        "import seaborn as sns\n",
        "import matplotlib.pyplot as plt\n",
        "    \n",
        "Confusion_matrix = confusion_matrix(y_test, y_pred, labels=[1,0,-1])\n",
        "class_label      = ['Positive', 'Neutral','Negative']\n",
        "df_confusion     = pd.DataFrame(Confusion_matrix, index = class_label, columns = class_label)\n",
        "sns.heatmap(df_confusion, annot=True, fmt = \"d\", cmap=plt.cm.Blues)\n",
        "plt.title('Confusion Matrix')\n",
        "plt.xlabel('Prediction Label')\n",
        "plt.ylabel('Actual Label')\n",
        "plt.show()"
      ]
    },
    {
      "cell_type": "code",
      "execution_count": 13,
      "metadata": {
        "colab": {
          "base_uri": "https://localhost:8080/"
        },
        "id": "55SRz_W3dGsI",
        "outputId": "11ad4214-c418-42e4-a491-731b96183028"
      },
      "outputs": [
        {
          "output_type": "stream",
          "name": "stdout",
          "text": [
            "Accuracy Score = 0.40\n",
            "Precission = 0.40\n",
            "Recall = 0.40\n",
            "F-Score = 0.40\n"
          ]
        }
      ],
      "source": [
        "_accuracy   = accuracy_score(y_test, y_pred)\n",
        "_precission = precision_score(y_test, y_pred, average='micro')\n",
        "_recall     = recall_score(y_test, y_pred, average='micro')\n",
        "_fscore     = f1_score(y_test, y_pred, average='micro')\n",
        "\n",
        "print('Accuracy Score =', \"{:.2f}\".format(_accuracy))\n",
        "print('Precission =', \"{:.2f}\".format(_precission))\n",
        "print('Recall =', \"{:.2f}\".format(_recall))\n",
        "print('F-Score =', \"{:.2f}\".format(_fscore))"
      ]
    },
    {
      "cell_type": "code",
      "execution_count": 14,
      "metadata": {
        "colab": {
          "base_uri": "https://localhost:8080/"
        },
        "id": "bmP8DvridI3j",
        "outputId": "1578af20-bfd5-4116-f0cd-e41a33540555"
      },
      "outputs": [
        {
          "output_type": "stream",
          "name": "stdout",
          "text": [
            "              precision    recall  f1-score   support\n",
            "\n",
            "          -1       0.44      0.55      0.49        98\n",
            "           0       0.60      0.29      0.39       223\n",
            "           1       0.25      0.53      0.34        81\n",
            "\n",
            "    accuracy                           0.40       402\n",
            "   macro avg       0.43      0.46      0.41       402\n",
            "weighted avg       0.49      0.40      0.40       402\n",
            "\n"
          ]
        }
      ],
      "source": [
        "# Menghitung nilai akurasi dari klasifikasi naive bayes \n",
        "from sklearn.metrics import classification_report\n",
        "print(classification_report(y_test,y_pred))"
      ]
    },
    {
      "cell_type": "code",
      "source": [
        "#persentase label hasil prediksi menggunakan algoritma Naive Bayes\n",
        "df_result_nb = pd.DataFrame({'prediksi':y_pred})\n",
        "\n",
        "pd.options.display.float_format = '{:,.2f}%'.format\n",
        "df_persen_nb = pd.DataFrame(df_result_nb['prediksi'].value_counts()/df_result_nb['prediksi'].count()*100)\n",
        "df_persen_nb = df_persen_nb.rename(index={-1:'Negative', 0:'Neutral', 1:'Positive'})\n",
        "df_persen_nb"
      ],
      "metadata": {
        "colab": {
          "base_uri": "https://localhost:8080/",
          "height": 143
        },
        "id": "0BLzDZ73zS0s",
        "outputId": "46af4b33-87de-42e7-d52f-4902d45ef264"
      },
      "execution_count": 15,
      "outputs": [
        {
          "output_type": "execute_result",
          "data": {
            "text/plain": [
              "          prediksi\n",
              "Positive    43.03%\n",
              "Negative    30.60%\n",
              "Neutral     26.37%"
            ],
            "text/html": [
              "\n",
              "  <div id=\"df-293a0474-120d-49ca-b343-1a083826e12a\">\n",
              "    <div class=\"colab-df-container\">\n",
              "      <div>\n",
              "<style scoped>\n",
              "    .dataframe tbody tr th:only-of-type {\n",
              "        vertical-align: middle;\n",
              "    }\n",
              "\n",
              "    .dataframe tbody tr th {\n",
              "        vertical-align: top;\n",
              "    }\n",
              "\n",
              "    .dataframe thead th {\n",
              "        text-align: right;\n",
              "    }\n",
              "</style>\n",
              "<table border=\"1\" class=\"dataframe\">\n",
              "  <thead>\n",
              "    <tr style=\"text-align: right;\">\n",
              "      <th></th>\n",
              "      <th>prediksi</th>\n",
              "    </tr>\n",
              "  </thead>\n",
              "  <tbody>\n",
              "    <tr>\n",
              "      <th>Positive</th>\n",
              "      <td>43.03%</td>\n",
              "    </tr>\n",
              "    <tr>\n",
              "      <th>Negative</th>\n",
              "      <td>30.60%</td>\n",
              "    </tr>\n",
              "    <tr>\n",
              "      <th>Neutral</th>\n",
              "      <td>26.37%</td>\n",
              "    </tr>\n",
              "  </tbody>\n",
              "</table>\n",
              "</div>\n",
              "      <button class=\"colab-df-convert\" onclick=\"convertToInteractive('df-293a0474-120d-49ca-b343-1a083826e12a')\"\n",
              "              title=\"Convert this dataframe to an interactive table.\"\n",
              "              style=\"display:none;\">\n",
              "        \n",
              "  <svg xmlns=\"http://www.w3.org/2000/svg\" height=\"24px\"viewBox=\"0 0 24 24\"\n",
              "       width=\"24px\">\n",
              "    <path d=\"M0 0h24v24H0V0z\" fill=\"none\"/>\n",
              "    <path d=\"M18.56 5.44l.94 2.06.94-2.06 2.06-.94-2.06-.94-.94-2.06-.94 2.06-2.06.94zm-11 1L8.5 8.5l.94-2.06 2.06-.94-2.06-.94L8.5 2.5l-.94 2.06-2.06.94zm10 10l.94 2.06.94-2.06 2.06-.94-2.06-.94-.94-2.06-.94 2.06-2.06.94z\"/><path d=\"M17.41 7.96l-1.37-1.37c-.4-.4-.92-.59-1.43-.59-.52 0-1.04.2-1.43.59L10.3 9.45l-7.72 7.72c-.78.78-.78 2.05 0 2.83L4 21.41c.39.39.9.59 1.41.59.51 0 1.02-.2 1.41-.59l7.78-7.78 2.81-2.81c.8-.78.8-2.07 0-2.86zM5.41 20L4 18.59l7.72-7.72 1.47 1.35L5.41 20z\"/>\n",
              "  </svg>\n",
              "      </button>\n",
              "      \n",
              "  <style>\n",
              "    .colab-df-container {\n",
              "      display:flex;\n",
              "      flex-wrap:wrap;\n",
              "      gap: 12px;\n",
              "    }\n",
              "\n",
              "    .colab-df-convert {\n",
              "      background-color: #E8F0FE;\n",
              "      border: none;\n",
              "      border-radius: 50%;\n",
              "      cursor: pointer;\n",
              "      display: none;\n",
              "      fill: #1967D2;\n",
              "      height: 32px;\n",
              "      padding: 0 0 0 0;\n",
              "      width: 32px;\n",
              "    }\n",
              "\n",
              "    .colab-df-convert:hover {\n",
              "      background-color: #E2EBFA;\n",
              "      box-shadow: 0px 1px 2px rgba(60, 64, 67, 0.3), 0px 1px 3px 1px rgba(60, 64, 67, 0.15);\n",
              "      fill: #174EA6;\n",
              "    }\n",
              "\n",
              "    [theme=dark] .colab-df-convert {\n",
              "      background-color: #3B4455;\n",
              "      fill: #D2E3FC;\n",
              "    }\n",
              "\n",
              "    [theme=dark] .colab-df-convert:hover {\n",
              "      background-color: #434B5C;\n",
              "      box-shadow: 0px 1px 3px 1px rgba(0, 0, 0, 0.15);\n",
              "      filter: drop-shadow(0px 1px 2px rgba(0, 0, 0, 0.3));\n",
              "      fill: #FFFFFF;\n",
              "    }\n",
              "  </style>\n",
              "\n",
              "      <script>\n",
              "        const buttonEl =\n",
              "          document.querySelector('#df-293a0474-120d-49ca-b343-1a083826e12a button.colab-df-convert');\n",
              "        buttonEl.style.display =\n",
              "          google.colab.kernel.accessAllowed ? 'block' : 'none';\n",
              "\n",
              "        async function convertToInteractive(key) {\n",
              "          const element = document.querySelector('#df-293a0474-120d-49ca-b343-1a083826e12a');\n",
              "          const dataTable =\n",
              "            await google.colab.kernel.invokeFunction('convertToInteractive',\n",
              "                                                     [key], {});\n",
              "          if (!dataTable) return;\n",
              "\n",
              "          const docLinkHtml = 'Like what you see? Visit the ' +\n",
              "            '<a target=\"_blank\" href=https://colab.research.google.com/notebooks/data_table.ipynb>data table notebook</a>'\n",
              "            + ' to learn more about interactive tables.';\n",
              "          element.innerHTML = '';\n",
              "          dataTable['output_type'] = 'display_data';\n",
              "          await google.colab.output.renderOutput(dataTable, element);\n",
              "          const docLink = document.createElement('div');\n",
              "          docLink.innerHTML = docLinkHtml;\n",
              "          element.appendChild(docLink);\n",
              "        }\n",
              "      </script>\n",
              "    </div>\n",
              "  </div>\n",
              "  "
            ]
          },
          "metadata": {},
          "execution_count": 15
        }
      ]
    },
    {
      "cell_type": "code",
      "source": [
        "print('Label', df_persen_nb.index[0] ,'memiliki persentase sebesar', '{:,.2f}'.format(df_persen_nb['prediksi'][0]), '%')\n",
        "print('Label', df_persen_nb.index[1] ,'memiliki persentase sebesar', '{:,.2f}'.format(df_persen_nb['prediksi'][1]), '%')\n",
        "print('Label', df_persen_nb.index[2] ,'memiliki persentase sebesar', '{:,.2f}'.format(df_persen_nb['prediksi'][2]), '%')"
      ],
      "metadata": {
        "colab": {
          "base_uri": "https://localhost:8080/"
        },
        "id": "iJe5jXhmywPs",
        "outputId": "1ab2c2f8-2509-4fb3-cf89-e83a389fc06e"
      },
      "execution_count": 16,
      "outputs": [
        {
          "output_type": "stream",
          "name": "stdout",
          "text": [
            "Label Positive memiliki persentase sebesar 43.03 %\n",
            "Label Negative memiliki persentase sebesar 30.60 %\n",
            "Label Neutral memiliki persentase sebesar 26.37 %\n"
          ]
        }
      ]
    },
    {
      "cell_type": "code",
      "source": [
        "print('Prediksi menggunakan algoritma Naive Bayes menghasilkan label', df_persen_nb['prediksi'].idxmax() ,'memiliki persentase terbanyak sebesar', '{:,.2f}'.format(max(df_persen_nb['prediksi']), 2), '%')"
      ],
      "metadata": {
        "colab": {
          "base_uri": "https://localhost:8080/"
        },
        "id": "A1cphtbVzU-8",
        "outputId": "1de5168a-a70c-46c5-ff7a-217255610d5b"
      },
      "execution_count": 17,
      "outputs": [
        {
          "output_type": "stream",
          "name": "stdout",
          "text": [
            "Prediksi menggunakan algoritma Naive Bayes menghasilkan label Positive memiliki persentase terbanyak sebesar 43.03 %\n"
          ]
        }
      ]
    },
    {
      "cell_type": "markdown",
      "metadata": {
        "id": "969Bv65DdNgv"
      },
      "source": [
        "## Algoritma SVM"
      ]
    },
    {
      "cell_type": "code",
      "execution_count": 18,
      "metadata": {
        "id": "aLeSBpIZdSBf"
      },
      "outputs": [],
      "source": [
        "from sklearn.model_selection import GridSearchCV\n",
        "from sklearn.svm import SVC\n",
        "\n",
        "#Menggunakan GridSearch dengan fold 6 (melalui cv = 6)\n",
        "param_grid = {'C': [1e2, 1e3, 5e3, 1e4, 5e4, 1e5],\n",
        "              'gamma': [0.0001, 0.0005, 0.001, 0.005, 0.01, 0.1], }\n",
        "clf = GridSearchCV(SVC(kernel='rbf', class_weight='balanced'), param_grid, cv = 6)\n",
        "clf.fit(X_train_corpus.toarray(), y_train)\n",
        "pred = clf.predict(X_test_corpus.toarray())\n",
        "model.fit(X_train_corpus.toarray(), y_train)\n",
        "y_pred= model.predict((X_test_corpus.toarray()))"
      ]
    },
    {
      "cell_type": "code",
      "execution_count": 19,
      "metadata": {
        "colab": {
          "base_uri": "https://localhost:8080/"
        },
        "id": "WRApY4tSeX8V",
        "outputId": "c0288c35-e6f9-44b6-ff6b-01fecc4a0451"
      },
      "outputs": [
        {
          "output_type": "stream",
          "name": "stdout",
          "text": [
            "SVC(C=100.0, class_weight='balanced', gamma=0.1)\n"
          ]
        }
      ],
      "source": [
        "print(clf.best_estimator_)"
      ]
    },
    {
      "cell_type": "code",
      "execution_count": 20,
      "metadata": {
        "colab": {
          "base_uri": "https://localhost:8080/"
        },
        "id": "wgFe7LxhdWHa",
        "outputId": "a7b5031f-a9b5-4103-a557-972bbf6ce340"
      },
      "outputs": [
        {
          "output_type": "stream",
          "name": "stdout",
          "text": [
            "Accuracy Score = 0.82\n",
            "Precission = 0.82\n",
            "Recall = 0.82\n",
            "F-Score = 0.82\n"
          ]
        }
      ],
      "source": [
        "_accuracy   = accuracy_score(y_test, pred)\n",
        "_precission = precision_score(y_test, pred, average='micro')\n",
        "_recall     = recall_score(y_test, pred, average='micro')\n",
        "_fscore     = f1_score(y_test, pred, average='micro')\n",
        "\n",
        "print('Accuracy Score =', \"{:.2f}\".format(_accuracy))\n",
        "print('Precission =', \"{:.2f}\".format(_precission))\n",
        "print('Recall =', \"{:.2f}\".format(_recall))\n",
        "print('F-Score =', \"{:.2f}\".format(_fscore))"
      ]
    },
    {
      "cell_type": "code",
      "execution_count": 21,
      "metadata": {
        "colab": {
          "base_uri": "https://localhost:8080/"
        },
        "id": "1Kd9G57Jehjb",
        "outputId": "5e0e1340-5732-49ba-f24f-c629e12a9d86"
      },
      "outputs": [
        {
          "output_type": "stream",
          "name": "stdout",
          "text": [
            "              precision    recall  f1-score   support\n",
            "\n",
            "          -1       0.77      0.77      0.77        98\n",
            "           0       0.82      0.88      0.85       223\n",
            "           1       0.86      0.69      0.77        81\n",
            "\n",
            "    accuracy                           0.82       402\n",
            "   macro avg       0.82      0.78      0.80       402\n",
            "weighted avg       0.82      0.82      0.81       402\n",
            "\n"
          ]
        }
      ],
      "source": [
        "# Menghitung nilai akurasi dari klasifikasi SVM \n",
        "from sklearn.metrics import classification_report\n",
        "print(classification_report(y_test, pred))"
      ]
    },
    {
      "cell_type": "code",
      "execution_count": 22,
      "metadata": {
        "colab": {
          "base_uri": "https://localhost:8080/",
          "height": 295
        },
        "id": "DWOwNxQfenJV",
        "outputId": "f34fb365-a6e4-4721-b9be-fb88d74efc0a"
      },
      "outputs": [
        {
          "output_type": "display_data",
          "data": {
            "text/plain": [
              "<Figure size 432x288 with 2 Axes>"
            ],
            "image/png": "[encoded data removed]"
          },
          "metadata": {
            "needs_background": "light"
          }
        }
      ],
      "source": [
        "# confusion matrix\n",
        "import seaborn as sns\n",
        "import matplotlib.pyplot as plt\n",
        "    \n",
        "Confusion_matrix = confusion_matrix(y_test, pred, labels=[1,0,-1])\n",
        "class_label      = ['Positive', 'Neutral','Negative']\n",
        "df_confusion     = pd.DataFrame(Confusion_matrix, index = class_label, columns = class_label)\n",
        "sns.heatmap(df_confusion, annot=True, fmt = \"d\", cmap=plt.cm.Blues)\n",
        "plt.title('Confusion Matrix')\n",
        "plt.xlabel('Prediction Label')\n",
        "plt.ylabel('Actual Label')\n",
        "plt.show()"
      ]
    },
    {
      "cell_type": "code",
      "source": [
        "#persentase label hasil prediksi menggunakan algoritma SVM\n",
        "df_result_svm = pd.DataFrame({'prediksi':pred})\n",
        "\n",
        "pd.options.display.float_format = '{:,.2f}%'.format\n",
        "df_persen_svm = pd.DataFrame(df_result_svm['prediksi'].value_counts()/df_result_svm['prediksi'].count()*100)\n",
        "df_persen_svm = df_persen_svm.rename(index={-1:'Negative', 0:'Neutral', 1:'Positive'})\n",
        "df_persen_svm"
      ],
      "metadata": {
        "colab": {
          "base_uri": "https://localhost:8080/",
          "height": 143
        },
        "id": "jI9ErIrrzW_F",
        "outputId": "b8819f5e-bee6-4050-f066-25989e104677"
      },
      "execution_count": 23,
      "outputs": [
        {
          "output_type": "execute_result",
          "data": {
            "text/plain": [
              "          prediksi\n",
              "Neutral     59.70%\n",
              "Negative    24.13%\n",
              "Positive    16.17%"
            ],
            "text/html": [
              "\n",
              "  <div id=\"df-7c749e81-4e00-47df-928b-9320c2a3943c\">\n",
              "    <div class=\"colab-df-container\">\n",
              "      <div>\n",
              "<style scoped>\n",
              "    .dataframe tbody tr th:only-of-type {\n",
              "        vertical-align: middle;\n",
              "    }\n",
              "\n",
              "    .dataframe tbody tr th {\n",
              "        vertical-align: top;\n",
              "    }\n",
              "\n",
              "    .dataframe thead th {\n",
              "        text-align: right;\n",
              "    }\n",
              "</style>\n",
              "<table border=\"1\" class=\"dataframe\">\n",
              "  <thead>\n",
              "    <tr style=\"text-align: right;\">\n",
              "      <th></th>\n",
              "      <th>prediksi</th>\n",
              "    </tr>\n",
              "  </thead>\n",
              "  <tbody>\n",
              "    <tr>\n",
              "      <th>Neutral</th>\n",
              "      <td>59.70%</td>\n",
              "    </tr>\n",
              "    <tr>\n",
              "      <th>Negative</th>\n",
              "      <td>24.13%</td>\n",
              "    </tr>\n",
              "    <tr>\n",
              "      <th>Positive</th>\n",
              "      <td>16.17%</td>\n",
              "    </tr>\n",
              "  </tbody>\n",
              "</table>\n",
              "</div>\n",
              "      <button class=\"colab-df-convert\" onclick=\"convertToInteractive('df-7c749e81-4e00-47df-928b-9320c2a3943c')\"\n",
              "              title=\"Convert this dataframe to an interactive table.\"\n",
              "              style=\"display:none;\">\n",
              "        \n",
              "  <svg xmlns=\"http://www.w3.org/2000/svg\" height=\"24px\"viewBox=\"0 0 24 24\"\n",
              "       width=\"24px\">\n",
              "    <path d=\"M0 0h24v24H0V0z\" fill=\"none\"/>\n",
              "    <path d=\"M18.56 5.44l.94 2.06.94-2.06 2.06-.94-2.06-.94-.94-2.06-.94 2.06-2.06.94zm-11 1L8.5 8.5l.94-2.06 2.06-.94-2.06-.94L8.5 2.5l-.94 2.06-2.06.94zm10 10l.94 2.06.94-2.06 2.06-.94-2.06-.94-.94-2.06-.94 2.06-2.06.94z\"/><path d=\"M17.41 7.96l-1.37-1.37c-.4-.4-.92-.59-1.43-.59-.52 0-1.04.2-1.43.59L10.3 9.45l-7.72 7.72c-.78.78-.78 2.05 0 2.83L4 21.41c.39.39.9.59 1.41.59.51 0 1.02-.2 1.41-.59l7.78-7.78 2.81-2.81c.8-.78.8-2.07 0-2.86zM5.41 20L4 18.59l7.72-7.72 1.47 1.35L5.41 20z\"/>\n",
              "  </svg>\n",
              "      </button>\n",
              "      \n",
              "  <style>\n",
              "    .colab-df-container {\n",
              "      display:flex;\n",
              "      flex-wrap:wrap;\n",
              "      gap: 12px;\n",
              "    }\n",
              "\n",
              "    .colab-df-convert {\n",
              "      background-color: #E8F0FE;\n",
              "      border: none;\n",
              "      border-radius: 50%;\n",
              "      cursor: pointer;\n",
              "      display: none;\n",
              "      fill: #1967D2;\n",
              "      height: 32px;\n",
              "      padding: 0 0 0 0;\n",
              "      width: 32px;\n",
              "    }\n",
              "\n",
              "    .colab-df-convert:hover {\n",
              "      background-color: #E2EBFA;\n",
              "      box-shadow: 0px 1px 2px rgba(60, 64, 67, 0.3), 0px 1px 3px 1px rgba(60, 64, 67, 0.15);\n",
              "      fill: #174EA6;\n",
              "    }\n",
              "\n",
              "    [theme=dark] .colab-df-convert {\n",
              "      background-color: #3B4455;\n",
              "      fill: #D2E3FC;\n",
              "    }\n",
              "\n",
              "    [theme=dark] .colab-df-convert:hover {\n",
              "      background-color: #434B5C;\n",
              "      box-shadow: 0px 1px 3px 1px rgba(0, 0, 0, 0.15);\n",
              "      filter: drop-shadow(0px 1px 2px rgba(0, 0, 0, 0.3));\n",
              "      fill: #FFFFFF;\n",
              "    }\n",
              "  </style>\n",
              "\n",
              "      <script>\n",
              "        const buttonEl =\n",
              "          document.querySelector('#df-7c749e81-4e00-47df-928b-9320c2a3943c button.colab-df-convert');\n",
              "        buttonEl.style.display =\n",
              "          google.colab.kernel.accessAllowed ? 'block' : 'none';\n",
              "\n",
              "        async function convertToInteractive(key) {\n",
              "          const element = document.querySelector('#df-7c749e81-4e00-47df-928b-9320c2a3943c');\n",
              "          const dataTable =\n",
              "            await google.colab.kernel.invokeFunction('convertToInteractive',\n",
              "                                                     [key], {});\n",
              "          if (!dataTable) return;\n",
              "\n",
              "          const docLinkHtml = 'Like what you see? Visit the ' +\n",
              "            '<a target=\"_blank\" href=https://colab.research.google.com/notebooks/data_table.ipynb>data table notebook</a>'\n",
              "            + ' to learn more about interactive tables.';\n",
              "          element.innerHTML = '';\n",
              "          dataTable['output_type'] = 'display_data';\n",
              "          await google.colab.output.renderOutput(dataTable, element);\n",
              "          const docLink = document.createElement('div');\n",
              "          docLink.innerHTML = docLinkHtml;\n",
              "          element.appendChild(docLink);\n",
              "        }\n",
              "      </script>\n",
              "    </div>\n",
              "  </div>\n",
              "  "
            ]
          },
          "metadata": {},
          "execution_count": 23
        }
      ]
    },
    {
      "cell_type": "code",
      "source": [
        "print('Label', df_persen_svm.index[0] ,'memiliki persentase sebesar', '{:,.2f}'.format(df_persen_svm['prediksi'][0]), '%')\n",
        "print('Label', df_persen_svm.index[1] ,'memiliki persentase sebesar', '{:,.2f}'.format(df_persen_svm['prediksi'][1]), '%')\n",
        "print('Label', df_persen_svm.index[2] ,'memiliki persentase sebesar', '{:,.2f}'.format(df_persen_svm['prediksi'][2]), '%')"
      ],
      "metadata": {
        "colab": {
          "base_uri": "https://localhost:8080/"
        },
        "id": "Gga5-Ox_y8EE",
        "outputId": "6e05450e-1c44-452b-a4ed-f013629f968d"
      },
      "execution_count": 24,
      "outputs": [
        {
          "output_type": "stream",
          "name": "stdout",
          "text": [
            "Label Neutral memiliki persentase sebesar 59.70 %\n",
            "Label Negative memiliki persentase sebesar 24.13 %\n",
            "Label Positive memiliki persentase sebesar 16.17 %\n"
          ]
        }
      ]
    },
    {
      "cell_type": "code",
      "source": [
        "print('Prediksi menggunakan algoritma SVM menghasilkan label', df_persen_svm['prediksi'].idxmax() ,'memiliki persentase terbanyak sebesar', '{:,.2f}'.format(max(df_persen_svm['prediksi']), 2), '%')"
      ],
      "metadata": {
        "colab": {
          "base_uri": "https://localhost:8080/"
        },
        "id": "CREbn4qYzW2l",
        "outputId": "976f9a35-82f5-404d-a7dc-c4442935555e"
      },
      "execution_count": 25,
      "outputs": [
        {
          "output_type": "stream",
          "name": "stdout",
          "text": [
            "Prediksi menggunakan algoritma SVM menghasilkan label Neutral memiliki persentase terbanyak sebesar 59.70 %\n"
          ]
        }
      ]
    },
    {
      "cell_type": "markdown",
      "source": [
        "## Persentase label"
      ],
      "metadata": {
        "id": "Y_koxITz1Kn7"
      }
    },
    {
      "cell_type": "code",
      "source": [
        "#persentase label dataset\n",
        "pd.options.display.float_format = '{:,.2f}%'.format\n",
        "df_persen = pd.DataFrame(df['label'].value_counts()/df['label'].count()*100)\n",
        "df_persen = df_persen.rename(index={-1:'Negative', 0:'Neutral', 1:'Positive'})\n",
        "df_persen = df_persen.rename(columns={'label':'Persentase'})\n",
        "df_persen"
      ],
      "metadata": {
        "colab": {
          "base_uri": "https://localhost:8080/",
          "height": 143
        },
        "id": "gUpCrO1MFaqu",
        "outputId": "c355ce78-0759-4391-f699-a55440ba0d05"
      },
      "execution_count": 26,
      "outputs": [
        {
          "output_type": "execute_result",
          "data": {
            "text/plain": [
              "          Persentase\n",
              "Neutral       54.89%\n",
              "Negative      25.92%\n",
              "Positive      19.19%"
            ],
            "text/html": [
              "\n",
              "  <div id=\"df-60f58276-eaba-4e81-a8a4-4ed13fd1e0e5\">\n",
              "    <div class=\"colab-df-container\">\n",
              "      <div>\n",
              "<style scoped>\n",
              "    .dataframe tbody tr th:only-of-type {\n",
              "        vertical-align: middle;\n",
              "    }\n",
              "\n",
              "    .dataframe tbody tr th {\n",
              "        vertical-align: top;\n",
              "    }\n",
              "\n",
              "    .dataframe thead th {\n",
              "        text-align: right;\n",
              "    }\n",
              "</style>\n",
              "<table border=\"1\" class=\"dataframe\">\n",
              "  <thead>\n",
              "    <tr style=\"text-align: right;\">\n",
              "      <th></th>\n",
              "      <th>Persentase</th>\n",
              "    </tr>\n",
              "  </thead>\n",
              "  <tbody>\n",
              "    <tr>\n",
              "      <th>Neutral</th>\n",
              "      <td>54.89%</td>\n",
              "    </tr>\n",
              "    <tr>\n",
              "      <th>Negative</th>\n",
              "      <td>25.92%</td>\n",
              "    </tr>\n",
              "    <tr>\n",
              "      <th>Positive</th>\n",
              "      <td>19.19%</td>\n",
              "    </tr>\n",
              "  </tbody>\n",
              "</table>\n",
              "</div>\n",
              "      <button class=\"colab-df-convert\" onclick=\"convertToInteractive('df-60f58276-eaba-4e81-a8a4-4ed13fd1e0e5')\"\n",
              "              title=\"Convert this dataframe to an interactive table.\"\n",
              "              style=\"display:none;\">\n",
              "        \n",
              "  <svg xmlns=\"http://www.w3.org/2000/svg\" height=\"24px\"viewBox=\"0 0 24 24\"\n",
              "       width=\"24px\">\n",
              "    <path d=\"M0 0h24v24H0V0z\" fill=\"none\"/>\n",
              "    <path d=\"M18.56 5.44l.94 2.06.94-2.06 2.06-.94-2.06-.94-.94-2.06-.94 2.06-2.06.94zm-11 1L8.5 8.5l.94-2.06 2.06-.94-2.06-.94L8.5 2.5l-.94 2.06-2.06.94zm10 10l.94 2.06.94-2.06 2.06-.94-2.06-.94-.94-2.06-.94 2.06-2.06.94z\"/><path d=\"M17.41 7.96l-1.37-1.37c-.4-.4-.92-.59-1.43-.59-.52 0-1.04.2-1.43.59L10.3 9.45l-7.72 7.72c-.78.78-.78 2.05 0 2.83L4 21.41c.39.39.9.59 1.41.59.51 0 1.02-.2 1.41-.59l7.78-7.78 2.81-2.81c.8-.78.8-2.07 0-2.86zM5.41 20L4 18.59l7.72-7.72 1.47 1.35L5.41 20z\"/>\n",
              "  </svg>\n",
              "      </button>\n",
              "      \n",
              "  <style>\n",
              "    .colab-df-container {\n",
              "      display:flex;\n",
              "      flex-wrap:wrap;\n",
              "      gap: 12px;\n",
              "    }\n",
              "\n",
              "    .colab-df-convert {\n",
              "      background-color: #E8F0FE;\n",
              "      border: none;\n",
              "      border-radius: 50%;\n",
              "      cursor: pointer;\n",
              "      display: none;\n",
              "      fill: #1967D2;\n",
              "      height: 32px;\n",
              "      padding: 0 0 0 0;\n",
              "      width: 32px;\n",
              "    }\n",
              "\n",
              "    .colab-df-convert:hover {\n",
              "      background-color: #E2EBFA;\n",
              "      box-shadow: 0px 1px 2px rgba(60, 64, 67, 0.3), 0px 1px 3px 1px rgba(60, 64, 67, 0.15);\n",
              "      fill: #174EA6;\n",
              "    }\n",
              "\n",
              "    [theme=dark] .colab-df-convert {\n",
              "      background-color: #3B4455;\n",
              "      fill: #D2E3FC;\n",
              "    }\n",
              "\n",
              "    [theme=dark] .colab-df-convert:hover {\n",
              "      background-color: #434B5C;\n",
              "      box-shadow: 0px 1px 3px 1px rgba(0, 0, 0, 0.15);\n",
              "      filter: drop-shadow(0px 1px 2px rgba(0, 0, 0, 0.3));\n",
              "      fill: #FFFFFF;\n",
              "    }\n",
              "  </style>\n",
              "\n",
              "      <script>\n",
              "        const buttonEl =\n",
              "          document.querySelector('#df-60f58276-eaba-4e81-a8a4-4ed13fd1e0e5 button.colab-df-convert');\n",
              "        buttonEl.style.display =\n",
              "          google.colab.kernel.accessAllowed ? 'block' : 'none';\n",
              "\n",
              "        async function convertToInteractive(key) {\n",
              "          const element = document.querySelector('#df-60f58276-eaba-4e81-a8a4-4ed13fd1e0e5');\n",
              "          const dataTable =\n",
              "            await google.colab.kernel.invokeFunction('convertToInteractive',\n",
              "                                                     [key], {});\n",
              "          if (!dataTable) return;\n",
              "\n",
              "          const docLinkHtml = 'Like what you see? Visit the ' +\n",
              "            '<a target=\"_blank\" href=https://colab.research.google.com/notebooks/data_table.ipynb>data table notebook</a>'\n",
              "            + ' to learn more about interactive tables.';\n",
              "          element.innerHTML = '';\n",
              "          dataTable['output_type'] = 'display_data';\n",
              "          await google.colab.output.renderOutput(dataTable, element);\n",
              "          const docLink = document.createElement('div');\n",
              "          docLink.innerHTML = docLinkHtml;\n",
              "          element.appendChild(docLink);\n",
              "        }\n",
              "      </script>\n",
              "    </div>\n",
              "  </div>\n",
              "  "
            ]
          },
          "metadata": {},
          "execution_count": 26
        }
      ]
    },
    {
      "cell_type": "code",
      "source": [
        "print('Label', df_persen.index[0] ,'memiliki persentase sebesar','{:,.2f}'.format( df_persen['Persentase'][0]), '%')\n",
        "print('Label', df_persen.index[1] ,'memiliki persentase sebesar', '{:,.2f}'.format(df_persen['Persentase'][1]), '%')\n",
        "print('Label', df_persen.index[2] ,'memiliki persentase sebesar', '{:,.2f}'.format(df_persen['Persentase'][2]), '%')"
      ],
      "metadata": {
        "colab": {
          "base_uri": "https://localhost:8080/"
        },
        "id": "anmneojOzFGf",
        "outputId": "45daf564-677d-4769-f318-a9d1cc0e6456"
      },
      "execution_count": 28,
      "outputs": [
        {
          "output_type": "stream",
          "name": "stdout",
          "text": [
            "Label Neutral memiliki persentase sebesar 54.89 %\n",
            "Label Negative memiliki persentase sebesar 25.92 %\n",
            "Label Positive memiliki persentase sebesar 19.19 %\n"
          ]
        }
      ]
    },
    {
      "cell_type": "code",
      "source": [
        "print('Label', df_persen['Persentase'].idxmax() ,'memiliki persentase terbanyak sebesar', '{:,.2f}'.format(max(df_persen['Persentase']), 2), '%')"
      ],
      "metadata": {
        "colab": {
          "base_uri": "https://localhost:8080/"
        },
        "id": "pcuF9AOYMNPK",
        "outputId": "95818395-1ac3-4281-88ce-d8a8f39962b5"
      },
      "execution_count": 29,
      "outputs": [
        {
          "output_type": "stream",
          "name": "stdout",
          "text": [
            "Label Neutral memiliki persentase terbanyak sebesar 54.89 %\n"
          ]
        }
      ]
    }
  ],
  "metadata": {
    "colab": {
      "collapsed_sections": [],
      "provenance": []
    },
    "kernelspec": {
      "display_name": "Python 3 (ipykernel)",
      "language": "python",
      "name": "python3"
    },
    "language_info": {
      "codemirror_mode": {
        "name": "ipython",
        "version": 3
      },
      "file_extension": ".py",
      "mimetype": "text/x-python",
      "name": "python",
      "nbconvert_exporter": "python",
      "pygments_lexer": "ipython3",
      "version": "3.8.10"
    }
  },
  "nbformat": 4,
  "nbformat_minor": 0
}