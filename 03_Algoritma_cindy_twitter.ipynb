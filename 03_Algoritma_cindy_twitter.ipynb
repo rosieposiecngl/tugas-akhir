{
  "cells": [
    {
      "cell_type": "code",
      "execution_count": 2,
      "metadata": {
        "id": "K07lfYCfbiPu"
      },
      "outputs": [],
      "source": [
        "import pandas as pd\n",
        "from nltk.corpus import stopwords\n",
        "from sklearn.metrics import accuracy_score, confusion_matrix, precision_score, recall_score, f1_score\n",
        "from sklearn.naive_bayes import GaussianNB\n",
        "from sklearn.feature_extraction.text import TfidfVectorizer\n",
        "from sklearn.model_selection import train_test_split\n",
        "import numpy as np"
      ]
    },
    {
      "cell_type": "code",
      "execution_count": 4,
      "metadata": {
        "colab": {
          "base_uri": "https://localhost:8080/",
          "height": 659
        },
        "id": "64dK2xWYbyPp",
        "outputId": "fe8b66b9-ba3e-4408-e017-eb0be576a9d4"
      },
      "outputs": [
        {
          "output_type": "execute_result",
          "data": {
            "text/plain": [
              "     Unnamed: 0                   id                 date             user  \\\n",
              "0             0  1535059785665478656  2022-06-10 00:42:27      DiagaPaiker   \n",
              "1             1  1535048183424106498  2022-06-09 23:56:21     chalistamall   \n",
              "2             2  1535034965510934529  2022-06-09 23:03:50         romiaann   \n",
              "3             3  1535031570629021696  2022-06-09 22:50:20       sundarkeu_   \n",
              "4             4  1535026983469740032  2022-06-09 22:32:06     aburnin6hill   \n",
              "..          ...                  ...                  ...              ...   \n",
              "612         612  1541757928944074753  2022-06-28 12:18:29         Koovelly   \n",
              "613         613  1541739415684251648  2022-06-28 11:04:55        berminyaq   \n",
              "614         614  1541738920790360066  2022-06-28 11:02:57    Istrigongyoo_   \n",
              "615         615  1541729275098763264  2022-06-28 10:24:37    itsdinaamalia   \n",
              "616         616  1541727647348051969  2022-06-28 10:18:09  21BeritaTerkini   \n",
              "\n",
              "                                                 tweet  \\\n",
              "0    @Muhdzahir @hrdbacot Biar mudah di pahami, mir...   \n",
              "1    #Jubahoperasi Jubah operasi\\n#Apdgown  Apd Gow...   \n",
              "2    Tapi kok dokter2/tenaga medis gak jelasin ya? ...   \n",
              "3    Gimana ya, para dokter atau tenaga medis lain ...   \n",
              "4    @mediocrickey semua itu ga bakal terjadi kalo ...   \n",
              "..                                                 ...   \n",
              "612  @lix_lee007 kohhh butuh staff apa ga gitu?? ka...   \n",
              "613  banyak org pergi ke penang u/berobat, pertanya...   \n",
              "614  @andinapungkii @IbrahimCholid @xyzdnaa @UpWani...   \n",
              "615  Sendernya medstud bukan ni? Klo iya parah siii...   \n",
              "616  Kondisi Terkini Marshanda Diungkap Sahabat, sa...   \n",
              "\n",
              "                                                  stem  label  \\\n",
              "0    biar mudah paham tenaga sehat pns dokter pppk ...      1   \n",
              "1    jubah operasi apd gown surgical gown jubah ope...     -1   \n",
              "2    dokter tenaga medis jelasin ya orang kritis hm...     -1   \n",
              "3    gimana ya dokter tenaga medis tuh ngasih tau p...     -1   \n",
              "4    ga kalo indonesia bijak safe abortions kaya uk...      1   \n",
              "..                                                 ...    ...   \n",
              "612  kohhh butuh staff ga gitu kalo tenaga medis gi...      0   \n",
              "613  org pergi nang u obat tanya kualitas obat indo...      1   \n",
              "614  hbs operasi ruang recovery ga ditemenin keluar...      0   \n",
              "615  sender medstud ni iya parah siii calon tenaga ...      0   \n",
              "616  kondisi kini marshanda ungkap sahabat sang art...      0   \n",
              "\n",
              "                                            tokenizing  \n",
              "0    ['biar', 'mudah', 'di', 'pahami', 'mirip', 'se...  \n",
              "1    ['jubah', 'operasi', 'apd', 'gown', 'surgical'...  \n",
              "2    ['tapi', 'kok', 'dokter', 'tenaga', 'medis', '...  \n",
              "3    ['gimana', 'ya', 'para', 'dokter', 'atau', 'te...  \n",
              "4    ['semua', 'itu', 'ga', 'bakal', 'terjadi', 'ka...  \n",
              "..                                                 ...  \n",
              "612  ['kohhh', 'butuh', 'staff', 'apa', 'ga', 'gitu...  \n",
              "613  ['banyak', 'org', 'pergi', 'ke', 'penang', 'u'...  \n",
              "614  ['aku', 'dulu', 'hbs', 'operasi', 'di', 'ruang...  \n",
              "615  ['sendernya', 'medstud', 'bukan', 'ni', 'klo',...  \n",
              "616  ['kondisi', 'terkini', 'marshanda', 'diungkap'...  \n",
              "\n",
              "[617 rows x 8 columns]"
            ],
            "text/html": [
              "\n",
              "  <div id=\"df-c13a7fef-66dd-40d6-883e-458c9d5848ce\">\n",
              "    <div class=\"colab-df-container\">\n",
              "      <div>\n",
              "<style scoped>\n",
              "    .dataframe tbody tr th:only-of-type {\n",
              "        vertical-align: middle;\n",
              "    }\n",
              "\n",
              "    .dataframe tbody tr th {\n",
              "        vertical-align: top;\n",
              "    }\n",
              "\n",
              "    .dataframe thead th {\n",
              "        text-align: right;\n",
              "    }\n",
              "</style>\n",
              "<table border=\"1\" class=\"dataframe\">\n",
              "  <thead>\n",
              "    <tr style=\"text-align: right;\">\n",
              "      <th></th>\n",
              "      <th>Unnamed: 0</th>\n",
              "      <th>id</th>\n",
              "      <th>date</th>\n",
              "      <th>user</th>\n",
              "      <th>tweet</th>\n",
              "      <th>stem</th>\n",
              "      <th>label</th>\n",
              "      <th>tokenizing</th>\n",
              "    </tr>\n",
              "  </thead>\n",
              "  <tbody>\n",
              "    <tr>\n",
              "      <th>0</th>\n",
              "      <td>0</td>\n",
              "      <td>1535059785665478656</td>\n",
              "      <td>2022-06-10 00:42:27</td>\n",
              "      <td>DiagaPaiker</td>\n",
              "      <td>@Muhdzahir @hrdbacot Biar mudah di pahami, mir...</td>\n",
              "      <td>biar mudah paham tenaga sehat pns dokter pppk ...</td>\n",
              "      <td>1</td>\n",
              "      <td>['biar', 'mudah', 'di', 'pahami', 'mirip', 'se...</td>\n",
              "    </tr>\n",
              "    <tr>\n",
              "      <th>1</th>\n",
              "      <td>1</td>\n",
              "      <td>1535048183424106498</td>\n",
              "      <td>2022-06-09 23:56:21</td>\n",
              "      <td>chalistamall</td>\n",
              "      <td>#Jubahoperasi Jubah operasi\\n#Apdgown  Apd Gow...</td>\n",
              "      <td>jubah operasi apd gown surgical gown jubah ope...</td>\n",
              "      <td>-1</td>\n",
              "      <td>['jubah', 'operasi', 'apd', 'gown', 'surgical'...</td>\n",
              "    </tr>\n",
              "    <tr>\n",
              "      <th>2</th>\n",
              "      <td>2</td>\n",
              "      <td>1535034965510934529</td>\n",
              "      <td>2022-06-09 23:03:50</td>\n",
              "      <td>romiaann</td>\n",
              "      <td>Tapi kok dokter2/tenaga medis gak jelasin ya? ...</td>\n",
              "      <td>dokter tenaga medis jelasin ya orang kritis hm...</td>\n",
              "      <td>-1</td>\n",
              "      <td>['tapi', 'kok', 'dokter', 'tenaga', 'medis', '...</td>\n",
              "    </tr>\n",
              "    <tr>\n",
              "      <th>3</th>\n",
              "      <td>3</td>\n",
              "      <td>1535031570629021696</td>\n",
              "      <td>2022-06-09 22:50:20</td>\n",
              "      <td>sundarkeu_</td>\n",
              "      <td>Gimana ya, para dokter atau tenaga medis lain ...</td>\n",
              "      <td>gimana ya dokter tenaga medis tuh ngasih tau p...</td>\n",
              "      <td>-1</td>\n",
              "      <td>['gimana', 'ya', 'para', 'dokter', 'atau', 'te...</td>\n",
              "    </tr>\n",
              "    <tr>\n",
              "      <th>4</th>\n",
              "      <td>4</td>\n",
              "      <td>1535026983469740032</td>\n",
              "      <td>2022-06-09 22:32:06</td>\n",
              "      <td>aburnin6hill</td>\n",
              "      <td>@mediocrickey semua itu ga bakal terjadi kalo ...</td>\n",
              "      <td>ga kalo indonesia bijak safe abortions kaya uk...</td>\n",
              "      <td>1</td>\n",
              "      <td>['semua', 'itu', 'ga', 'bakal', 'terjadi', 'ka...</td>\n",
              "    </tr>\n",
              "    <tr>\n",
              "      <th>...</th>\n",
              "      <td>...</td>\n",
              "      <td>...</td>\n",
              "      <td>...</td>\n",
              "      <td>...</td>\n",
              "      <td>...</td>\n",
              "      <td>...</td>\n",
              "      <td>...</td>\n",
              "      <td>...</td>\n",
              "    </tr>\n",
              "    <tr>\n",
              "      <th>612</th>\n",
              "      <td>612</td>\n",
              "      <td>1541757928944074753</td>\n",
              "      <td>2022-06-28 12:18:29</td>\n",
              "      <td>Koovelly</td>\n",
              "      <td>@lix_lee007 kohhh butuh staff apa ga gitu?? ka...</td>\n",
              "      <td>kohhh butuh staff ga gitu kalo tenaga medis gi...</td>\n",
              "      <td>0</td>\n",
              "      <td>['kohhh', 'butuh', 'staff', 'apa', 'ga', 'gitu...</td>\n",
              "    </tr>\n",
              "    <tr>\n",
              "      <th>613</th>\n",
              "      <td>613</td>\n",
              "      <td>1541739415684251648</td>\n",
              "      <td>2022-06-28 11:04:55</td>\n",
              "      <td>berminyaq</td>\n",
              "      <td>banyak org pergi ke penang u/berobat, pertanya...</td>\n",
              "      <td>org pergi nang u obat tanya kualitas obat indo...</td>\n",
              "      <td>1</td>\n",
              "      <td>['banyak', 'org', 'pergi', 'ke', 'penang', 'u'...</td>\n",
              "    </tr>\n",
              "    <tr>\n",
              "      <th>614</th>\n",
              "      <td>614</td>\n",
              "      <td>1541738920790360066</td>\n",
              "      <td>2022-06-28 11:02:57</td>\n",
              "      <td>Istrigongyoo_</td>\n",
              "      <td>@andinapungkii @IbrahimCholid @xyzdnaa @UpWani...</td>\n",
              "      <td>hbs operasi ruang recovery ga ditemenin keluar...</td>\n",
              "      <td>0</td>\n",
              "      <td>['aku', 'dulu', 'hbs', 'operasi', 'di', 'ruang...</td>\n",
              "    </tr>\n",
              "    <tr>\n",
              "      <th>615</th>\n",
              "      <td>615</td>\n",
              "      <td>1541729275098763264</td>\n",
              "      <td>2022-06-28 10:24:37</td>\n",
              "      <td>itsdinaamalia</td>\n",
              "      <td>Sendernya medstud bukan ni? Klo iya parah siii...</td>\n",
              "      <td>sender medstud ni iya parah siii calon tenaga ...</td>\n",
              "      <td>0</td>\n",
              "      <td>['sendernya', 'medstud', 'bukan', 'ni', 'klo',...</td>\n",
              "    </tr>\n",
              "    <tr>\n",
              "      <th>616</th>\n",
              "      <td>616</td>\n",
              "      <td>1541727647348051969</td>\n",
              "      <td>2022-06-28 10:18:09</td>\n",
              "      <td>21BeritaTerkini</td>\n",
              "      <td>Kondisi Terkini Marshanda Diungkap Sahabat, sa...</td>\n",
              "      <td>kondisi kini marshanda ungkap sahabat sang art...</td>\n",
              "      <td>0</td>\n",
              "      <td>['kondisi', 'terkini', 'marshanda', 'diungkap'...</td>\n",
              "    </tr>\n",
              "  </tbody>\n",
              "</table>\n",
              "<p>617 rows × 8 columns</p>\n",
              "</div>\n",
              "      <button class=\"colab-df-convert\" onclick=\"convertToInteractive('df-c13a7fef-66dd-40d6-883e-458c9d5848ce')\"\n",
              "              title=\"Convert this dataframe to an interactive table.\"\n",
              "              style=\"display:none;\">\n",
              "        \n",
              "  <svg xmlns=\"http://www.w3.org/2000/svg\" height=\"24px\"viewBox=\"0 0 24 24\"\n",
              "       width=\"24px\">\n",
              "    <path d=\"M0 0h24v24H0V0z\" fill=\"none\"/>\n",
              "    <path d=\"M18.56 5.44l.94 2.06.94-2.06 2.06-.94-2.06-.94-.94-2.06-.94 2.06-2.06.94zm-11 1L8.5 8.5l.94-2.06 2.06-.94-2.06-.94L8.5 2.5l-.94 2.06-2.06.94zm10 10l.94 2.06.94-2.06 2.06-.94-2.06-.94-.94-2.06-.94 2.06-2.06.94z\"/><path d=\"M17.41 7.96l-1.37-1.37c-.4-.4-.92-.59-1.43-.59-.52 0-1.04.2-1.43.59L10.3 9.45l-7.72 7.72c-.78.78-.78 2.05 0 2.83L4 21.41c.39.39.9.59 1.41.59.51 0 1.02-.2 1.41-.59l7.78-7.78 2.81-2.81c.8-.78.8-2.07 0-2.86zM5.41 20L4 18.59l7.72-7.72 1.47 1.35L5.41 20z\"/>\n",
              "  </svg>\n",
              "      </button>\n",
              "      \n",
              "  <style>\n",
              "    .colab-df-container {\n",
              "      display:flex;\n",
              "      flex-wrap:wrap;\n",
              "      gap: 12px;\n",
              "    }\n",
              "\n",
              "    .colab-df-convert {\n",
              "      background-color: #E8F0FE;\n",
              "      border: none;\n",
              "      border-radius: 50%;\n",
              "      cursor: pointer;\n",
              "      display: none;\n",
              "      fill: #1967D2;\n",
              "      height: 32px;\n",
              "      padding: 0 0 0 0;\n",
              "      width: 32px;\n",
              "    }\n",
              "\n",
              "    .colab-df-convert:hover {\n",
              "      background-color: #E2EBFA;\n",
              "      box-shadow: 0px 1px 2px rgba(60, 64, 67, 0.3), 0px 1px 3px 1px rgba(60, 64, 67, 0.15);\n",
              "      fill: #174EA6;\n",
              "    }\n",
              "\n",
              "    [theme=dark] .colab-df-convert {\n",
              "      background-color: #3B4455;\n",
              "      fill: #D2E3FC;\n",
              "    }\n",
              "\n",
              "    [theme=dark] .colab-df-convert:hover {\n",
              "      background-color: #434B5C;\n",
              "      box-shadow: 0px 1px 3px 1px rgba(0, 0, 0, 0.15);\n",
              "      filter: drop-shadow(0px 1px 2px rgba(0, 0, 0, 0.3));\n",
              "      fill: #FFFFFF;\n",
              "    }\n",
              "  </style>\n",
              "\n",
              "      <script>\n",
              "        const buttonEl =\n",
              "          document.querySelector('#df-c13a7fef-66dd-40d6-883e-458c9d5848ce button.colab-df-convert');\n",
              "        buttonEl.style.display =\n",
              "          google.colab.kernel.accessAllowed ? 'block' : 'none';\n",
              "\n",
              "        async function convertToInteractive(key) {\n",
              "          const element = document.querySelector('#df-c13a7fef-66dd-40d6-883e-458c9d5848ce');\n",
              "          const dataTable =\n",
              "            await google.colab.kernel.invokeFunction('convertToInteractive',\n",
              "                                                     [key], {});\n",
              "          if (!dataTable) return;\n",
              "\n",
              "          const docLinkHtml = 'Like what you see? Visit the ' +\n",
              "            '<a target=\"_blank\" href=https://colab.research.google.com/notebooks/data_table.ipynb>data table notebook</a>'\n",
              "            + ' to learn more about interactive tables.';\n",
              "          element.innerHTML = '';\n",
              "          dataTable['output_type'] = 'display_data';\n",
              "          await google.colab.output.renderOutput(dataTable, element);\n",
              "          const docLink = document.createElement('div');\n",
              "          docLink.innerHTML = docLinkHtml;\n",
              "          element.appendChild(docLink);\n",
              "        }\n",
              "      </script>\n",
              "    </div>\n",
              "  </div>\n",
              "  "
            ]
          },
          "metadata": {},
          "execution_count": 4
        }
      ],
      "source": [
        "df = pd.read_csv('Dataset/dataset_labeling_twitter2.csv') #Read dataset\n",
        "df.to_numpy()\n",
        "df"
      ]
    },
    {
      "cell_type": "code",
      "execution_count": 5,
      "metadata": {
        "id": "NUu2tofJcCFf"
      },
      "outputs": [],
      "source": [
        "# Setup X & y \n",
        "X = list()\n",
        "y = list()\n",
        "\n",
        "for i, r in df.iterrows():\n",
        "    X.append(str(r['stem']))\n",
        "    y.append(r['label'])\n",
        "    \n",
        "X_train, X_test, y_train, y_test = train_test_split(X, y, test_size=0.25)"
      ]
    },
    {
      "cell_type": "code",
      "execution_count": 6,
      "metadata": {
        "colab": {
          "base_uri": "https://localhost:8080/",
          "height": 424
        },
        "id": "FommLvezcGnl",
        "outputId": "54259923-1b35-425c-b4d6-22886ab9ab37"
      },
      "outputs": [
        {
          "output_type": "execute_result",
          "data": {
            "text/plain": [
              "                                                  stem  label\n",
              "0    teroris sedia tenaga medis guru anak anak papu...      0\n",
              "1    puan perintah siaga dokter anak tenaga medis d...      0\n",
              "2            tenaga medis taruh sumpah uang dosa ampun     -1\n",
              "3    puluh tenaga medis terjun layan delegasi w man...      0\n",
              "4    adek awat magang bikin heboh kena jagat tenaga...      0\n",
              "..                                                 ...    ...\n",
              "457  innalillahi wainnailaihi rojiuun segenap jajar...     -1\n",
              "458  konten cringe no empathy tenaga medis gk indon...      0\n",
              "459         pas dokter cowok aja teriak leceh gilir si      0\n",
              "460  giat ikut pegawai orang warga bina pemasyrakat...     -1\n",
              "461            capek tenaga medis pacar mu aja bleh gk      0\n",
              "\n",
              "[462 rows x 2 columns]"
            ],
            "text/html": [
              "\n",
              "  <div id=\"df-b9f5c00d-8d09-4202-a16a-4e1e13578185\">\n",
              "    <div class=\"colab-df-container\">\n",
              "      <div>\n",
              "<style scoped>\n",
              "    .dataframe tbody tr th:only-of-type {\n",
              "        vertical-align: middle;\n",
              "    }\n",
              "\n",
              "    .dataframe tbody tr th {\n",
              "        vertical-align: top;\n",
              "    }\n",
              "\n",
              "    .dataframe thead th {\n",
              "        text-align: right;\n",
              "    }\n",
              "</style>\n",
              "<table border=\"1\" class=\"dataframe\">\n",
              "  <thead>\n",
              "    <tr style=\"text-align: right;\">\n",
              "      <th></th>\n",
              "      <th>stem</th>\n",
              "      <th>label</th>\n",
              "    </tr>\n",
              "  </thead>\n",
              "  <tbody>\n",
              "    <tr>\n",
              "      <th>0</th>\n",
              "      <td>teroris sedia tenaga medis guru anak anak papu...</td>\n",
              "      <td>0</td>\n",
              "    </tr>\n",
              "    <tr>\n",
              "      <th>1</th>\n",
              "      <td>puan perintah siaga dokter anak tenaga medis d...</td>\n",
              "      <td>0</td>\n",
              "    </tr>\n",
              "    <tr>\n",
              "      <th>2</th>\n",
              "      <td>tenaga medis taruh sumpah uang dosa ampun</td>\n",
              "      <td>-1</td>\n",
              "    </tr>\n",
              "    <tr>\n",
              "      <th>3</th>\n",
              "      <td>puluh tenaga medis terjun layan delegasi w man...</td>\n",
              "      <td>0</td>\n",
              "    </tr>\n",
              "    <tr>\n",
              "      <th>4</th>\n",
              "      <td>adek awat magang bikin heboh kena jagat tenaga...</td>\n",
              "      <td>0</td>\n",
              "    </tr>\n",
              "    <tr>\n",
              "      <th>...</th>\n",
              "      <td>...</td>\n",
              "      <td>...</td>\n",
              "    </tr>\n",
              "    <tr>\n",
              "      <th>457</th>\n",
              "      <td>innalillahi wainnailaihi rojiuun segenap jajar...</td>\n",
              "      <td>-1</td>\n",
              "    </tr>\n",
              "    <tr>\n",
              "      <th>458</th>\n",
              "      <td>konten cringe no empathy tenaga medis gk indon...</td>\n",
              "      <td>0</td>\n",
              "    </tr>\n",
              "    <tr>\n",
              "      <th>459</th>\n",
              "      <td>pas dokter cowok aja teriak leceh gilir si</td>\n",
              "      <td>0</td>\n",
              "    </tr>\n",
              "    <tr>\n",
              "      <th>460</th>\n",
              "      <td>giat ikut pegawai orang warga bina pemasyrakat...</td>\n",
              "      <td>-1</td>\n",
              "    </tr>\n",
              "    <tr>\n",
              "      <th>461</th>\n",
              "      <td>capek tenaga medis pacar mu aja bleh gk</td>\n",
              "      <td>0</td>\n",
              "    </tr>\n",
              "  </tbody>\n",
              "</table>\n",
              "<p>462 rows × 2 columns</p>\n",
              "</div>\n",
              "      <button class=\"colab-df-convert\" onclick=\"convertToInteractive('df-b9f5c00d-8d09-4202-a16a-4e1e13578185')\"\n",
              "              title=\"Convert this dataframe to an interactive table.\"\n",
              "              style=\"display:none;\">\n",
              "        \n",
              "  <svg xmlns=\"http://www.w3.org/2000/svg\" height=\"24px\"viewBox=\"0 0 24 24\"\n",
              "       width=\"24px\">\n",
              "    <path d=\"M0 0h24v24H0V0z\" fill=\"none\"/>\n",
              "    <path d=\"M18.56 5.44l.94 2.06.94-2.06 2.06-.94-2.06-.94-.94-2.06-.94 2.06-2.06.94zm-11 1L8.5 8.5l.94-2.06 2.06-.94-2.06-.94L8.5 2.5l-.94 2.06-2.06.94zm10 10l.94 2.06.94-2.06 2.06-.94-2.06-.94-.94-2.06-.94 2.06-2.06.94z\"/><path d=\"M17.41 7.96l-1.37-1.37c-.4-.4-.92-.59-1.43-.59-.52 0-1.04.2-1.43.59L10.3 9.45l-7.72 7.72c-.78.78-.78 2.05 0 2.83L4 21.41c.39.39.9.59 1.41.59.51 0 1.02-.2 1.41-.59l7.78-7.78 2.81-2.81c.8-.78.8-2.07 0-2.86zM5.41 20L4 18.59l7.72-7.72 1.47 1.35L5.41 20z\"/>\n",
              "  </svg>\n",
              "      </button>\n",
              "      \n",
              "  <style>\n",
              "    .colab-df-container {\n",
              "      display:flex;\n",
              "      flex-wrap:wrap;\n",
              "      gap: 12px;\n",
              "    }\n",
              "\n",
              "    .colab-df-convert {\n",
              "      background-color: #E8F0FE;\n",
              "      border: none;\n",
              "      border-radius: 50%;\n",
              "      cursor: pointer;\n",
              "      display: none;\n",
              "      fill: #1967D2;\n",
              "      height: 32px;\n",
              "      padding: 0 0 0 0;\n",
              "      width: 32px;\n",
              "    }\n",
              "\n",
              "    .colab-df-convert:hover {\n",
              "      background-color: #E2EBFA;\n",
              "      box-shadow: 0px 1px 2px rgba(60, 64, 67, 0.3), 0px 1px 3px 1px rgba(60, 64, 67, 0.15);\n",
              "      fill: #174EA6;\n",
              "    }\n",
              "\n",
              "    [theme=dark] .colab-df-convert {\n",
              "      background-color: #3B4455;\n",
              "      fill: #D2E3FC;\n",
              "    }\n",
              "\n",
              "    [theme=dark] .colab-df-convert:hover {\n",
              "      background-color: #434B5C;\n",
              "      box-shadow: 0px 1px 3px 1px rgba(0, 0, 0, 0.15);\n",
              "      filter: drop-shadow(0px 1px 2px rgba(0, 0, 0, 0.3));\n",
              "      fill: #FFFFFF;\n",
              "    }\n",
              "  </style>\n",
              "\n",
              "      <script>\n",
              "        const buttonEl =\n",
              "          document.querySelector('#df-b9f5c00d-8d09-4202-a16a-4e1e13578185 button.colab-df-convert');\n",
              "        buttonEl.style.display =\n",
              "          google.colab.kernel.accessAllowed ? 'block' : 'none';\n",
              "\n",
              "        async function convertToInteractive(key) {\n",
              "          const element = document.querySelector('#df-b9f5c00d-8d09-4202-a16a-4e1e13578185');\n",
              "          const dataTable =\n",
              "            await google.colab.kernel.invokeFunction('convertToInteractive',\n",
              "                                                     [key], {});\n",
              "          if (!dataTable) return;\n",
              "\n",
              "          const docLinkHtml = 'Like what you see? Visit the ' +\n",
              "            '<a target=\"_blank\" href=https://colab.research.google.com/notebooks/data_table.ipynb>data table notebook</a>'\n",
              "            + ' to learn more about interactive tables.';\n",
              "          element.innerHTML = '';\n",
              "          dataTable['output_type'] = 'display_data';\n",
              "          await google.colab.output.renderOutput(dataTable, element);\n",
              "          const docLink = document.createElement('div');\n",
              "          docLink.innerHTML = docLinkHtml;\n",
              "          element.appendChild(docLink);\n",
              "        }\n",
              "      </script>\n",
              "    </div>\n",
              "  </div>\n",
              "  "
            ]
          },
          "metadata": {},
          "execution_count": 6
        }
      ],
      "source": [
        "# Visualisasi Train Data\n",
        "train_data = {'stem':list(), 'label':list()}\n",
        "for xt in range(len(X_train)):\n",
        "    train_data['stem'].append(X_train[xt])\n",
        "    train_data['label'].append(y_train[xt])\n",
        "train_data = pd.DataFrame(train_data)\n",
        "train_data"
      ]
    },
    {
      "cell_type": "code",
      "execution_count": 7,
      "metadata": {
        "colab": {
          "base_uri": "https://localhost:8080/"
        },
        "id": "z9VIdLkfcHeE",
        "outputId": "7acb09dc-bdb9-4e17-a3ee-53d9ba3f58da"
      },
      "outputs": [
        {
          "output_type": "stream",
          "name": "stdout",
          "text": [
            "============================ TRAIN DATA ===============================\n",
            "Total Label Positive =  141\n",
            "Total Label Neutral =  187\n",
            "Total Label Negative =  134\n",
            "=======================================================================\n"
          ]
        }
      ],
      "source": [
        "## Menghitung setiap jumlah Negative, Neutral dan Positive yang ada di data train\n",
        "train_label_positive = 0\n",
        "train_label_negative = 0\n",
        "train_label_neutral = 0 #\n",
        "\n",
        "train_datasets = list()\n",
        "\n",
        "for index, row in train_data.iterrows():\n",
        "    if(row['stem'] != ''):\n",
        "        if(row['label'] == -1):\n",
        "            train_label_negative += 1\n",
        "        elif(row['label'] == 0):\n",
        "            train_label_neutral += 1 #\n",
        "        else:\n",
        "            train_label_positive  += 1\n",
        "\n",
        "        ## Append array train_data\n",
        "        to_append = {\n",
        "            'stemming_tweet' : row['stem'],\n",
        "            'label' : row['label']\n",
        "        }\n",
        "        train_datasets.append(to_append)\n",
        "print('============================ TRAIN DATA ===============================')     \n",
        "print('Total Label Positive = ', train_label_positive)\n",
        "print('Total Label Neutral = ', train_label_neutral) #\n",
        "print('Total Label Negative = ', train_label_negative)\n",
        "print('=======================================================================')"
      ]
    },
    {
      "cell_type": "code",
      "execution_count": 8,
      "metadata": {
        "colab": {
          "base_uri": "https://localhost:8080/",
          "height": 424
        },
        "id": "mpJyLc53cKId",
        "outputId": "fa65563a-cca6-48c1-c4e7-f9cb6b0f7159"
      },
      "outputs": [
        {
          "output_type": "execute_result",
          "data": {
            "text/plain": [
              "                                                  stem  label\n",
              "0    hbs operasi ruang recovery ga ditemenin keluar...      0\n",
              "1                    bnyk tenaga medis meng iya sueeee      0\n",
              "2    ngomong sikap global covid dg dlm konteks mana...     -1\n",
              "3    lu bayangin aja tenaga medis model gituuu nger...      1\n",
              "4    indonesia salah akun tenaga sehat kalo ngasih ...      1\n",
              "..                                                 ...    ...\n",
              "150  polda kodam tengah oap butuh tenaga medis tena...      0\n",
              "151  kalo turut ya wlwpun cm cerita org dekat buat ...      1\n",
              "152  rsud dr soehadi prijonegoro sragen limpah tena...      0\n",
              "153  jubah operasi apd gown surgical gown jubah ope...     -1\n",
              "154  suster mantri tukang kerja manusia papua sa na...     -1\n",
              "\n",
              "[155 rows x 2 columns]"
            ],
            "text/html": [
              "\n",
              "  <div id=\"df-01d07fbc-21a3-4107-9793-d8e79af59293\">\n",
              "    <div class=\"colab-df-container\">\n",
              "      <div>\n",
              "<style scoped>\n",
              "    .dataframe tbody tr th:only-of-type {\n",
              "        vertical-align: middle;\n",
              "    }\n",
              "\n",
              "    .dataframe tbody tr th {\n",
              "        vertical-align: top;\n",
              "    }\n",
              "\n",
              "    .dataframe thead th {\n",
              "        text-align: right;\n",
              "    }\n",
              "</style>\n",
              "<table border=\"1\" class=\"dataframe\">\n",
              "  <thead>\n",
              "    <tr style=\"text-align: right;\">\n",
              "      <th></th>\n",
              "      <th>stem</th>\n",
              "      <th>label</th>\n",
              "    </tr>\n",
              "  </thead>\n",
              "  <tbody>\n",
              "    <tr>\n",
              "      <th>0</th>\n",
              "      <td>hbs operasi ruang recovery ga ditemenin keluar...</td>\n",
              "      <td>0</td>\n",
              "    </tr>\n",
              "    <tr>\n",
              "      <th>1</th>\n",
              "      <td>bnyk tenaga medis meng iya sueeee</td>\n",
              "      <td>0</td>\n",
              "    </tr>\n",
              "    <tr>\n",
              "      <th>2</th>\n",
              "      <td>ngomong sikap global covid dg dlm konteks mana...</td>\n",
              "      <td>-1</td>\n",
              "    </tr>\n",
              "    <tr>\n",
              "      <th>3</th>\n",
              "      <td>lu bayangin aja tenaga medis model gituuu nger...</td>\n",
              "      <td>1</td>\n",
              "    </tr>\n",
              "    <tr>\n",
              "      <th>4</th>\n",
              "      <td>indonesia salah akun tenaga sehat kalo ngasih ...</td>\n",
              "      <td>1</td>\n",
              "    </tr>\n",
              "    <tr>\n",
              "      <th>...</th>\n",
              "      <td>...</td>\n",
              "      <td>...</td>\n",
              "    </tr>\n",
              "    <tr>\n",
              "      <th>150</th>\n",
              "      <td>polda kodam tengah oap butuh tenaga medis tena...</td>\n",
              "      <td>0</td>\n",
              "    </tr>\n",
              "    <tr>\n",
              "      <th>151</th>\n",
              "      <td>kalo turut ya wlwpun cm cerita org dekat buat ...</td>\n",
              "      <td>1</td>\n",
              "    </tr>\n",
              "    <tr>\n",
              "      <th>152</th>\n",
              "      <td>rsud dr soehadi prijonegoro sragen limpah tena...</td>\n",
              "      <td>0</td>\n",
              "    </tr>\n",
              "    <tr>\n",
              "      <th>153</th>\n",
              "      <td>jubah operasi apd gown surgical gown jubah ope...</td>\n",
              "      <td>-1</td>\n",
              "    </tr>\n",
              "    <tr>\n",
              "      <th>154</th>\n",
              "      <td>suster mantri tukang kerja manusia papua sa na...</td>\n",
              "      <td>-1</td>\n",
              "    </tr>\n",
              "  </tbody>\n",
              "</table>\n",
              "<p>155 rows × 2 columns</p>\n",
              "</div>\n",
              "      <button class=\"colab-df-convert\" onclick=\"convertToInteractive('df-01d07fbc-21a3-4107-9793-d8e79af59293')\"\n",
              "              title=\"Convert this dataframe to an interactive table.\"\n",
              "              style=\"display:none;\">\n",
              "        \n",
              "  <svg xmlns=\"http://www.w3.org/2000/svg\" height=\"24px\"viewBox=\"0 0 24 24\"\n",
              "       width=\"24px\">\n",
              "    <path d=\"M0 0h24v24H0V0z\" fill=\"none\"/>\n",
              "    <path d=\"M18.56 5.44l.94 2.06.94-2.06 2.06-.94-2.06-.94-.94-2.06-.94 2.06-2.06.94zm-11 1L8.5 8.5l.94-2.06 2.06-.94-2.06-.94L8.5 2.5l-.94 2.06-2.06.94zm10 10l.94 2.06.94-2.06 2.06-.94-2.06-.94-.94-2.06-.94 2.06-2.06.94z\"/><path d=\"M17.41 7.96l-1.37-1.37c-.4-.4-.92-.59-1.43-.59-.52 0-1.04.2-1.43.59L10.3 9.45l-7.72 7.72c-.78.78-.78 2.05 0 2.83L4 21.41c.39.39.9.59 1.41.59.51 0 1.02-.2 1.41-.59l7.78-7.78 2.81-2.81c.8-.78.8-2.07 0-2.86zM5.41 20L4 18.59l7.72-7.72 1.47 1.35L5.41 20z\"/>\n",
              "  </svg>\n",
              "      </button>\n",
              "      \n",
              "  <style>\n",
              "    .colab-df-container {\n",
              "      display:flex;\n",
              "      flex-wrap:wrap;\n",
              "      gap: 12px;\n",
              "    }\n",
              "\n",
              "    .colab-df-convert {\n",
              "      background-color: #E8F0FE;\n",
              "      border: none;\n",
              "      border-radius: 50%;\n",
              "      cursor: pointer;\n",
              "      display: none;\n",
              "      fill: #1967D2;\n",
              "      height: 32px;\n",
              "      padding: 0 0 0 0;\n",
              "      width: 32px;\n",
              "    }\n",
              "\n",
              "    .colab-df-convert:hover {\n",
              "      background-color: #E2EBFA;\n",
              "      box-shadow: 0px 1px 2px rgba(60, 64, 67, 0.3), 0px 1px 3px 1px rgba(60, 64, 67, 0.15);\n",
              "      fill: #174EA6;\n",
              "    }\n",
              "\n",
              "    [theme=dark] .colab-df-convert {\n",
              "      background-color: #3B4455;\n",
              "      fill: #D2E3FC;\n",
              "    }\n",
              "\n",
              "    [theme=dark] .colab-df-convert:hover {\n",
              "      background-color: #434B5C;\n",
              "      box-shadow: 0px 1px 3px 1px rgba(0, 0, 0, 0.15);\n",
              "      filter: drop-shadow(0px 1px 2px rgba(0, 0, 0, 0.3));\n",
              "      fill: #FFFFFF;\n",
              "    }\n",
              "  </style>\n",
              "\n",
              "      <script>\n",
              "        const buttonEl =\n",
              "          document.querySelector('#df-01d07fbc-21a3-4107-9793-d8e79af59293 button.colab-df-convert');\n",
              "        buttonEl.style.display =\n",
              "          google.colab.kernel.accessAllowed ? 'block' : 'none';\n",
              "\n",
              "        async function convertToInteractive(key) {\n",
              "          const element = document.querySelector('#df-01d07fbc-21a3-4107-9793-d8e79af59293');\n",
              "          const dataTable =\n",
              "            await google.colab.kernel.invokeFunction('convertToInteractive',\n",
              "                                                     [key], {});\n",
              "          if (!dataTable) return;\n",
              "\n",
              "          const docLinkHtml = 'Like what you see? Visit the ' +\n",
              "            '<a target=\"_blank\" href=https://colab.research.google.com/notebooks/data_table.ipynb>data table notebook</a>'\n",
              "            + ' to learn more about interactive tables.';\n",
              "          element.innerHTML = '';\n",
              "          dataTable['output_type'] = 'display_data';\n",
              "          await google.colab.output.renderOutput(dataTable, element);\n",
              "          const docLink = document.createElement('div');\n",
              "          docLink.innerHTML = docLinkHtml;\n",
              "          element.appendChild(docLink);\n",
              "        }\n",
              "      </script>\n",
              "    </div>\n",
              "  </div>\n",
              "  "
            ]
          },
          "metadata": {},
          "execution_count": 8
        }
      ],
      "source": [
        "# Visualisasi Test Data\n",
        "test_data = {'stem':list(), 'label':list()}\n",
        "for xt in range(len(X_test)):\n",
        "    test_data['stem'].append(X_test[xt])\n",
        "    test_data['label'].append(y_test[xt])\n",
        "test_data = pd.DataFrame(test_data)\n",
        "test_data"
      ]
    },
    {
      "cell_type": "code",
      "execution_count": 9,
      "metadata": {
        "colab": {
          "base_uri": "https://localhost:8080/"
        },
        "id": "cYO9oRrMcM1m",
        "outputId": "732b86b9-0633-41a1-9b5f-3fc3e6123fef"
      },
      "outputs": [
        {
          "output_type": "stream",
          "name": "stdout",
          "text": [
            "============================ Test DATA ===============================\n",
            "Total Label Positive =  40\n",
            "Total Label Negative =  42\n",
            "Total Label Neutral =  73\n",
            "=======================================================================\n"
          ]
        }
      ],
      "source": [
        "## Menghitung setiap jumlah Negative, Neutral dan Positive yang ada di data test\n",
        "test_label_positive = 0\n",
        "test_label_negative = 0\n",
        "test_label_neutral = 0\n",
        "\n",
        "test_datasets = list()\n",
        "\n",
        "for index, row in test_data.iterrows():\n",
        "    if(row['stem'] != ''):\n",
        "        if(row['label'] == -1):\n",
        "            test_label_negative += 1\n",
        "        elif(row['label'] == 0):\n",
        "            test_label_neutral += 1 #\n",
        "        else:\n",
        "            test_label_positive  += 1\n",
        "\n",
        "        ## Append array train_data\n",
        "        to_append = {\n",
        "            'stemming_tweet' : row['stem'],\n",
        "            'label' : row['label']\n",
        "        }\n",
        "        test_datasets.append(to_append)\n",
        "print('============================ Test DATA ===============================')     \n",
        "print('Total Label Positive = ', test_label_positive)\n",
        "print('Total Label Negative = ', test_label_negative)\n",
        "print('Total Label Neutral = ', test_label_neutral) #\n",
        "print('=======================================================================')"
      ]
    },
    {
      "cell_type": "code",
      "execution_count": 10,
      "metadata": {
        "colab": {
          "base_uri": "https://localhost:8080/"
        },
        "id": "KsGVRPYtcXQI",
        "outputId": "f479b5c1-eda5-4b53-ee49-47956a2d2b0f"
      },
      "outputs": [
        {
          "output_type": "execute_result",
          "data": {
            "text/plain": [
              "array(['abai', 'abdi', 'abi', ..., 'zealand', 'zee', 'zico'], dtype=object)"
            ]
          },
          "metadata": {},
          "execution_count": 10
        }
      ],
      "source": [
        "from sklearn.feature_extraction.text import TfidfVectorizer\n",
        "\n",
        "vectorizer     = TfidfVectorizer(norm='l2') # Membuat TF ID-F Vectorizer\n",
        "X_train_corpus = vectorizer.fit_transform(X_train) # Mencari vocabulary\n",
        "feature_names  = vectorizer.get_feature_names_out() # Mendapatkan Feature Names matrix\n",
        "feature_names"
      ]
    },
    {
      "cell_type": "code",
      "execution_count": 11,
      "metadata": {
        "id": "BZmItCr1ca1-"
      },
      "outputs": [],
      "source": [
        "X_test_corpus = vectorizer.transform(X_test) # Masukan corpus test ke matrix train\n",
        "\n",
        "df_vec_test = pd.DataFrame(X_test_corpus.toarray(), columns=feature_names)"
      ]
    },
    {
      "cell_type": "markdown",
      "metadata": {
        "id": "JYDfQ61vc7ei"
      },
      "source": [
        "## Algoritma Naive Bayes"
      ]
    },
    {
      "cell_type": "code",
      "execution_count": 12,
      "metadata": {
        "id": "BVzKNAsEc2z3"
      },
      "outputs": [],
      "source": [
        "model = GaussianNB()\n",
        "model.fit(X_train_corpus.toarray(), y_train)\n",
        "y_pred= model.predict((X_test_corpus.toarray()))\n",
        "preds = y_pred.tolist()"
      ]
    },
    {
      "cell_type": "code",
      "execution_count": 13,
      "metadata": {
        "colab": {
          "base_uri": "https://localhost:8080/",
          "height": 295
        },
        "id": "753grSJ6dEOS",
        "outputId": "6b74fdad-d95b-4445-8fe4-0f9309d23d92"
      },
      "outputs": [
        {
          "output_type": "display_data",
          "data": {
            "text/plain": [
              "<Figure size 432x288 with 2 Axes>"
            ],
            "image/png": "[encoded data removed]"
          },
          "metadata": {
            "needs_background": "light"
          }
        }
      ],
      "source": [
        " # confusion matrix\n",
        "import seaborn as sns\n",
        "import matplotlib.pyplot as plt\n",
        "    \n",
        "Confusion_matrix = confusion_matrix(y_test, y_pred, labels=[1,0,-1])\n",
        "class_label      = ['Positive', 'Neutral','Negative']\n",
        "df_confusion     = pd.DataFrame(Confusion_matrix, index = class_label, columns = class_label)\n",
        "sns.heatmap(df_confusion, annot=True, fmt = \"d\", cmap=plt.cm.Blues)\n",
        "plt.title('Confusion Matrix')\n",
        "plt.xlabel('Prediction Label')\n",
        "plt.ylabel('Actual Label')\n",
        "plt.show()"
      ]
    },
    {
      "cell_type": "code",
      "execution_count": 14,
      "metadata": {
        "colab": {
          "base_uri": "https://localhost:8080/"
        },
        "id": "55SRz_W3dGsI",
        "outputId": "7ffa8beb-9cc0-4e2e-b523-225b6533922d"
      },
      "outputs": [
        {
          "output_type": "stream",
          "name": "stdout",
          "text": [
            "Accuracy Score = 0.65\n",
            "Precission = 0.65\n",
            "Recall = 0.65\n",
            "F-Score = 0.65\n"
          ]
        }
      ],
      "source": [
        "_accuracy   = accuracy_score(y_test, y_pred)\n",
        "_precission = precision_score(y_test, y_pred, average='micro')\n",
        "_recall     = recall_score(y_test, y_pred, average='micro')\n",
        "_fscore     = f1_score(y_test, y_pred, average='micro')\n",
        "\n",
        "print('Accuracy Score =', \"{:.2f}\".format(_accuracy))\n",
        "print('Precission =', \"{:.2f}\".format(_precission))\n",
        "print('Recall =', \"{:.2f}\".format(_recall))\n",
        "print('F-Score =', \"{:.2f}\".format(_fscore))"
      ]
    },
    {
      "cell_type": "code",
      "execution_count": 15,
      "metadata": {
        "colab": {
          "base_uri": "https://localhost:8080/"
        },
        "id": "bmP8DvridI3j",
        "outputId": "27385363-8ab6-441a-f652-40a9d4733421"
      },
      "outputs": [
        {
          "output_type": "stream",
          "name": "stdout",
          "text": [
            "              precision    recall  f1-score   support\n",
            "\n",
            "          -1       0.53      0.67      0.59        42\n",
            "           0       0.78      0.62      0.69        73\n",
            "           1       0.61      0.68      0.64        40\n",
            "\n",
            "    accuracy                           0.65       155\n",
            "   macro avg       0.64      0.65      0.64       155\n",
            "weighted avg       0.67      0.65      0.65       155\n",
            "\n"
          ]
        }
      ],
      "source": [
        "# Menghitung nilai akurasi dari klasifikasi naive bayes \n",
        "from sklearn.metrics import classification_report\n",
        "print(classification_report(y_test,y_pred))"
      ]
    },
    {
      "cell_type": "code",
      "source": [
        "#persentase label hasil prediksi menggunakan algoritma Naive Bayes\n",
        "df_result_nb = pd.DataFrame({'prediksi':y_pred})\n",
        "\n",
        "pd.options.display.float_format = '{:,.2f}%'.format\n",
        "df_persen_nb = pd.DataFrame(df_result_nb['prediksi'].value_counts()/df_result_nb['prediksi'].count()*100)\n",
        "df_persen_nb = df_persen_nb.rename(index={-1:'Negative', 0:'Neutral', 1:'Positive'})\n",
        "df_persen_nb"
      ],
      "metadata": {
        "colab": {
          "base_uri": "https://localhost:8080/",
          "height": 143
        },
        "id": "IOnpaXEDwU0X",
        "outputId": "f4668909-fb66-4648-daad-4fda9d7cd6ae"
      },
      "execution_count": 16,
      "outputs": [
        {
          "output_type": "execute_result",
          "data": {
            "text/plain": [
              "          prediksi\n",
              "Neutral     37.42%\n",
              "Negative    34.19%\n",
              "Positive    28.39%"
            ],
            "text/html": [
              "\n",
              "  <div id=\"df-c462307e-790b-4c57-830f-c3cb3b8df752\">\n",
              "    <div class=\"colab-df-container\">\n",
              "      <div>\n",
              "<style scoped>\n",
              "    .dataframe tbody tr th:only-of-type {\n",
              "        vertical-align: middle;\n",
              "    }\n",
              "\n",
              "    .dataframe tbody tr th {\n",
              "        vertical-align: top;\n",
              "    }\n",
              "\n",
              "    .dataframe thead th {\n",
              "        text-align: right;\n",
              "    }\n",
              "</style>\n",
              "<table border=\"1\" class=\"dataframe\">\n",
              "  <thead>\n",
              "    <tr style=\"text-align: right;\">\n",
              "      <th></th>\n",
              "      <th>prediksi</th>\n",
              "    </tr>\n",
              "  </thead>\n",
              "  <tbody>\n",
              "    <tr>\n",
              "      <th>Neutral</th>\n",
              "      <td>37.42%</td>\n",
              "    </tr>\n",
              "    <tr>\n",
              "      <th>Negative</th>\n",
              "      <td>34.19%</td>\n",
              "    </tr>\n",
              "    <tr>\n",
              "      <th>Positive</th>\n",
              "      <td>28.39%</td>\n",
              "    </tr>\n",
              "  </tbody>\n",
              "</table>\n",
              "</div>\n",
              "      <button class=\"colab-df-convert\" onclick=\"convertToInteractive('df-c462307e-790b-4c57-830f-c3cb3b8df752')\"\n",
              "              title=\"Convert this dataframe to an interactive table.\"\n",
              "              style=\"display:none;\">\n",
              "        \n",
              "  <svg xmlns=\"http://www.w3.org/2000/svg\" height=\"24px\"viewBox=\"0 0 24 24\"\n",
              "       width=\"24px\">\n",
              "    <path d=\"M0 0h24v24H0V0z\" fill=\"none\"/>\n",
              "    <path d=\"M18.56 5.44l.94 2.06.94-2.06 2.06-.94-2.06-.94-.94-2.06-.94 2.06-2.06.94zm-11 1L8.5 8.5l.94-2.06 2.06-.94-2.06-.94L8.5 2.5l-.94 2.06-2.06.94zm10 10l.94 2.06.94-2.06 2.06-.94-2.06-.94-.94-2.06-.94 2.06-2.06.94z\"/><path d=\"M17.41 7.96l-1.37-1.37c-.4-.4-.92-.59-1.43-.59-.52 0-1.04.2-1.43.59L10.3 9.45l-7.72 7.72c-.78.78-.78 2.05 0 2.83L4 21.41c.39.39.9.59 1.41.59.51 0 1.02-.2 1.41-.59l7.78-7.78 2.81-2.81c.8-.78.8-2.07 0-2.86zM5.41 20L4 18.59l7.72-7.72 1.47 1.35L5.41 20z\"/>\n",
              "  </svg>\n",
              "      </button>\n",
              "      \n",
              "  <style>\n",
              "    .colab-df-container {\n",
              "      display:flex;\n",
              "      flex-wrap:wrap;\n",
              "      gap: 12px;\n",
              "    }\n",
              "\n",
              "    .colab-df-convert {\n",
              "      background-color: #E8F0FE;\n",
              "      border: none;\n",
              "      border-radius: 50%;\n",
              "      cursor: pointer;\n",
              "      display: none;\n",
              "      fill: #1967D2;\n",
              "      height: 32px;\n",
              "      padding: 0 0 0 0;\n",
              "      width: 32px;\n",
              "    }\n",
              "\n",
              "    .colab-df-convert:hover {\n",
              "      background-color: #E2EBFA;\n",
              "      box-shadow: 0px 1px 2px rgba(60, 64, 67, 0.3), 0px 1px 3px 1px rgba(60, 64, 67, 0.15);\n",
              "      fill: #174EA6;\n",
              "    }\n",
              "\n",
              "    [theme=dark] .colab-df-convert {\n",
              "      background-color: #3B4455;\n",
              "      fill: #D2E3FC;\n",
              "    }\n",
              "\n",
              "    [theme=dark] .colab-df-convert:hover {\n",
              "      background-color: #434B5C;\n",
              "      box-shadow: 0px 1px 3px 1px rgba(0, 0, 0, 0.15);\n",
              "      filter: drop-shadow(0px 1px 2px rgba(0, 0, 0, 0.3));\n",
              "      fill: #FFFFFF;\n",
              "    }\n",
              "  </style>\n",
              "\n",
              "      <script>\n",
              "        const buttonEl =\n",
              "          document.querySelector('#df-c462307e-790b-4c57-830f-c3cb3b8df752 button.colab-df-convert');\n",
              "        buttonEl.style.display =\n",
              "          google.colab.kernel.accessAllowed ? 'block' : 'none';\n",
              "\n",
              "        async function convertToInteractive(key) {\n",
              "          const element = document.querySelector('#df-c462307e-790b-4c57-830f-c3cb3b8df752');\n",
              "          const dataTable =\n",
              "            await google.colab.kernel.invokeFunction('convertToInteractive',\n",
              "                                                     [key], {});\n",
              "          if (!dataTable) return;\n",
              "\n",
              "          const docLinkHtml = 'Like what you see? Visit the ' +\n",
              "            '<a target=\"_blank\" href=https://colab.research.google.com/notebooks/data_table.ipynb>data table notebook</a>'\n",
              "            + ' to learn more about interactive tables.';\n",
              "          element.innerHTML = '';\n",
              "          dataTable['output_type'] = 'display_data';\n",
              "          await google.colab.output.renderOutput(dataTable, element);\n",
              "          const docLink = document.createElement('div');\n",
              "          docLink.innerHTML = docLinkHtml;\n",
              "          element.appendChild(docLink);\n",
              "        }\n",
              "      </script>\n",
              "    </div>\n",
              "  </div>\n",
              "  "
            ]
          },
          "metadata": {},
          "execution_count": 16
        }
      ]
    },
    {
      "cell_type": "code",
      "source": [
        "print('Label', df_persen_nb.index[0] ,'memiliki persentase sebesar', '{:,.2f}'.format(df_persen_nb['prediksi'][0]), '%')\n",
        "print('Label', df_persen_nb.index[1] ,'memiliki persentase sebesar', '{:,.2f}'.format(df_persen_nb['prediksi'][1]), '%')\n",
        "print('Label', df_persen_nb.index[2] ,'memiliki persentase sebesar', '{:,.2f}'.format(df_persen_nb['prediksi'][2]), '%')"
      ],
      "metadata": {
        "colab": {
          "base_uri": "https://localhost:8080/"
        },
        "id": "yLnErdkU2OEJ",
        "outputId": "c46cb2c0-28de-461f-a9d5-d4aace12fe85"
      },
      "execution_count": 17,
      "outputs": [
        {
          "output_type": "stream",
          "name": "stdout",
          "text": [
            "Label Neutral memiliki persentase sebesar 37.42 %\n",
            "Label Negative memiliki persentase sebesar 34.19 %\n",
            "Label Positive memiliki persentase sebesar 28.39 %\n"
          ]
        }
      ]
    },
    {
      "cell_type": "code",
      "source": [
        "print('Prediksi menggunakan algoritma Naive Bayes menghasilkan label', df_persen_nb['prediksi'].idxmax() ,'memiliki persentase terbanyak sebesar', '{:,.2f}'.format(max(df_persen_nb['prediksi']), 2), '%')"
      ],
      "metadata": {
        "colab": {
          "base_uri": "https://localhost:8080/"
        },
        "id": "nPSnlCb1xN3L",
        "outputId": "560fdce4-0615-43d7-8966-b1568f670e66"
      },
      "execution_count": 18,
      "outputs": [
        {
          "output_type": "stream",
          "name": "stdout",
          "text": [
            "Prediksi menggunakan algoritma Naive Bayes menghasilkan label Neutral memiliki persentase terbanyak sebesar 37.42 %\n"
          ]
        }
      ]
    },
    {
      "cell_type": "markdown",
      "metadata": {
        "id": "969Bv65DdNgv"
      },
      "source": [
        "## Algoritma SVM"
      ]
    },
    {
      "cell_type": "code",
      "execution_count": 19,
      "metadata": {
        "id": "aLeSBpIZdSBf"
      },
      "outputs": [],
      "source": [
        "from sklearn.model_selection import GridSearchCV\n",
        "from sklearn.svm import SVC\n",
        "\n",
        "#Menggunakan GridSearch dengan fold 6 (melalui cv = 6)\n",
        "param_grid = {'C': [1e2, 1e3, 5e3, 1e4, 5e4, 1e5],\n",
        "              'gamma': [0.0001, 0.0005, 0.001, 0.005, 0.01, 0.1], }\n",
        "clf = GridSearchCV(SVC(kernel='rbf', class_weight='balanced'), param_grid, cv = 6)\n",
        "clf.fit(X_train_corpus.toarray(), y_train)\n",
        "pred = clf.predict(X_test_corpus.toarray())\n",
        "model.fit(X_train_corpus.toarray(), y_train)\n",
        "y_pred= model.predict((X_test_corpus.toarray()))"
      ]
    },
    {
      "cell_type": "code",
      "execution_count": 20,
      "metadata": {
        "colab": {
          "base_uri": "https://localhost:8080/"
        },
        "id": "WRApY4tSeX8V",
        "outputId": "9b0c7dc5-0452-47c8-d724-ccff3bfb79a6"
      },
      "outputs": [
        {
          "output_type": "stream",
          "name": "stdout",
          "text": [
            "SVC(C=5000.0, class_weight='balanced', gamma=0.0005)\n"
          ]
        }
      ],
      "source": [
        "print(clf.best_estimator_)"
      ]
    },
    {
      "cell_type": "code",
      "execution_count": 21,
      "metadata": {
        "colab": {
          "base_uri": "https://localhost:8080/"
        },
        "id": "wgFe7LxhdWHa",
        "outputId": "302466ff-cc30-42e9-9a32-f565fe9679f6"
      },
      "outputs": [
        {
          "output_type": "stream",
          "name": "stdout",
          "text": [
            "Accuracy Score = 0.70\n",
            "Precission = 0.70\n",
            "Recall = 0.70\n",
            "F-Score = 0.70\n"
          ]
        }
      ],
      "source": [
        "_accuracy   = accuracy_score(y_test, pred)\n",
        "_precission = precision_score(y_test, pred, average='micro')\n",
        "_recall     = recall_score(y_test, pred, average='micro')\n",
        "_fscore     = f1_score(y_test, pred, average='micro')\n",
        "\n",
        "print('Accuracy Score =', \"{:.2f}\".format(_accuracy))\n",
        "print('Precission =', \"{:.2f}\".format(_precission))\n",
        "print('Recall =', \"{:.2f}\".format(_recall))\n",
        "print('F-Score =', \"{:.2f}\".format(_fscore))"
      ]
    },
    {
      "cell_type": "code",
      "execution_count": 22,
      "metadata": {
        "colab": {
          "base_uri": "https://localhost:8080/"
        },
        "id": "1Kd9G57Jehjb",
        "outputId": "739d0bb6-4099-447c-e6e8-55c820dd8df7"
      },
      "outputs": [
        {
          "output_type": "stream",
          "name": "stdout",
          "text": [
            "              precision    recall  f1-score   support\n",
            "\n",
            "          -1       0.59      0.71      0.65        42\n",
            "           0       0.73      0.67      0.70        73\n",
            "           1       0.78      0.72      0.75        40\n",
            "\n",
            "    accuracy                           0.70       155\n",
            "   macro avg       0.70      0.70      0.70       155\n",
            "weighted avg       0.71      0.70      0.70       155\n",
            "\n"
          ]
        }
      ],
      "source": [
        "# Menghitung nilai akurasi dari klasifikasi SVM \n",
        "from sklearn.metrics import classification_report\n",
        "print(classification_report(y_test, pred))"
      ]
    },
    {
      "cell_type": "code",
      "execution_count": 23,
      "metadata": {
        "colab": {
          "base_uri": "https://localhost:8080/",
          "height": 295
        },
        "id": "DWOwNxQfenJV",
        "outputId": "174dc550-d27d-44bd-b76c-48a3e7d4bfde"
      },
      "outputs": [
        {
          "output_type": "display_data",
          "data": {
            "text/plain": [
              "<Figure size 432x288 with 2 Axes>"
            ],
            "image/png": "[encoded data removed]"
          },
          "metadata": {
            "needs_background": "light"
          }
        }
      ],
      "source": [
        "# confusion matrix\n",
        "import seaborn as sns\n",
        "import matplotlib.pyplot as plt\n",
        "    \n",
        "Confusion_matrix = confusion_matrix(y_test, pred, labels=[1,0,-1])\n",
        "class_label      = ['Positive', 'Neutral','Negative']\n",
        "df_confusion     = pd.DataFrame(Confusion_matrix, index = class_label, columns = class_label)\n",
        "sns.heatmap(df_confusion, annot=True, fmt = \"d\", cmap=plt.cm.Blues)\n",
        "plt.title('Confusion Matrix')\n",
        "plt.xlabel('Prediction Label')\n",
        "plt.ylabel('Actual Label')\n",
        "plt.show()"
      ]
    },
    {
      "cell_type": "code",
      "source": [
        "#persentase label hasil prediksi menggunakan algoritma SVM\n",
        "df_result_svm = pd.DataFrame({'prediksi':pred})\n",
        "\n",
        "pd.options.display.float_format = '{:,.2f}%'.format\n",
        "df_persen_svm = pd.DataFrame(df_result_svm['prediksi'].value_counts()/df_result_svm['prediksi'].count()*100)\n",
        "df_persen_svm = df_persen_svm.rename(index={-1:'Negative', 0:'Neutral', 1:'Positive'})\n",
        "df_persen_svm"
      ],
      "metadata": {
        "colab": {
          "base_uri": "https://localhost:8080/",
          "height": 143
        },
        "id": "KtPJ2OZoyMXd",
        "outputId": "d2ef28d8-dab1-42bd-ff19-243bc7162e4b"
      },
      "execution_count": 24,
      "outputs": [
        {
          "output_type": "execute_result",
          "data": {
            "text/plain": [
              "          prediksi\n",
              "Neutral     43.23%\n",
              "Negative    32.90%\n",
              "Positive    23.87%"
            ],
            "text/html": [
              "\n",
              "  <div id=\"df-c6072b19-bff0-495c-b056-d5af745babf6\">\n",
              "    <div class=\"colab-df-container\">\n",
              "      <div>\n",
              "<style scoped>\n",
              "    .dataframe tbody tr th:only-of-type {\n",
              "        vertical-align: middle;\n",
              "    }\n",
              "\n",
              "    .dataframe tbody tr th {\n",
              "        vertical-align: top;\n",
              "    }\n",
              "\n",
              "    .dataframe thead th {\n",
              "        text-align: right;\n",
              "    }\n",
              "</style>\n",
              "<table border=\"1\" class=\"dataframe\">\n",
              "  <thead>\n",
              "    <tr style=\"text-align: right;\">\n",
              "      <th></th>\n",
              "      <th>prediksi</th>\n",
              "    </tr>\n",
              "  </thead>\n",
              "  <tbody>\n",
              "    <tr>\n",
              "      <th>Neutral</th>\n",
              "      <td>43.23%</td>\n",
              "    </tr>\n",
              "    <tr>\n",
              "      <th>Negative</th>\n",
              "      <td>32.90%</td>\n",
              "    </tr>\n",
              "    <tr>\n",
              "      <th>Positive</th>\n",
              "      <td>23.87%</td>\n",
              "    </tr>\n",
              "  </tbody>\n",
              "</table>\n",
              "</div>\n",
              "      <button class=\"colab-df-convert\" onclick=\"convertToInteractive('df-c6072b19-bff0-495c-b056-d5af745babf6')\"\n",
              "              title=\"Convert this dataframe to an interactive table.\"\n",
              "              style=\"display:none;\">\n",
              "        \n",
              "  <svg xmlns=\"http://www.w3.org/2000/svg\" height=\"24px\"viewBox=\"0 0 24 24\"\n",
              "       width=\"24px\">\n",
              "    <path d=\"M0 0h24v24H0V0z\" fill=\"none\"/>\n",
              "    <path d=\"M18.56 5.44l.94 2.06.94-2.06 2.06-.94-2.06-.94-.94-2.06-.94 2.06-2.06.94zm-11 1L8.5 8.5l.94-2.06 2.06-.94-2.06-.94L8.5 2.5l-.94 2.06-2.06.94zm10 10l.94 2.06.94-2.06 2.06-.94-2.06-.94-.94-2.06-.94 2.06-2.06.94z\"/><path d=\"M17.41 7.96l-1.37-1.37c-.4-.4-.92-.59-1.43-.59-.52 0-1.04.2-1.43.59L10.3 9.45l-7.72 7.72c-.78.78-.78 2.05 0 2.83L4 21.41c.39.39.9.59 1.41.59.51 0 1.02-.2 1.41-.59l7.78-7.78 2.81-2.81c.8-.78.8-2.07 0-2.86zM5.41 20L4 18.59l7.72-7.72 1.47 1.35L5.41 20z\"/>\n",
              "  </svg>\n",
              "      </button>\n",
              "      \n",
              "  <style>\n",
              "    .colab-df-container {\n",
              "      display:flex;\n",
              "      flex-wrap:wrap;\n",
              "      gap: 12px;\n",
              "    }\n",
              "\n",
              "    .colab-df-convert {\n",
              "      background-color: #E8F0FE;\n",
              "      border: none;\n",
              "      border-radius: 50%;\n",
              "      cursor: pointer;\n",
              "      display: none;\n",
              "      fill: #1967D2;\n",
              "      height: 32px;\n",
              "      padding: 0 0 0 0;\n",
              "      width: 32px;\n",
              "    }\n",
              "\n",
              "    .colab-df-convert:hover {\n",
              "      background-color: #E2EBFA;\n",
              "      box-shadow: 0px 1px 2px rgba(60, 64, 67, 0.3), 0px 1px 3px 1px rgba(60, 64, 67, 0.15);\n",
              "      fill: #174EA6;\n",
              "    }\n",
              "\n",
              "    [theme=dark] .colab-df-convert {\n",
              "      background-color: #3B4455;\n",
              "      fill: #D2E3FC;\n",
              "    }\n",
              "\n",
              "    [theme=dark] .colab-df-convert:hover {\n",
              "      background-color: #434B5C;\n",
              "      box-shadow: 0px 1px 3px 1px rgba(0, 0, 0, 0.15);\n",
              "      filter: drop-shadow(0px 1px 2px rgba(0, 0, 0, 0.3));\n",
              "      fill: #FFFFFF;\n",
              "    }\n",
              "  </style>\n",
              "\n",
              "      <script>\n",
              "        const buttonEl =\n",
              "          document.querySelector('#df-c6072b19-bff0-495c-b056-d5af745babf6 button.colab-df-convert');\n",
              "        buttonEl.style.display =\n",
              "          google.colab.kernel.accessAllowed ? 'block' : 'none';\n",
              "\n",
              "        async function convertToInteractive(key) {\n",
              "          const element = document.querySelector('#df-c6072b19-bff0-495c-b056-d5af745babf6');\n",
              "          const dataTable =\n",
              "            await google.colab.kernel.invokeFunction('convertToInteractive',\n",
              "                                                     [key], {});\n",
              "          if (!dataTable) return;\n",
              "\n",
              "          const docLinkHtml = 'Like what you see? Visit the ' +\n",
              "            '<a target=\"_blank\" href=https://colab.research.google.com/notebooks/data_table.ipynb>data table notebook</a>'\n",
              "            + ' to learn more about interactive tables.';\n",
              "          element.innerHTML = '';\n",
              "          dataTable['output_type'] = 'display_data';\n",
              "          await google.colab.output.renderOutput(dataTable, element);\n",
              "          const docLink = document.createElement('div');\n",
              "          docLink.innerHTML = docLinkHtml;\n",
              "          element.appendChild(docLink);\n",
              "        }\n",
              "      </script>\n",
              "    </div>\n",
              "  </div>\n",
              "  "
            ]
          },
          "metadata": {},
          "execution_count": 24
        }
      ]
    },
    {
      "cell_type": "code",
      "source": [
        "print('Label', df_persen_svm.index[0] ,'memiliki persentase sebesar', '{:,.2f}'.format(df_persen_svm['prediksi'][0]), '%')\n",
        "print('Label', df_persen_svm.index[1] ,'memiliki persentase sebesar', '{:,.2f}'.format(df_persen_svm['prediksi'][1]), '%')\n",
        "print('Label', df_persen_svm.index[2] ,'memiliki persentase sebesar', '{:,.2f}'.format(df_persen_svm['prediksi'][2]), '%')"
      ],
      "metadata": {
        "colab": {
          "base_uri": "https://localhost:8080/"
        },
        "id": "3YNuYxC_2XeE",
        "outputId": "c0368242-a54a-4db8-8e49-a276081bd734"
      },
      "execution_count": 25,
      "outputs": [
        {
          "output_type": "stream",
          "name": "stdout",
          "text": [
            "Label Neutral memiliki persentase sebesar 43.23 %\n",
            "Label Negative memiliki persentase sebesar 32.90 %\n",
            "Label Positive memiliki persentase sebesar 23.87 %\n"
          ]
        }
      ]
    },
    {
      "cell_type": "code",
      "source": [
        "print('Prediksi menggunakan algoritma SVM menghasilkan label', df_persen_svm['prediksi'].idxmax() ,'memiliki persentase terbanyak sebesar', '{:,.2f}'.format(max(df_persen_svm['prediksi']), 2), '%')"
      ],
      "metadata": {
        "colab": {
          "base_uri": "https://localhost:8080/"
        },
        "id": "xs-SFYGMykJT",
        "outputId": "fcaceacb-b6f5-4142-fa1e-17aeec512c4f"
      },
      "execution_count": 26,
      "outputs": [
        {
          "output_type": "stream",
          "name": "stdout",
          "text": [
            "Prediksi menggunakan algoritma SVM menghasilkan label Neutral memiliki persentase terbanyak sebesar 43.23 %\n"
          ]
        }
      ]
    },
    {
      "cell_type": "markdown",
      "source": [
        "## Persentase label"
      ],
      "metadata": {
        "id": "C4CNYc3P0w83"
      }
    },
    {
      "cell_type": "code",
      "source": [
        "#persentase label dataset\n",
        "pd.options.display.float_format = '{:,.2f}%'.format\n",
        "df_persen = pd.DataFrame(round((df['label'].value_counts()/df['label'].count())*100, 2))\n",
        "df_persen = df_persen.rename(index={-1:'Negative', 0:'Neutral', 1:'Positive'})\n",
        "df_persen = df_persen.rename(columns={'label':'Persentase'})\n",
        "df_persen"
      ],
      "metadata": {
        "colab": {
          "base_uri": "https://localhost:8080/",
          "height": 143
        },
        "id": "mplJDBWMYO75",
        "outputId": "596498fb-47ec-455b-c770-2d78d104e1c1"
      },
      "execution_count": 27,
      "outputs": [
        {
          "output_type": "execute_result",
          "data": {
            "text/plain": [
              "          Persentase\n",
              "Neutral       42.14%\n",
              "Positive      29.34%\n",
              "Negative      28.53%"
            ],
            "text/html": [
              "\n",
              "  <div id=\"df-e396093d-87c5-4ff1-ac95-958e153fa858\">\n",
              "    <div class=\"colab-df-container\">\n",
              "      <div>\n",
              "<style scoped>\n",
              "    .dataframe tbody tr th:only-of-type {\n",
              "        vertical-align: middle;\n",
              "    }\n",
              "\n",
              "    .dataframe tbody tr th {\n",
              "        vertical-align: top;\n",
              "    }\n",
              "\n",
              "    .dataframe thead th {\n",
              "        text-align: right;\n",
              "    }\n",
              "</style>\n",
              "<table border=\"1\" class=\"dataframe\">\n",
              "  <thead>\n",
              "    <tr style=\"text-align: right;\">\n",
              "      <th></th>\n",
              "      <th>Persentase</th>\n",
              "    </tr>\n",
              "  </thead>\n",
              "  <tbody>\n",
              "    <tr>\n",
              "      <th>Neutral</th>\n",
              "      <td>42.14%</td>\n",
              "    </tr>\n",
              "    <tr>\n",
              "      <th>Positive</th>\n",
              "      <td>29.34%</td>\n",
              "    </tr>\n",
              "    <tr>\n",
              "      <th>Negative</th>\n",
              "      <td>28.53%</td>\n",
              "    </tr>\n",
              "  </tbody>\n",
              "</table>\n",
              "</div>\n",
              "      <button class=\"colab-df-convert\" onclick=\"convertToInteractive('df-e396093d-87c5-4ff1-ac95-958e153fa858')\"\n",
              "              title=\"Convert this dataframe to an interactive table.\"\n",
              "              style=\"display:none;\">\n",
              "        \n",
              "  <svg xmlns=\"http://www.w3.org/2000/svg\" height=\"24px\"viewBox=\"0 0 24 24\"\n",
              "       width=\"24px\">\n",
              "    <path d=\"M0 0h24v24H0V0z\" fill=\"none\"/>\n",
              "    <path d=\"M18.56 5.44l.94 2.06.94-2.06 2.06-.94-2.06-.94-.94-2.06-.94 2.06-2.06.94zm-11 1L8.5 8.5l.94-2.06 2.06-.94-2.06-.94L8.5 2.5l-.94 2.06-2.06.94zm10 10l.94 2.06.94-2.06 2.06-.94-2.06-.94-.94-2.06-.94 2.06-2.06.94z\"/><path d=\"M17.41 7.96l-1.37-1.37c-.4-.4-.92-.59-1.43-.59-.52 0-1.04.2-1.43.59L10.3 9.45l-7.72 7.72c-.78.78-.78 2.05 0 2.83L4 21.41c.39.39.9.59 1.41.59.51 0 1.02-.2 1.41-.59l7.78-7.78 2.81-2.81c.8-.78.8-2.07 0-2.86zM5.41 20L4 18.59l7.72-7.72 1.47 1.35L5.41 20z\"/>\n",
              "  </svg>\n",
              "      </button>\n",
              "      \n",
              "  <style>\n",
              "    .colab-df-container {\n",
              "      display:flex;\n",
              "      flex-wrap:wrap;\n",
              "      gap: 12px;\n",
              "    }\n",
              "\n",
              "    .colab-df-convert {\n",
              "      background-color: #E8F0FE;\n",
              "      border: none;\n",
              "      border-radius: 50%;\n",
              "      cursor: pointer;\n",
              "      display: none;\n",
              "      fill: #1967D2;\n",
              "      height: 32px;\n",
              "      padding: 0 0 0 0;\n",
              "      width: 32px;\n",
              "    }\n",
              "\n",
              "    .colab-df-convert:hover {\n",
              "      background-color: #E2EBFA;\n",
              "      box-shadow: 0px 1px 2px rgba(60, 64, 67, 0.3), 0px 1px 3px 1px rgba(60, 64, 67, 0.15);\n",
              "      fill: #174EA6;\n",
              "    }\n",
              "\n",
              "    [theme=dark] .colab-df-convert {\n",
              "      background-color: #3B4455;\n",
              "      fill: #D2E3FC;\n",
              "    }\n",
              "\n",
              "    [theme=dark] .colab-df-convert:hover {\n",
              "      background-color: #434B5C;\n",
              "      box-shadow: 0px 1px 3px 1px rgba(0, 0, 0, 0.15);\n",
              "      filter: drop-shadow(0px 1px 2px rgba(0, 0, 0, 0.3));\n",
              "      fill: #FFFFFF;\n",
              "    }\n",
              "  </style>\n",
              "\n",
              "      <script>\n",
              "        const buttonEl =\n",
              "          document.querySelector('#df-e396093d-87c5-4ff1-ac95-958e153fa858 button.colab-df-convert');\n",
              "        buttonEl.style.display =\n",
              "          google.colab.kernel.accessAllowed ? 'block' : 'none';\n",
              "\n",
              "        async function convertToInteractive(key) {\n",
              "          const element = document.querySelector('#df-e396093d-87c5-4ff1-ac95-958e153fa858');\n",
              "          const dataTable =\n",
              "            await google.colab.kernel.invokeFunction('convertToInteractive',\n",
              "                                                     [key], {});\n",
              "          if (!dataTable) return;\n",
              "\n",
              "          const docLinkHtml = 'Like what you see? Visit the ' +\n",
              "            '<a target=\"_blank\" href=https://colab.research.google.com/notebooks/data_table.ipynb>data table notebook</a>'\n",
              "            + ' to learn more about interactive tables.';\n",
              "          element.innerHTML = '';\n",
              "          dataTable['output_type'] = 'display_data';\n",
              "          await google.colab.output.renderOutput(dataTable, element);\n",
              "          const docLink = document.createElement('div');\n",
              "          docLink.innerHTML = docLinkHtml;\n",
              "          element.appendChild(docLink);\n",
              "        }\n",
              "      </script>\n",
              "    </div>\n",
              "  </div>\n",
              "  "
            ]
          },
          "metadata": {},
          "execution_count": 27
        }
      ]
    },
    {
      "cell_type": "code",
      "source": [
        "print('Label', df_persen.index[0] ,'memiliki persentase sebesar','{:,.2f}'.format( df_persen['Persentase'][0]), '%')\n",
        "print('Label', df_persen.index[1] ,'memiliki persentase sebesar', '{:,.2f}'.format(df_persen['Persentase'][1]), '%')\n",
        "print('Label', df_persen.index[2] ,'memiliki persentase sebesar', '{:,.2f}'.format(df_persen['Persentase'][2]), '%')"
      ],
      "metadata": {
        "colab": {
          "base_uri": "https://localhost:8080/"
        },
        "id": "EhChBTnJ2eKp",
        "outputId": "f4665f8b-872e-49f6-8e2f-e151ea58d22c"
      },
      "execution_count": 28,
      "outputs": [
        {
          "output_type": "stream",
          "name": "stdout",
          "text": [
            "Label Neutral memiliki persentase sebesar 42.14 %\n",
            "Label Positive memiliki persentase sebesar 29.34 %\n",
            "Label Negative memiliki persentase sebesar 28.53 %\n"
          ]
        }
      ]
    },
    {
      "cell_type": "code",
      "source": [
        "print('Label', df_persen['Persentase'].idxmax() ,'memiliki persentase terbanyak sebesar', '{:,.2f}'.format(max(df_persen['Persentase']), 2), '%')"
      ],
      "metadata": {
        "colab": {
          "base_uri": "https://localhost:8080/"
        },
        "id": "641eEqLnYZ8n",
        "outputId": "481557e1-1708-44f8-92df-271d5f9c49dc"
      },
      "execution_count": 29,
      "outputs": [
        {
          "output_type": "stream",
          "name": "stdout",
          "text": [
            "Label Neutral memiliki persentase terbanyak sebesar 42.14 %\n"
          ]
        }
      ]
    }
  ],
  "metadata": {
    "colab": {
      "collapsed_sections": [],
      "provenance": []
    },
    "kernelspec": {
      "display_name": "Python 3 (ipykernel)",
      "language": "python",
      "name": "python3"
    },
    "language_info": {
      "name": "python"
    }
  },
  "nbformat": 4,
  "nbformat_minor": 0
}