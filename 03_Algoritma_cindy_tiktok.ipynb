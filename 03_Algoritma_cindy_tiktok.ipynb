{
  "cells": [
    {
      "cell_type": "code",
      "execution_count": null,
      "metadata": {
        "id": "K07lfYCfbiPu",
        "colab": {
          "base_uri": "https://localhost:8080/"
        },
        "outputId": "4c1e6055-9df1-4aed-b729-6bef4cb85d9a"
      },
      "outputs": [
        {
          "output_type": "stream",
          "name": "stdout",
          "text": [
            "Looking in indexes: https://pypi.org/simple, https://us-python.pkg.dev/colab-wheels/public/simple/\n",
            "Collecting transformers\n",
            "  Downloading transformers-4.21.3-py3-none-any.whl (4.7 MB)\n",
            "\u001b[K     |████████████████████████████████| 4.7 MB 16.0 MB/s \n",
            "\u001b[?25hRequirement already satisfied: packaging>=20.0 in /usr/local/lib/python3.7/dist-packages (from transformers) (21.3)\n",
            "Requirement already satisfied: filelock in /usr/local/lib/python3.7/dist-packages (from transformers) (3.8.0)\n",
            "Requirement already satisfied: numpy>=1.17 in /usr/local/lib/python3.7/dist-packages (from transformers) (1.21.6)\n",
            "Requirement already satisfied: regex!=2019.12.17 in /usr/local/lib/python3.7/dist-packages (from transformers) (2022.6.2)\n",
            "Requirement already satisfied: pyyaml>=5.1 in /usr/local/lib/python3.7/dist-packages (from transformers) (6.0)\n",
            "Collecting tokenizers!=0.11.3,<0.13,>=0.11.1\n",
            "  Downloading tokenizers-0.12.1-cp37-cp37m-manylinux_2_12_x86_64.manylinux2010_x86_64.whl (6.6 MB)\n",
            "\u001b[K     |████████████████████████████████| 6.6 MB 78.7 MB/s \n",
            "\u001b[?25hRequirement already satisfied: importlib-metadata in /usr/local/lib/python3.7/dist-packages (from transformers) (4.12.0)\n",
            "Collecting huggingface-hub<1.0,>=0.1.0\n",
            "  Downloading huggingface_hub-0.9.1-py3-none-any.whl (120 kB)\n",
            "\u001b[K     |████████████████████████████████| 120 kB 74.9 MB/s \n",
            "\u001b[?25hRequirement already satisfied: requests in /usr/local/lib/python3.7/dist-packages (from transformers) (2.23.0)\n",
            "Requirement already satisfied: tqdm>=4.27 in /usr/local/lib/python3.7/dist-packages (from transformers) (4.64.0)\n",
            "Requirement already satisfied: typing-extensions>=3.7.4.3 in /usr/local/lib/python3.7/dist-packages (from huggingface-hub<1.0,>=0.1.0->transformers) (4.1.1)\n",
            "Requirement already satisfied: pyparsing!=3.0.5,>=2.0.2 in /usr/local/lib/python3.7/dist-packages (from packaging>=20.0->transformers) (3.0.9)\n",
            "Requirement already satisfied: zipp>=0.5 in /usr/local/lib/python3.7/dist-packages (from importlib-metadata->transformers) (3.8.1)\n",
            "Requirement already satisfied: chardet<4,>=3.0.2 in /usr/local/lib/python3.7/dist-packages (from requests->transformers) (3.0.4)\n",
            "Requirement already satisfied: certifi>=2017.4.17 in /usr/local/lib/python3.7/dist-packages (from requests->transformers) (2022.6.15)\n",
            "Requirement already satisfied: idna<3,>=2.5 in /usr/local/lib/python3.7/dist-packages (from requests->transformers) (2.10)\n",
            "Requirement already satisfied: urllib3!=1.25.0,!=1.25.1,<1.26,>=1.21.1 in /usr/local/lib/python3.7/dist-packages (from requests->transformers) (1.24.3)\n",
            "Installing collected packages: tokenizers, huggingface-hub, transformers\n",
            "Successfully installed huggingface-hub-0.9.1 tokenizers-0.12.1 transformers-4.21.3\n"
          ]
        }
      ],
      "source": [
        "!pip install transformers\n",
        "import pandas as pd\n",
        "from nltk.corpus import stopwords\n",
        "from sklearn.metrics import accuracy_score, confusion_matrix, precision_score, recall_score, f1_score\n",
        "from sklearn.naive_bayes import GaussianNB\n",
        "from sklearn.feature_extraction.text import TfidfVectorizer\n",
        "from sklearn.model_selection import train_test_split\n",
        "import numpy as np"
      ]
    },
    {
      "cell_type": "code",
      "execution_count": null,
      "metadata": {
        "colab": {
          "base_uri": "https://localhost:8080/",
          "height": 572
        },
        "id": "64dK2xWYbyPp",
        "outputId": "eda3cb8d-fc6c-4d33-a2a6-27628d69c17d"
      },
      "outputs": [
        {
          "output_type": "execute_result",
          "data": {
            "text/plain": [
              "      Unnamed: 0  Unnamed: 0.1             user  \\\n",
              "0              0             0        urebabeyy   \n",
              "1              1             1         14fbrary   \n",
              "2              2             2     oreomuffinnn   \n",
              "3              3             3        urebabeyy   \n",
              "4              4             4    pseudoholiday   \n",
              "...          ...           ...              ...   \n",
              "1996        1996          1996     punkwithlove   \n",
              "1997        1997          1997  jayasaputra9999   \n",
              "1998        1998          1998      paizzzzzzz0   \n",
              "1999        1999          1999       jancoksyap   \n",
              "2000        2000          2000         jiarszzz   \n",
              "\n",
              "                                                  tweet  \\\n",
              "0     buat yg gangerti itu dokterny lg meragain bngu...   \n",
              "1                                       bisa bisanyðŸ—¿   \n",
              "2     Let me correct: bukan bangunin orng pingsan ta...   \n",
              "3     yup tapi jg bisa ka kata mamaku yg perawat bis...   \n",
              "4     perbaiki lgi : jalan nafas kak bukan sirkulasi...   \n",
              "...                                                 ...   \n",
              "1996                                               ðŸ˜´   \n",
              "1997                                          @san_ziz1   \n",
              "1998    hehehehðŸ—¿ðŸ—¿ðŸ—¿ðŸ¤¨ðŸ¤¨ðŸ¤¨ðŸ¤¨ðŸ—¿ðŸ—¿ðŸ—¿   \n",
              "1999                                            @nflbae   \n",
              "2000                                           ðŸ˜´ðŸ˜´   \n",
              "\n",
              "                                                   stem  label  \\\n",
              "0     gangerti dokterny lg meragain bngunin org ping...     -1   \n",
              "1                                                bisany      0   \n",
              "2     let me correct bangunin orng pingsan lancar si...     -1   \n",
              "3                 yup ka mama awat bangunin org pingsan     -1   \n",
              "4              baik lgi jalan nafas kak sirkulasi nafas      1   \n",
              "...                                                 ...    ...   \n",
              "1996                                                NaN      0   \n",
              "1997                                                NaN      0   \n",
              "1998                                            heheheh      0   \n",
              "1999                                                NaN      0   \n",
              "2000                                                NaN      0   \n",
              "\n",
              "                                             tokenizing  \n",
              "0     ['buat', 'yg', 'gangerti', 'itu', 'dokterny', ...  \n",
              "1                                    ['bisa', 'bisany']  \n",
              "2     ['let', 'me', 'correct', 'bukan', 'bangunin', ...  \n",
              "3     ['yup', 'tapi', 'jg', 'bisa', 'ka', 'kata', 'm...  \n",
              "4     ['perbaiki', 'lgi', 'jalan', 'nafas', 'kak', '...  \n",
              "...                                                 ...  \n",
              "1996                                                 []  \n",
              "1997                                                 []  \n",
              "1998                                        ['heheheh']  \n",
              "1999                                                 []  \n",
              "2000                                                 []  \n",
              "\n",
              "[2001 rows x 7 columns]"
            ],
            "text/html": [
              "\n",
              "  <div id=\"df-57b4c04d-a248-4aa6-8271-9fae42630c86\">\n",
              "    <div class=\"colab-df-container\">\n",
              "      <div>\n",
              "<style scoped>\n",
              "    .dataframe tbody tr th:only-of-type {\n",
              "        vertical-align: middle;\n",
              "    }\n",
              "\n",
              "    .dataframe tbody tr th {\n",
              "        vertical-align: top;\n",
              "    }\n",
              "\n",
              "    .dataframe thead th {\n",
              "        text-align: right;\n",
              "    }\n",
              "</style>\n",
              "<table border=\"1\" class=\"dataframe\">\n",
              "  <thead>\n",
              "    <tr style=\"text-align: right;\">\n",
              "      <th></th>\n",
              "      <th>Unnamed: 0</th>\n",
              "      <th>Unnamed: 0.1</th>\n",
              "      <th>user</th>\n",
              "      <th>tweet</th>\n",
              "      <th>stem</th>\n",
              "      <th>label</th>\n",
              "      <th>tokenizing</th>\n",
              "    </tr>\n",
              "  </thead>\n",
              "  <tbody>\n",
              "    <tr>\n",
              "      <th>0</th>\n",
              "      <td>0</td>\n",
              "      <td>0</td>\n",
              "      <td>urebabeyy</td>\n",
              "      <td>buat yg gangerti itu dokterny lg meragain bngu...</td>\n",
              "      <td>gangerti dokterny lg meragain bngunin org ping...</td>\n",
              "      <td>-1</td>\n",
              "      <td>['buat', 'yg', 'gangerti', 'itu', 'dokterny', ...</td>\n",
              "    </tr>\n",
              "    <tr>\n",
              "      <th>1</th>\n",
              "      <td>1</td>\n",
              "      <td>1</td>\n",
              "      <td>14fbrary</td>\n",
              "      <td>bisa bisanyðŸ—¿</td>\n",
              "      <td>bisany</td>\n",
              "      <td>0</td>\n",
              "      <td>['bisa', 'bisany']</td>\n",
              "    </tr>\n",
              "    <tr>\n",
              "      <th>2</th>\n",
              "      <td>2</td>\n",
              "      <td>2</td>\n",
              "      <td>oreomuffinnn</td>\n",
              "      <td>Let me correct: bukan bangunin orng pingsan ta...</td>\n",
              "      <td>let me correct bangunin orng pingsan lancar si...</td>\n",
              "      <td>-1</td>\n",
              "      <td>['let', 'me', 'correct', 'bukan', 'bangunin', ...</td>\n",
              "    </tr>\n",
              "    <tr>\n",
              "      <th>3</th>\n",
              "      <td>3</td>\n",
              "      <td>3</td>\n",
              "      <td>urebabeyy</td>\n",
              "      <td>yup tapi jg bisa ka kata mamaku yg perawat bis...</td>\n",
              "      <td>yup ka mama awat bangunin org pingsan</td>\n",
              "      <td>-1</td>\n",
              "      <td>['yup', 'tapi', 'jg', 'bisa', 'ka', 'kata', 'm...</td>\n",
              "    </tr>\n",
              "    <tr>\n",
              "      <th>4</th>\n",
              "      <td>4</td>\n",
              "      <td>4</td>\n",
              "      <td>pseudoholiday</td>\n",
              "      <td>perbaiki lgi : jalan nafas kak bukan sirkulasi...</td>\n",
              "      <td>baik lgi jalan nafas kak sirkulasi nafas</td>\n",
              "      <td>1</td>\n",
              "      <td>['perbaiki', 'lgi', 'jalan', 'nafas', 'kak', '...</td>\n",
              "    </tr>\n",
              "    <tr>\n",
              "      <th>...</th>\n",
              "      <td>...</td>\n",
              "      <td>...</td>\n",
              "      <td>...</td>\n",
              "      <td>...</td>\n",
              "      <td>...</td>\n",
              "      <td>...</td>\n",
              "      <td>...</td>\n",
              "    </tr>\n",
              "    <tr>\n",
              "      <th>1996</th>\n",
              "      <td>1996</td>\n",
              "      <td>1996</td>\n",
              "      <td>punkwithlove</td>\n",
              "      <td>ðŸ˜´</td>\n",
              "      <td>NaN</td>\n",
              "      <td>0</td>\n",
              "      <td>[]</td>\n",
              "    </tr>\n",
              "    <tr>\n",
              "      <th>1997</th>\n",
              "      <td>1997</td>\n",
              "      <td>1997</td>\n",
              "      <td>jayasaputra9999</td>\n",
              "      <td>@san_ziz1</td>\n",
              "      <td>NaN</td>\n",
              "      <td>0</td>\n",
              "      <td>[]</td>\n",
              "    </tr>\n",
              "    <tr>\n",
              "      <th>1998</th>\n",
              "      <td>1998</td>\n",
              "      <td>1998</td>\n",
              "      <td>paizzzzzzz0</td>\n",
              "      <td>hehehehðŸ—¿ðŸ—¿ðŸ—¿ðŸ¤¨ðŸ¤¨ðŸ¤¨ðŸ¤¨ðŸ—¿ðŸ—¿ðŸ—¿</td>\n",
              "      <td>heheheh</td>\n",
              "      <td>0</td>\n",
              "      <td>['heheheh']</td>\n",
              "    </tr>\n",
              "    <tr>\n",
              "      <th>1999</th>\n",
              "      <td>1999</td>\n",
              "      <td>1999</td>\n",
              "      <td>jancoksyap</td>\n",
              "      <td>@nflbae</td>\n",
              "      <td>NaN</td>\n",
              "      <td>0</td>\n",
              "      <td>[]</td>\n",
              "    </tr>\n",
              "    <tr>\n",
              "      <th>2000</th>\n",
              "      <td>2000</td>\n",
              "      <td>2000</td>\n",
              "      <td>jiarszzz</td>\n",
              "      <td>ðŸ˜´ðŸ˜´</td>\n",
              "      <td>NaN</td>\n",
              "      <td>0</td>\n",
              "      <td>[]</td>\n",
              "    </tr>\n",
              "  </tbody>\n",
              "</table>\n",
              "<p>2001 rows × 7 columns</p>\n",
              "</div>\n",
              "      <button class=\"colab-df-convert\" onclick=\"convertToInteractive('df-57b4c04d-a248-4aa6-8271-9fae42630c86')\"\n",
              "              title=\"Convert this dataframe to an interactive table.\"\n",
              "              style=\"display:none;\">\n",
              "        \n",
              "  <svg xmlns=\"http://www.w3.org/2000/svg\" height=\"24px\"viewBox=\"0 0 24 24\"\n",
              "       width=\"24px\">\n",
              "    <path d=\"M0 0h24v24H0V0z\" fill=\"none\"/>\n",
              "    <path d=\"M18.56 5.44l.94 2.06.94-2.06 2.06-.94-2.06-.94-.94-2.06-.94 2.06-2.06.94zm-11 1L8.5 8.5l.94-2.06 2.06-.94-2.06-.94L8.5 2.5l-.94 2.06-2.06.94zm10 10l.94 2.06.94-2.06 2.06-.94-2.06-.94-.94-2.06-.94 2.06-2.06.94z\"/><path d=\"M17.41 7.96l-1.37-1.37c-.4-.4-.92-.59-1.43-.59-.52 0-1.04.2-1.43.59L10.3 9.45l-7.72 7.72c-.78.78-.78 2.05 0 2.83L4 21.41c.39.39.9.59 1.41.59.51 0 1.02-.2 1.41-.59l7.78-7.78 2.81-2.81c.8-.78.8-2.07 0-2.86zM5.41 20L4 18.59l7.72-7.72 1.47 1.35L5.41 20z\"/>\n",
              "  </svg>\n",
              "      </button>\n",
              "      \n",
              "  <style>\n",
              "    .colab-df-container {\n",
              "      display:flex;\n",
              "      flex-wrap:wrap;\n",
              "      gap: 12px;\n",
              "    }\n",
              "\n",
              "    .colab-df-convert {\n",
              "      background-color: #E8F0FE;\n",
              "      border: none;\n",
              "      border-radius: 50%;\n",
              "      cursor: pointer;\n",
              "      display: none;\n",
              "      fill: #1967D2;\n",
              "      height: 32px;\n",
              "      padding: 0 0 0 0;\n",
              "      width: 32px;\n",
              "    }\n",
              "\n",
              "    .colab-df-convert:hover {\n",
              "      background-color: #E2EBFA;\n",
              "      box-shadow: 0px 1px 2px rgba(60, 64, 67, 0.3), 0px 1px 3px 1px rgba(60, 64, 67, 0.15);\n",
              "      fill: #174EA6;\n",
              "    }\n",
              "\n",
              "    [theme=dark] .colab-df-convert {\n",
              "      background-color: #3B4455;\n",
              "      fill: #D2E3FC;\n",
              "    }\n",
              "\n",
              "    [theme=dark] .colab-df-convert:hover {\n",
              "      background-color: #434B5C;\n",
              "      box-shadow: 0px 1px 3px 1px rgba(0, 0, 0, 0.15);\n",
              "      filter: drop-shadow(0px 1px 2px rgba(0, 0, 0, 0.3));\n",
              "      fill: #FFFFFF;\n",
              "    }\n",
              "  </style>\n",
              "\n",
              "      <script>\n",
              "        const buttonEl =\n",
              "          document.querySelector('#df-57b4c04d-a248-4aa6-8271-9fae42630c86 button.colab-df-convert');\n",
              "        buttonEl.style.display =\n",
              "          google.colab.kernel.accessAllowed ? 'block' : 'none';\n",
              "\n",
              "        async function convertToInteractive(key) {\n",
              "          const element = document.querySelector('#df-57b4c04d-a248-4aa6-8271-9fae42630c86');\n",
              "          const dataTable =\n",
              "            await google.colab.kernel.invokeFunction('convertToInteractive',\n",
              "                                                     [key], {});\n",
              "          if (!dataTable) return;\n",
              "\n",
              "          const docLinkHtml = 'Like what you see? Visit the ' +\n",
              "            '<a target=\"_blank\" href=https://colab.research.google.com/notebooks/data_table.ipynb>data table notebook</a>'\n",
              "            + ' to learn more about interactive tables.';\n",
              "          element.innerHTML = '';\n",
              "          dataTable['output_type'] = 'display_data';\n",
              "          await google.colab.output.renderOutput(dataTable, element);\n",
              "          const docLink = document.createElement('div');\n",
              "          docLink.innerHTML = docLinkHtml;\n",
              "          element.appendChild(docLink);\n",
              "        }\n",
              "      </script>\n",
              "    </div>\n",
              "  </div>\n",
              "  "
            ]
          },
          "metadata": {},
          "execution_count": 3
        }
      ],
      "source": [
        "df = pd.read_csv('Dataset/dataset_labeling_tiktok.csv') #Read dataset\n",
        "df.to_numpy()\n",
        "df"
      ]
    },
    {
      "cell_type": "code",
      "execution_count": 24,
      "metadata": {
        "id": "NUu2tofJcCFf"
      },
      "outputs": [],
      "source": [
        "# Setup X & y \n",
        "X = list()\n",
        "y = list()\n",
        "\n",
        "for i, r in df.iterrows():\n",
        "    X.append(str(r['stem']))\n",
        "    y.append(r['label'])\n",
        "    \n",
        "X_train, X_test, y_train, y_test = train_test_split(X, y, test_size=0.25)"
      ]
    },
    {
      "cell_type": "code",
      "execution_count": 25,
      "metadata": {
        "colab": {
          "base_uri": "https://localhost:8080/",
          "height": 424
        },
        "id": "FommLvezcGnl",
        "outputId": "1bb65c26-03b9-4d05-df64-7fb72e28da3b"
      },
      "outputs": [
        {
          "output_type": "execute_result",
          "data": {
            "text/plain": [
              "                                                   stem  label\n",
              "0     bener tuh pmr latih pas pkl pkl dibiarin aja t...      0\n",
              "1                                                banget      0\n",
              "2                                     dokter kelas meme      0\n",
              "3                suntik sakit tau kaya gigit gigi buaya      0\n",
              "4                                        sehat selu dok      1\n",
              "...                                                 ...    ...\n",
              "1495                                           gigi bgs      0\n",
              "1496                                    ad d btp blok m      0\n",
              "1497                                             banget      0\n",
              "1498                             nonton full psti paham      0\n",
              "1499                                  ken banget ga jkt      0\n",
              "\n",
              "[1500 rows x 2 columns]"
            ],
            "text/html": [
              "\n",
              "  <div id=\"df-9eee5939-96ef-4d57-bc2c-bfaf55075350\">\n",
              "    <div class=\"colab-df-container\">\n",
              "      <div>\n",
              "<style scoped>\n",
              "    .dataframe tbody tr th:only-of-type {\n",
              "        vertical-align: middle;\n",
              "    }\n",
              "\n",
              "    .dataframe tbody tr th {\n",
              "        vertical-align: top;\n",
              "    }\n",
              "\n",
              "    .dataframe thead th {\n",
              "        text-align: right;\n",
              "    }\n",
              "</style>\n",
              "<table border=\"1\" class=\"dataframe\">\n",
              "  <thead>\n",
              "    <tr style=\"text-align: right;\">\n",
              "      <th></th>\n",
              "      <th>stem</th>\n",
              "      <th>label</th>\n",
              "    </tr>\n",
              "  </thead>\n",
              "  <tbody>\n",
              "    <tr>\n",
              "      <th>0</th>\n",
              "      <td>bener tuh pmr latih pas pkl pkl dibiarin aja t...</td>\n",
              "      <td>0</td>\n",
              "    </tr>\n",
              "    <tr>\n",
              "      <th>1</th>\n",
              "      <td>banget</td>\n",
              "      <td>0</td>\n",
              "    </tr>\n",
              "    <tr>\n",
              "      <th>2</th>\n",
              "      <td>dokter kelas meme</td>\n",
              "      <td>0</td>\n",
              "    </tr>\n",
              "    <tr>\n",
              "      <th>3</th>\n",
              "      <td>suntik sakit tau kaya gigit gigi buaya</td>\n",
              "      <td>0</td>\n",
              "    </tr>\n",
              "    <tr>\n",
              "      <th>4</th>\n",
              "      <td>sehat selu dok</td>\n",
              "      <td>1</td>\n",
              "    </tr>\n",
              "    <tr>\n",
              "      <th>...</th>\n",
              "      <td>...</td>\n",
              "      <td>...</td>\n",
              "    </tr>\n",
              "    <tr>\n",
              "      <th>1495</th>\n",
              "      <td>gigi bgs</td>\n",
              "      <td>0</td>\n",
              "    </tr>\n",
              "    <tr>\n",
              "      <th>1496</th>\n",
              "      <td>ad d btp blok m</td>\n",
              "      <td>0</td>\n",
              "    </tr>\n",
              "    <tr>\n",
              "      <th>1497</th>\n",
              "      <td>banget</td>\n",
              "      <td>0</td>\n",
              "    </tr>\n",
              "    <tr>\n",
              "      <th>1498</th>\n",
              "      <td>nonton full psti paham</td>\n",
              "      <td>0</td>\n",
              "    </tr>\n",
              "    <tr>\n",
              "      <th>1499</th>\n",
              "      <td>ken banget ga jkt</td>\n",
              "      <td>0</td>\n",
              "    </tr>\n",
              "  </tbody>\n",
              "</table>\n",
              "<p>1500 rows × 2 columns</p>\n",
              "</div>\n",
              "      <button class=\"colab-df-convert\" onclick=\"convertToInteractive('df-9eee5939-96ef-4d57-bc2c-bfaf55075350')\"\n",
              "              title=\"Convert this dataframe to an interactive table.\"\n",
              "              style=\"display:none;\">\n",
              "        \n",
              "  <svg xmlns=\"http://www.w3.org/2000/svg\" height=\"24px\"viewBox=\"0 0 24 24\"\n",
              "       width=\"24px\">\n",
              "    <path d=\"M0 0h24v24H0V0z\" fill=\"none\"/>\n",
              "    <path d=\"M18.56 5.44l.94 2.06.94-2.06 2.06-.94-2.06-.94-.94-2.06-.94 2.06-2.06.94zm-11 1L8.5 8.5l.94-2.06 2.06-.94-2.06-.94L8.5 2.5l-.94 2.06-2.06.94zm10 10l.94 2.06.94-2.06 2.06-.94-2.06-.94-.94-2.06-.94 2.06-2.06.94z\"/><path d=\"M17.41 7.96l-1.37-1.37c-.4-.4-.92-.59-1.43-.59-.52 0-1.04.2-1.43.59L10.3 9.45l-7.72 7.72c-.78.78-.78 2.05 0 2.83L4 21.41c.39.39.9.59 1.41.59.51 0 1.02-.2 1.41-.59l7.78-7.78 2.81-2.81c.8-.78.8-2.07 0-2.86zM5.41 20L4 18.59l7.72-7.72 1.47 1.35L5.41 20z\"/>\n",
              "  </svg>\n",
              "      </button>\n",
              "      \n",
              "  <style>\n",
              "    .colab-df-container {\n",
              "      display:flex;\n",
              "      flex-wrap:wrap;\n",
              "      gap: 12px;\n",
              "    }\n",
              "\n",
              "    .colab-df-convert {\n",
              "      background-color: #E8F0FE;\n",
              "      border: none;\n",
              "      border-radius: 50%;\n",
              "      cursor: pointer;\n",
              "      display: none;\n",
              "      fill: #1967D2;\n",
              "      height: 32px;\n",
              "      padding: 0 0 0 0;\n",
              "      width: 32px;\n",
              "    }\n",
              "\n",
              "    .colab-df-convert:hover {\n",
              "      background-color: #E2EBFA;\n",
              "      box-shadow: 0px 1px 2px rgba(60, 64, 67, 0.3), 0px 1px 3px 1px rgba(60, 64, 67, 0.15);\n",
              "      fill: #174EA6;\n",
              "    }\n",
              "\n",
              "    [theme=dark] .colab-df-convert {\n",
              "      background-color: #3B4455;\n",
              "      fill: #D2E3FC;\n",
              "    }\n",
              "\n",
              "    [theme=dark] .colab-df-convert:hover {\n",
              "      background-color: #434B5C;\n",
              "      box-shadow: 0px 1px 3px 1px rgba(0, 0, 0, 0.15);\n",
              "      filter: drop-shadow(0px 1px 2px rgba(0, 0, 0, 0.3));\n",
              "      fill: #FFFFFF;\n",
              "    }\n",
              "  </style>\n",
              "\n",
              "      <script>\n",
              "        const buttonEl =\n",
              "          document.querySelector('#df-9eee5939-96ef-4d57-bc2c-bfaf55075350 button.colab-df-convert');\n",
              "        buttonEl.style.display =\n",
              "          google.colab.kernel.accessAllowed ? 'block' : 'none';\n",
              "\n",
              "        async function convertToInteractive(key) {\n",
              "          const element = document.querySelector('#df-9eee5939-96ef-4d57-bc2c-bfaf55075350');\n",
              "          const dataTable =\n",
              "            await google.colab.kernel.invokeFunction('convertToInteractive',\n",
              "                                                     [key], {});\n",
              "          if (!dataTable) return;\n",
              "\n",
              "          const docLinkHtml = 'Like what you see? Visit the ' +\n",
              "            '<a target=\"_blank\" href=https://colab.research.google.com/notebooks/data_table.ipynb>data table notebook</a>'\n",
              "            + ' to learn more about interactive tables.';\n",
              "          element.innerHTML = '';\n",
              "          dataTable['output_type'] = 'display_data';\n",
              "          await google.colab.output.renderOutput(dataTable, element);\n",
              "          const docLink = document.createElement('div');\n",
              "          docLink.innerHTML = docLinkHtml;\n",
              "          element.appendChild(docLink);\n",
              "        }\n",
              "      </script>\n",
              "    </div>\n",
              "  </div>\n",
              "  "
            ]
          },
          "metadata": {},
          "execution_count": 25
        }
      ],
      "source": [
        "# Visualisasi Train Data\n",
        "train_data = {'stem':list(), 'label':list()}\n",
        "for xt in range(len(X_train)):\n",
        "    train_data['stem'].append(X_train[xt])\n",
        "    train_data['label'].append(y_train[xt])\n",
        "train_data = pd.DataFrame(train_data)\n",
        "train_data"
      ]
    },
    {
      "cell_type": "code",
      "execution_count": 26,
      "metadata": {
        "colab": {
          "base_uri": "https://localhost:8080/"
        },
        "id": "z9VIdLkfcHeE",
        "outputId": "a30378c2-83a0-4119-f8b5-9109028e3e12"
      },
      "outputs": [
        {
          "output_type": "stream",
          "name": "stdout",
          "text": [
            "============================ TRAIN DATA ===============================\n",
            "Total Label Positive =  218\n",
            "Total Label Neutral =  1137\n",
            "Total Label Negative =  145\n",
            "=======================================================================\n"
          ]
        }
      ],
      "source": [
        "## Menghitung setiap jumlah Negative, Neutral dan Positive yang ada di data train\n",
        "train_label_positive = 0\n",
        "train_label_negative = 0\n",
        "train_label_neutral = 0 #\n",
        "\n",
        "train_datasets = list()\n",
        "\n",
        "for index, row in train_data.iterrows():\n",
        "    if(row['stem'] != ''):\n",
        "        if(row['label'] == -1):\n",
        "            train_label_negative += 1\n",
        "        elif(row['label'] == 0):\n",
        "            train_label_neutral += 1 #\n",
        "        else:\n",
        "            train_label_positive  += 1\n",
        "\n",
        "        ## Append array train_data\n",
        "        to_append = {\n",
        "            'stemming_tweet' : row['stem'],\n",
        "            'label' : row['label']\n",
        "        }\n",
        "        train_datasets.append(to_append)\n",
        "print('============================ TRAIN DATA ===============================')     \n",
        "print('Total Label Positive = ', train_label_positive)\n",
        "print('Total Label Neutral = ', train_label_neutral) #\n",
        "print('Total Label Negative = ', train_label_negative)\n",
        "print('=======================================================================')"
      ]
    },
    {
      "cell_type": "code",
      "execution_count": 27,
      "metadata": {
        "colab": {
          "base_uri": "https://localhost:8080/",
          "height": 424
        },
        "id": "mpJyLc53cKId",
        "outputId": "481024de-c14a-483c-83ae-9591ca4e69a8"
      },
      "outputs": [
        {
          "output_type": "execute_result",
          "data": {
            "text/plain": [
              "                                            stem  label\n",
              "0                                      sehat dok      1\n",
              "1    sihat sllu doc st hdr support n done follow      0\n",
              "2                                diapain bg abis      0\n",
              "3                          buka cabang indramayu      0\n",
              "4              salfok pp masya allah cntik bnget      0\n",
              "..                                           ...    ...\n",
              "496                                  lokasi mana      0\n",
              "497                                      wibu ya      0\n",
              "498                        tangerang yah praktek      0\n",
              "499                        nyembuhin bell spasly      0\n",
              "500                                       nonton      0\n",
              "\n",
              "[501 rows x 2 columns]"
            ],
            "text/html": [
              "\n",
              "  <div id=\"df-3c929958-6ec8-4259-a01a-b8ebaf9d2066\">\n",
              "    <div class=\"colab-df-container\">\n",
              "      <div>\n",
              "<style scoped>\n",
              "    .dataframe tbody tr th:only-of-type {\n",
              "        vertical-align: middle;\n",
              "    }\n",
              "\n",
              "    .dataframe tbody tr th {\n",
              "        vertical-align: top;\n",
              "    }\n",
              "\n",
              "    .dataframe thead th {\n",
              "        text-align: right;\n",
              "    }\n",
              "</style>\n",
              "<table border=\"1\" class=\"dataframe\">\n",
              "  <thead>\n",
              "    <tr style=\"text-align: right;\">\n",
              "      <th></th>\n",
              "      <th>stem</th>\n",
              "      <th>label</th>\n",
              "    </tr>\n",
              "  </thead>\n",
              "  <tbody>\n",
              "    <tr>\n",
              "      <th>0</th>\n",
              "      <td>sehat dok</td>\n",
              "      <td>1</td>\n",
              "    </tr>\n",
              "    <tr>\n",
              "      <th>1</th>\n",
              "      <td>sihat sllu doc st hdr support n done follow</td>\n",
              "      <td>0</td>\n",
              "    </tr>\n",
              "    <tr>\n",
              "      <th>2</th>\n",
              "      <td>diapain bg abis</td>\n",
              "      <td>0</td>\n",
              "    </tr>\n",
              "    <tr>\n",
              "      <th>3</th>\n",
              "      <td>buka cabang indramayu</td>\n",
              "      <td>0</td>\n",
              "    </tr>\n",
              "    <tr>\n",
              "      <th>4</th>\n",
              "      <td>salfok pp masya allah cntik bnget</td>\n",
              "      <td>0</td>\n",
              "    </tr>\n",
              "    <tr>\n",
              "      <th>...</th>\n",
              "      <td>...</td>\n",
              "      <td>...</td>\n",
              "    </tr>\n",
              "    <tr>\n",
              "      <th>496</th>\n",
              "      <td>lokasi mana</td>\n",
              "      <td>0</td>\n",
              "    </tr>\n",
              "    <tr>\n",
              "      <th>497</th>\n",
              "      <td>wibu ya</td>\n",
              "      <td>0</td>\n",
              "    </tr>\n",
              "    <tr>\n",
              "      <th>498</th>\n",
              "      <td>tangerang yah praktek</td>\n",
              "      <td>0</td>\n",
              "    </tr>\n",
              "    <tr>\n",
              "      <th>499</th>\n",
              "      <td>nyembuhin bell spasly</td>\n",
              "      <td>0</td>\n",
              "    </tr>\n",
              "    <tr>\n",
              "      <th>500</th>\n",
              "      <td>nonton</td>\n",
              "      <td>0</td>\n",
              "    </tr>\n",
              "  </tbody>\n",
              "</table>\n",
              "<p>501 rows × 2 columns</p>\n",
              "</div>\n",
              "      <button class=\"colab-df-convert\" onclick=\"convertToInteractive('df-3c929958-6ec8-4259-a01a-b8ebaf9d2066')\"\n",
              "              title=\"Convert this dataframe to an interactive table.\"\n",
              "              style=\"display:none;\">\n",
              "        \n",
              "  <svg xmlns=\"http://www.w3.org/2000/svg\" height=\"24px\"viewBox=\"0 0 24 24\"\n",
              "       width=\"24px\">\n",
              "    <path d=\"M0 0h24v24H0V0z\" fill=\"none\"/>\n",
              "    <path d=\"M18.56 5.44l.94 2.06.94-2.06 2.06-.94-2.06-.94-.94-2.06-.94 2.06-2.06.94zm-11 1L8.5 8.5l.94-2.06 2.06-.94-2.06-.94L8.5 2.5l-.94 2.06-2.06.94zm10 10l.94 2.06.94-2.06 2.06-.94-2.06-.94-.94-2.06-.94 2.06-2.06.94z\"/><path d=\"M17.41 7.96l-1.37-1.37c-.4-.4-.92-.59-1.43-.59-.52 0-1.04.2-1.43.59L10.3 9.45l-7.72 7.72c-.78.78-.78 2.05 0 2.83L4 21.41c.39.39.9.59 1.41.59.51 0 1.02-.2 1.41-.59l7.78-7.78 2.81-2.81c.8-.78.8-2.07 0-2.86zM5.41 20L4 18.59l7.72-7.72 1.47 1.35L5.41 20z\"/>\n",
              "  </svg>\n",
              "      </button>\n",
              "      \n",
              "  <style>\n",
              "    .colab-df-container {\n",
              "      display:flex;\n",
              "      flex-wrap:wrap;\n",
              "      gap: 12px;\n",
              "    }\n",
              "\n",
              "    .colab-df-convert {\n",
              "      background-color: #E8F0FE;\n",
              "      border: none;\n",
              "      border-radius: 50%;\n",
              "      cursor: pointer;\n",
              "      display: none;\n",
              "      fill: #1967D2;\n",
              "      height: 32px;\n",
              "      padding: 0 0 0 0;\n",
              "      width: 32px;\n",
              "    }\n",
              "\n",
              "    .colab-df-convert:hover {\n",
              "      background-color: #E2EBFA;\n",
              "      box-shadow: 0px 1px 2px rgba(60, 64, 67, 0.3), 0px 1px 3px 1px rgba(60, 64, 67, 0.15);\n",
              "      fill: #174EA6;\n",
              "    }\n",
              "\n",
              "    [theme=dark] .colab-df-convert {\n",
              "      background-color: #3B4455;\n",
              "      fill: #D2E3FC;\n",
              "    }\n",
              "\n",
              "    [theme=dark] .colab-df-convert:hover {\n",
              "      background-color: #434B5C;\n",
              "      box-shadow: 0px 1px 3px 1px rgba(0, 0, 0, 0.15);\n",
              "      filter: drop-shadow(0px 1px 2px rgba(0, 0, 0, 0.3));\n",
              "      fill: #FFFFFF;\n",
              "    }\n",
              "  </style>\n",
              "\n",
              "      <script>\n",
              "        const buttonEl =\n",
              "          document.querySelector('#df-3c929958-6ec8-4259-a01a-b8ebaf9d2066 button.colab-df-convert');\n",
              "        buttonEl.style.display =\n",
              "          google.colab.kernel.accessAllowed ? 'block' : 'none';\n",
              "\n",
              "        async function convertToInteractive(key) {\n",
              "          const element = document.querySelector('#df-3c929958-6ec8-4259-a01a-b8ebaf9d2066');\n",
              "          const dataTable =\n",
              "            await google.colab.kernel.invokeFunction('convertToInteractive',\n",
              "                                                     [key], {});\n",
              "          if (!dataTable) return;\n",
              "\n",
              "          const docLinkHtml = 'Like what you see? Visit the ' +\n",
              "            '<a target=\"_blank\" href=https://colab.research.google.com/notebooks/data_table.ipynb>data table notebook</a>'\n",
              "            + ' to learn more about interactive tables.';\n",
              "          element.innerHTML = '';\n",
              "          dataTable['output_type'] = 'display_data';\n",
              "          await google.colab.output.renderOutput(dataTable, element);\n",
              "          const docLink = document.createElement('div');\n",
              "          docLink.innerHTML = docLinkHtml;\n",
              "          element.appendChild(docLink);\n",
              "        }\n",
              "      </script>\n",
              "    </div>\n",
              "  </div>\n",
              "  "
            ]
          },
          "metadata": {},
          "execution_count": 27
        }
      ],
      "source": [
        "# Visualisasi Test Data\n",
        "test_data = {'stem':list(), 'label':list()}\n",
        "for xt in range(len(X_test)):\n",
        "    test_data['stem'].append(X_test[xt])\n",
        "    test_data['label'].append(y_test[xt])\n",
        "test_data = pd.DataFrame(test_data)\n",
        "test_data"
      ]
    },
    {
      "cell_type": "code",
      "execution_count": 28,
      "metadata": {
        "colab": {
          "base_uri": "https://localhost:8080/"
        },
        "id": "cYO9oRrMcM1m",
        "outputId": "8888a9d8-46ba-413a-dbe2-f09158a0fb5d"
      },
      "outputs": [
        {
          "output_type": "stream",
          "name": "stdout",
          "text": [
            "============================ Test DATA ===============================\n",
            "Total Label Positive =  81\n",
            "Total Label Negative =  49\n",
            "Total Label Neutral =  371\n",
            "=======================================================================\n"
          ]
        }
      ],
      "source": [
        "## Menghitung setiap jumlah Negative, Neutral dan Positive yang ada di data test\n",
        "test_label_positive = 0\n",
        "test_label_negative = 0\n",
        "test_label_neutral = 0\n",
        "\n",
        "test_datasets = list()\n",
        "\n",
        "for index, row in test_data.iterrows():\n",
        "    if(row['stem'] != ''):\n",
        "        if(row['label'] == -1):\n",
        "            test_label_negative += 1\n",
        "        elif(row['label'] == 0):\n",
        "            test_label_neutral += 1 #\n",
        "        else:\n",
        "            test_label_positive  += 1\n",
        "\n",
        "        ## Append array train_data\n",
        "        to_append = {\n",
        "            'stemming_tweet' : row['stem'],\n",
        "            'label' : row['label']\n",
        "        }\n",
        "        test_datasets.append(to_append)\n",
        "print('============================ Test DATA ===============================')     \n",
        "print('Total Label Positive = ', test_label_positive)\n",
        "print('Total Label Negative = ', test_label_negative)\n",
        "print('Total Label Neutral = ', test_label_neutral) #\n",
        "print('=======================================================================')"
      ]
    },
    {
      "cell_type": "code",
      "execution_count": 29,
      "metadata": {
        "colab": {
          "base_uri": "https://localhost:8080/"
        },
        "id": "KsGVRPYtcXQI",
        "outputId": "616c6dc7-2013-42c9-d103-932fb4bbe35f"
      },
      "outputs": [
        {
          "output_type": "execute_result",
          "data": {
            "text/plain": [
              "array(['aaaa', 'aahhhh', 'aapp', ..., 'zada', 'zbaru', 'zein'],\n",
              "      dtype=object)"
            ]
          },
          "metadata": {},
          "execution_count": 29
        }
      ],
      "source": [
        "from sklearn.feature_extraction.text import TfidfVectorizer\n",
        "\n",
        "vectorizer     = TfidfVectorizer(norm='l2') # Membuat TF ID-F Vectorizer\n",
        "X_train_corpus = vectorizer.fit_transform(X_train) # Mencari vocabulary\n",
        "feature_names  = vectorizer.get_feature_names_out() # Mendapatkan Feature Names matrix\n",
        "feature_names"
      ]
    },
    {
      "cell_type": "code",
      "execution_count": 30,
      "metadata": {
        "id": "BZmItCr1ca1-"
      },
      "outputs": [],
      "source": [
        "X_test_corpus = vectorizer.transform(X_test) # Masukan corpus test ke matrix train\n",
        "\n",
        "df_vec_test = pd.DataFrame(X_test_corpus.toarray(), columns=feature_names)"
      ]
    },
    {
      "cell_type": "markdown",
      "metadata": {
        "id": "JYDfQ61vc7ei"
      },
      "source": [
        "## Algoritma Naive Bayes"
      ]
    },
    {
      "cell_type": "code",
      "execution_count": 31,
      "metadata": {
        "id": "BVzKNAsEc2z3"
      },
      "outputs": [],
      "source": [
        "model = GaussianNB()\n",
        "model.fit(X_train_corpus.toarray(), y_train)\n",
        "y_pred= model.predict((X_test_corpus.toarray()))\n",
        "preds = y_pred.tolist()"
      ]
    },
    {
      "cell_type": "code",
      "execution_count": 32,
      "metadata": {
        "colab": {
          "base_uri": "https://localhost:8080/",
          "height": 295
        },
        "id": "753grSJ6dEOS",
        "outputId": "6e1c9bfe-0c99-4b70-a9fa-28cc0411ad2f"
      },
      "outputs": [
        {
          "output_type": "display_data",
          "data": {
            "text/plain": [
              "<Figure size 432x288 with 2 Axes>"
            ],
            "image/png": "[encoded data removed]"
          },
          "metadata": {
            "needs_background": "light"
          }
        }
      ],
      "source": [
        " # confusion matrix\n",
        "import seaborn as sns\n",
        "import matplotlib.pyplot as plt\n",
        "    \n",
        "Confusion_matrix = confusion_matrix(y_test, y_pred, labels=[1,0,-1])\n",
        "class_label      = ['Positive', 'Neutral','Negative']\n",
        "df_confusion     = pd.DataFrame(Confusion_matrix, index = class_label, columns = class_label)\n",
        "sns.heatmap(df_confusion, annot=True, fmt = \"d\", cmap=plt.cm.Blues)\n",
        "plt.title('Confusion Matrix')\n",
        "plt.xlabel('Prediction Label')\n",
        "plt.ylabel('Actual Label')\n",
        "plt.show()"
      ]
    },
    {
      "cell_type": "code",
      "execution_count": 33,
      "metadata": {
        "colab": {
          "base_uri": "https://localhost:8080/"
        },
        "id": "55SRz_W3dGsI",
        "outputId": "731ee2c9-d5cf-4c75-b673-4b7ed7735797"
      },
      "outputs": [
        {
          "output_type": "stream",
          "name": "stdout",
          "text": [
            "Accuracy Score = 0.48\n",
            "Precission = 0.48\n",
            "Recall = 0.48\n",
            "F-Score = 0.48\n"
          ]
        }
      ],
      "source": [
        "_accuracy   = accuracy_score(y_test, y_pred)\n",
        "_precission = precision_score(y_test, y_pred, average='micro')\n",
        "_recall     = recall_score(y_test, y_pred, average='micro')\n",
        "_fscore     = f1_score(y_test, y_pred, average='micro')\n",
        "\n",
        "print('Accuracy Score =', \"{:.2f}\".format(_accuracy))\n",
        "print('Precission =', \"{:.2f}\".format(_precission))\n",
        "print('Recall =', \"{:.2f}\".format(_recall))\n",
        "print('F-Score =', \"{:.2f}\".format(_fscore))"
      ]
    },
    {
      "cell_type": "code",
      "execution_count": 34,
      "metadata": {
        "colab": {
          "base_uri": "https://localhost:8080/"
        },
        "id": "bmP8DvridI3j",
        "outputId": "f31572ab-e74f-44af-c26d-5a5ef790b76e"
      },
      "outputs": [
        {
          "output_type": "stream",
          "name": "stdout",
          "text": [
            "              precision    recall  f1-score   support\n",
            "\n",
            "          -1       0.36      0.61      0.45        49\n",
            "           0       0.79      0.43      0.56       371\n",
            "           1       0.23      0.60      0.33        81\n",
            "\n",
            "    accuracy                           0.48       501\n",
            "   macro avg       0.46      0.55      0.45       501\n",
            "weighted avg       0.66      0.48      0.51       501\n",
            "\n"
          ]
        }
      ],
      "source": [
        "# Menghitung nilai akurasi dari klasifikasi naive bayes \n",
        "from sklearn.metrics import classification_report\n",
        "print(classification_report(y_test,y_pred))"
      ]
    },
    {
      "cell_type": "code",
      "source": [
        "#persentase label hasil prediksi menggunakan algoritma Naive Bayes\n",
        "df_result_nb = pd.DataFrame({'prediksi':y_pred})\n",
        "\n",
        "pd.options.display.float_format = '{:,.2f}%'.format\n",
        "df_persen_nb = pd.DataFrame(df_result_nb['prediksi'].value_counts()/df_result_nb['prediksi'].count()*100)\n",
        "df_persen_nb = df_persen_nb.rename(index={-1:'Negative', 0:'Neutral', 1:'Positive'})\n",
        "df_persen_nb"
      ],
      "metadata": {
        "colab": {
          "base_uri": "https://localhost:8080/",
          "height": 143
        },
        "id": "4v4Gswro0O12",
        "outputId": "9e404db5-1997-4ee8-b5e5-2ff109919d2c"
      },
      "execution_count": 35,
      "outputs": [
        {
          "output_type": "execute_result",
          "data": {
            "text/plain": [
              "          prediksi\n",
              "Positive    43.11%\n",
              "Neutral     40.32%\n",
              "Negative    16.57%"
            ],
            "text/html": [
              "\n",
              "  <div id=\"df-e7a150d4-8012-4e02-be31-2e44f1e3e474\">\n",
              "    <div class=\"colab-df-container\">\n",
              "      <div>\n",
              "<style scoped>\n",
              "    .dataframe tbody tr th:only-of-type {\n",
              "        vertical-align: middle;\n",
              "    }\n",
              "\n",
              "    .dataframe tbody tr th {\n",
              "        vertical-align: top;\n",
              "    }\n",
              "\n",
              "    .dataframe thead th {\n",
              "        text-align: right;\n",
              "    }\n",
              "</style>\n",
              "<table border=\"1\" class=\"dataframe\">\n",
              "  <thead>\n",
              "    <tr style=\"text-align: right;\">\n",
              "      <th></th>\n",
              "      <th>prediksi</th>\n",
              "    </tr>\n",
              "  </thead>\n",
              "  <tbody>\n",
              "    <tr>\n",
              "      <th>Positive</th>\n",
              "      <td>43.11%</td>\n",
              "    </tr>\n",
              "    <tr>\n",
              "      <th>Neutral</th>\n",
              "      <td>40.32%</td>\n",
              "    </tr>\n",
              "    <tr>\n",
              "      <th>Negative</th>\n",
              "      <td>16.57%</td>\n",
              "    </tr>\n",
              "  </tbody>\n",
              "</table>\n",
              "</div>\n",
              "      <button class=\"colab-df-convert\" onclick=\"convertToInteractive('df-e7a150d4-8012-4e02-be31-2e44f1e3e474')\"\n",
              "              title=\"Convert this dataframe to an interactive table.\"\n",
              "              style=\"display:none;\">\n",
              "        \n",
              "  <svg xmlns=\"http://www.w3.org/2000/svg\" height=\"24px\"viewBox=\"0 0 24 24\"\n",
              "       width=\"24px\">\n",
              "    <path d=\"M0 0h24v24H0V0z\" fill=\"none\"/>\n",
              "    <path d=\"M18.56 5.44l.94 2.06.94-2.06 2.06-.94-2.06-.94-.94-2.06-.94 2.06-2.06.94zm-11 1L8.5 8.5l.94-2.06 2.06-.94-2.06-.94L8.5 2.5l-.94 2.06-2.06.94zm10 10l.94 2.06.94-2.06 2.06-.94-2.06-.94-.94-2.06-.94 2.06-2.06.94z\"/><path d=\"M17.41 7.96l-1.37-1.37c-.4-.4-.92-.59-1.43-.59-.52 0-1.04.2-1.43.59L10.3 9.45l-7.72 7.72c-.78.78-.78 2.05 0 2.83L4 21.41c.39.39.9.59 1.41.59.51 0 1.02-.2 1.41-.59l7.78-7.78 2.81-2.81c.8-.78.8-2.07 0-2.86zM5.41 20L4 18.59l7.72-7.72 1.47 1.35L5.41 20z\"/>\n",
              "  </svg>\n",
              "      </button>\n",
              "      \n",
              "  <style>\n",
              "    .colab-df-container {\n",
              "      display:flex;\n",
              "      flex-wrap:wrap;\n",
              "      gap: 12px;\n",
              "    }\n",
              "\n",
              "    .colab-df-convert {\n",
              "      background-color: #E8F0FE;\n",
              "      border: none;\n",
              "      border-radius: 50%;\n",
              "      cursor: pointer;\n",
              "      display: none;\n",
              "      fill: #1967D2;\n",
              "      height: 32px;\n",
              "      padding: 0 0 0 0;\n",
              "      width: 32px;\n",
              "    }\n",
              "\n",
              "    .colab-df-convert:hover {\n",
              "      background-color: #E2EBFA;\n",
              "      box-shadow: 0px 1px 2px rgba(60, 64, 67, 0.3), 0px 1px 3px 1px rgba(60, 64, 67, 0.15);\n",
              "      fill: #174EA6;\n",
              "    }\n",
              "\n",
              "    [theme=dark] .colab-df-convert {\n",
              "      background-color: #3B4455;\n",
              "      fill: #D2E3FC;\n",
              "    }\n",
              "\n",
              "    [theme=dark] .colab-df-convert:hover {\n",
              "      background-color: #434B5C;\n",
              "      box-shadow: 0px 1px 3px 1px rgba(0, 0, 0, 0.15);\n",
              "      filter: drop-shadow(0px 1px 2px rgba(0, 0, 0, 0.3));\n",
              "      fill: #FFFFFF;\n",
              "    }\n",
              "  </style>\n",
              "\n",
              "      <script>\n",
              "        const buttonEl =\n",
              "          document.querySelector('#df-e7a150d4-8012-4e02-be31-2e44f1e3e474 button.colab-df-convert');\n",
              "        buttonEl.style.display =\n",
              "          google.colab.kernel.accessAllowed ? 'block' : 'none';\n",
              "\n",
              "        async function convertToInteractive(key) {\n",
              "          const element = document.querySelector('#df-e7a150d4-8012-4e02-be31-2e44f1e3e474');\n",
              "          const dataTable =\n",
              "            await google.colab.kernel.invokeFunction('convertToInteractive',\n",
              "                                                     [key], {});\n",
              "          if (!dataTable) return;\n",
              "\n",
              "          const docLinkHtml = 'Like what you see? Visit the ' +\n",
              "            '<a target=\"_blank\" href=https://colab.research.google.com/notebooks/data_table.ipynb>data table notebook</a>'\n",
              "            + ' to learn more about interactive tables.';\n",
              "          element.innerHTML = '';\n",
              "          dataTable['output_type'] = 'display_data';\n",
              "          await google.colab.output.renderOutput(dataTable, element);\n",
              "          const docLink = document.createElement('div');\n",
              "          docLink.innerHTML = docLinkHtml;\n",
              "          element.appendChild(docLink);\n",
              "        }\n",
              "      </script>\n",
              "    </div>\n",
              "  </div>\n",
              "  "
            ]
          },
          "metadata": {},
          "execution_count": 35
        }
      ]
    },
    {
      "cell_type": "code",
      "source": [
        "print('Label', df_persen_nb.index[0] ,'memiliki persentase sebesar', '{:,.2f}'.format(df_persen_nb['prediksi'][0]), '%')\n",
        "print('Label', df_persen_nb.index[1] ,'memiliki persentase sebesar', '{:,.2f}'.format(df_persen_nb['prediksi'][1]), '%')\n",
        "print('Label', df_persen_nb.index[2] ,'memiliki persentase sebesar', '{:,.2f}'.format(df_persen_nb['prediksi'][2]), '%')"
      ],
      "metadata": {
        "colab": {
          "base_uri": "https://localhost:8080/"
        },
        "id": "o_7AX0z_vFvs",
        "outputId": "1cd0ab26-5cc6-4d47-f6aa-00ff55c722a4"
      },
      "execution_count": 41,
      "outputs": [
        {
          "output_type": "stream",
          "name": "stdout",
          "text": [
            "Label Positive memiliki persentase sebesar 43.11 %\n",
            "Label Neutral memiliki persentase sebesar 40.32 %\n",
            "Label Negative memiliki persentase sebesar 16.57 %\n"
          ]
        }
      ]
    },
    {
      "cell_type": "code",
      "source": [
        "print('Prediksi menggunakan algoritma Naive Bayes menghasilkan label', df_persen_nb['prediksi'].idxmax() ,'memiliki persentase terbanyak sebesar', '{:,.2f}'.format(max(df_persen_nb['prediksi']), 2), '%')"
      ],
      "metadata": {
        "colab": {
          "base_uri": "https://localhost:8080/"
        },
        "id": "FhSET7Mf0OwO",
        "outputId": "fc6dcea4-fda8-47de-dc39-09b68fb3561a"
      },
      "execution_count": 44,
      "outputs": [
        {
          "output_type": "stream",
          "name": "stdout",
          "text": [
            "Prediksi menggunakan algoritma Naive Bayes menghasilkan label Positive memiliki persentase terbanyak sebesar 43.11 %\n"
          ]
        }
      ]
    },
    {
      "cell_type": "markdown",
      "metadata": {
        "id": "969Bv65DdNgv"
      },
      "source": [
        "## Algoritma SVM"
      ]
    },
    {
      "cell_type": "code",
      "execution_count": 42,
      "metadata": {
        "id": "r2rCOYHrWbTf"
      },
      "outputs": [],
      "source": [
        "from sklearn.model_selection import GridSearchCV\n",
        "from sklearn.svm import SVC\n",
        "\n",
        "#Menggunakan GridSearch dengan fold 6 (melalui cv = 6)\n",
        "param_grid = {'C': [1e2, 1e3, 5e3, 1e4, 5e4, 1e5],\n",
        "              'gamma': [0.0001, 0.0005, 0.001, 0.005, 0.01, 0.1], }\n",
        "clf = GridSearchCV(SVC(kernel='rbf', class_weight='balanced'), param_grid, cv = 6)\n",
        "clf.fit(X_train_corpus.toarray(), y_train)\n",
        "pred = clf.predict(X_test_corpus.toarray())\n",
        "model.fit(X_train_corpus.toarray(), y_train)\n",
        "y_pred= model.predict((X_test_corpus.toarray()))"
      ]
    },
    {
      "cell_type": "code",
      "execution_count": 45,
      "metadata": {
        "colab": {
          "base_uri": "https://localhost:8080/"
        },
        "id": "WRApY4tSeX8V",
        "outputId": "a742d74c-6edc-405a-ec27-8589d033c991"
      },
      "outputs": [
        {
          "output_type": "stream",
          "name": "stdout",
          "text": [
            "SVC(C=100.0, class_weight='balanced', gamma=0.005)\n"
          ]
        }
      ],
      "source": [
        "print(clf.best_estimator_)"
      ]
    },
    {
      "cell_type": "code",
      "execution_count": 46,
      "metadata": {
        "colab": {
          "base_uri": "https://localhost:8080/"
        },
        "id": "wgFe7LxhdWHa",
        "outputId": "a64361be-813a-49b4-b01c-7e4755a705c0"
      },
      "outputs": [
        {
          "output_type": "stream",
          "name": "stdout",
          "text": [
            "Accuracy Score = 0.92\n",
            "Precission = 0.92\n",
            "Recall = 0.92\n",
            "F-Score = 0.92\n"
          ]
        }
      ],
      "source": [
        "_accuracy   = accuracy_score(y_test, pred)\n",
        "_precission = precision_score(y_test, pred, average='micro')\n",
        "_recall     = recall_score(y_test, pred, average='micro')\n",
        "_fscore     = f1_score(y_test, pred, average='micro')\n",
        "\n",
        "print('Accuracy Score =', \"{:.2f}\".format(_accuracy))\n",
        "print('Precission =', \"{:.2f}\".format(_precission))\n",
        "print('Recall =', \"{:.2f}\".format(_recall))\n",
        "print('F-Score =', \"{:.2f}\".format(_fscore))"
      ]
    },
    {
      "cell_type": "code",
      "execution_count": 47,
      "metadata": {
        "colab": {
          "base_uri": "https://localhost:8080/"
        },
        "id": "1Kd9G57Jehjb",
        "outputId": "f943e0c6-359a-40b9-cf92-0d8fe92a8035"
      },
      "outputs": [
        {
          "output_type": "stream",
          "name": "stdout",
          "text": [
            "              precision    recall  f1-score   support\n",
            "\n",
            "          -1       0.82      0.84      0.83        49\n",
            "           0       0.95      0.94      0.95       371\n",
            "           1       0.85      0.88      0.86        81\n",
            "\n",
            "    accuracy                           0.92       501\n",
            "   macro avg       0.87      0.89      0.88       501\n",
            "weighted avg       0.92      0.92      0.92       501\n",
            "\n"
          ]
        }
      ],
      "source": [
        "# Menghitung nilai akurasi dari klasifikasi SVM \n",
        "from sklearn.metrics import classification_report\n",
        "print(classification_report(y_test, pred))"
      ]
    },
    {
      "cell_type": "code",
      "execution_count": 48,
      "metadata": {
        "colab": {
          "base_uri": "https://localhost:8080/",
          "height": 295
        },
        "id": "DWOwNxQfenJV",
        "outputId": "7493ffdb-9b41-459a-a256-33458c221e4a"
      },
      "outputs": [
        {
          "output_type": "display_data",
          "data": {
            "text/plain": [
              "<Figure size 432x288 with 2 Axes>"
            ],
            "image/png": "[encoded data removed]"
          },
          "metadata": {
            "needs_background": "light"
          }
        }
      ],
      "source": [
        "# confusion matrix\n",
        "import seaborn as sns\n",
        "import matplotlib.pyplot as plt\n",
        "    \n",
        "Confusion_matrix = confusion_matrix(y_test, pred, labels=[1,0,-1])\n",
        "class_label      = ['Positive', 'Neutral','Negative']\n",
        "df_confusion     = pd.DataFrame(Confusion_matrix, index = class_label, columns = class_label)\n",
        "sns.heatmap(df_confusion, annot=True, fmt = \"d\", cmap=plt.cm.Blues)\n",
        "plt.title('Confusion Matrix')\n",
        "plt.xlabel('Prediction Label')\n",
        "plt.ylabel('Actual Label')\n",
        "plt.show()"
      ]
    },
    {
      "cell_type": "code",
      "source": [
        "#persentase label hasil prediksi menggunakan algoritma SVM\n",
        "df_result_svm = pd.DataFrame({'prediksi':pred})\n",
        "\n",
        "pd.options.display.float_format = '{:,.2f}%'.format\n",
        "df_persen_svm = pd.DataFrame(df_result_svm['prediksi'].value_counts()/df_result_svm['prediksi'].count()*100)\n",
        "df_persen_svm = df_persen_svm.rename(index={-1:'Negative', 0:'Neutral', 1:'Positive'})\n",
        "df_persen_svm"
      ],
      "metadata": {
        "colab": {
          "base_uri": "https://localhost:8080/",
          "height": 143
        },
        "id": "SPMY867c0LYG",
        "outputId": "f58529ab-8cf0-4c11-9234-f2343f3fa47a"
      },
      "execution_count": 49,
      "outputs": [
        {
          "output_type": "execute_result",
          "data": {
            "text/plain": [
              "          prediksi\n",
              "Neutral     73.25%\n",
              "Positive    16.77%\n",
              "Negative     9.98%"
            ],
            "text/html": [
              "\n",
              "  <div id=\"df-8e22bda0-1666-4a19-9493-b78750ef017c\">\n",
              "    <div class=\"colab-df-container\">\n",
              "      <div>\n",
              "<style scoped>\n",
              "    .dataframe tbody tr th:only-of-type {\n",
              "        vertical-align: middle;\n",
              "    }\n",
              "\n",
              "    .dataframe tbody tr th {\n",
              "        vertical-align: top;\n",
              "    }\n",
              "\n",
              "    .dataframe thead th {\n",
              "        text-align: right;\n",
              "    }\n",
              "</style>\n",
              "<table border=\"1\" class=\"dataframe\">\n",
              "  <thead>\n",
              "    <tr style=\"text-align: right;\">\n",
              "      <th></th>\n",
              "      <th>prediksi</th>\n",
              "    </tr>\n",
              "  </thead>\n",
              "  <tbody>\n",
              "    <tr>\n",
              "      <th>Neutral</th>\n",
              "      <td>73.25%</td>\n",
              "    </tr>\n",
              "    <tr>\n",
              "      <th>Positive</th>\n",
              "      <td>16.77%</td>\n",
              "    </tr>\n",
              "    <tr>\n",
              "      <th>Negative</th>\n",
              "      <td>9.98%</td>\n",
              "    </tr>\n",
              "  </tbody>\n",
              "</table>\n",
              "</div>\n",
              "      <button class=\"colab-df-convert\" onclick=\"convertToInteractive('df-8e22bda0-1666-4a19-9493-b78750ef017c')\"\n",
              "              title=\"Convert this dataframe to an interactive table.\"\n",
              "              style=\"display:none;\">\n",
              "        \n",
              "  <svg xmlns=\"http://www.w3.org/2000/svg\" height=\"24px\"viewBox=\"0 0 24 24\"\n",
              "       width=\"24px\">\n",
              "    <path d=\"M0 0h24v24H0V0z\" fill=\"none\"/>\n",
              "    <path d=\"M18.56 5.44l.94 2.06.94-2.06 2.06-.94-2.06-.94-.94-2.06-.94 2.06-2.06.94zm-11 1L8.5 8.5l.94-2.06 2.06-.94-2.06-.94L8.5 2.5l-.94 2.06-2.06.94zm10 10l.94 2.06.94-2.06 2.06-.94-2.06-.94-.94-2.06-.94 2.06-2.06.94z\"/><path d=\"M17.41 7.96l-1.37-1.37c-.4-.4-.92-.59-1.43-.59-.52 0-1.04.2-1.43.59L10.3 9.45l-7.72 7.72c-.78.78-.78 2.05 0 2.83L4 21.41c.39.39.9.59 1.41.59.51 0 1.02-.2 1.41-.59l7.78-7.78 2.81-2.81c.8-.78.8-2.07 0-2.86zM5.41 20L4 18.59l7.72-7.72 1.47 1.35L5.41 20z\"/>\n",
              "  </svg>\n",
              "      </button>\n",
              "      \n",
              "  <style>\n",
              "    .colab-df-container {\n",
              "      display:flex;\n",
              "      flex-wrap:wrap;\n",
              "      gap: 12px;\n",
              "    }\n",
              "\n",
              "    .colab-df-convert {\n",
              "      background-color: #E8F0FE;\n",
              "      border: none;\n",
              "      border-radius: 50%;\n",
              "      cursor: pointer;\n",
              "      display: none;\n",
              "      fill: #1967D2;\n",
              "      height: 32px;\n",
              "      padding: 0 0 0 0;\n",
              "      width: 32px;\n",
              "    }\n",
              "\n",
              "    .colab-df-convert:hover {\n",
              "      background-color: #E2EBFA;\n",
              "      box-shadow: 0px 1px 2px rgba(60, 64, 67, 0.3), 0px 1px 3px 1px rgba(60, 64, 67, 0.15);\n",
              "      fill: #174EA6;\n",
              "    }\n",
              "\n",
              "    [theme=dark] .colab-df-convert {\n",
              "      background-color: #3B4455;\n",
              "      fill: #D2E3FC;\n",
              "    }\n",
              "\n",
              "    [theme=dark] .colab-df-convert:hover {\n",
              "      background-color: #434B5C;\n",
              "      box-shadow: 0px 1px 3px 1px rgba(0, 0, 0, 0.15);\n",
              "      filter: drop-shadow(0px 1px 2px rgba(0, 0, 0, 0.3));\n",
              "      fill: #FFFFFF;\n",
              "    }\n",
              "  </style>\n",
              "\n",
              "      <script>\n",
              "        const buttonEl =\n",
              "          document.querySelector('#df-8e22bda0-1666-4a19-9493-b78750ef017c button.colab-df-convert');\n",
              "        buttonEl.style.display =\n",
              "          google.colab.kernel.accessAllowed ? 'block' : 'none';\n",
              "\n",
              "        async function convertToInteractive(key) {\n",
              "          const element = document.querySelector('#df-8e22bda0-1666-4a19-9493-b78750ef017c');\n",
              "          const dataTable =\n",
              "            await google.colab.kernel.invokeFunction('convertToInteractive',\n",
              "                                                     [key], {});\n",
              "          if (!dataTable) return;\n",
              "\n",
              "          const docLinkHtml = 'Like what you see? Visit the ' +\n",
              "            '<a target=\"_blank\" href=https://colab.research.google.com/notebooks/data_table.ipynb>data table notebook</a>'\n",
              "            + ' to learn more about interactive tables.';\n",
              "          element.innerHTML = '';\n",
              "          dataTable['output_type'] = 'display_data';\n",
              "          await google.colab.output.renderOutput(dataTable, element);\n",
              "          const docLink = document.createElement('div');\n",
              "          docLink.innerHTML = docLinkHtml;\n",
              "          element.appendChild(docLink);\n",
              "        }\n",
              "      </script>\n",
              "    </div>\n",
              "  </div>\n",
              "  "
            ]
          },
          "metadata": {},
          "execution_count": 49
        }
      ]
    },
    {
      "cell_type": "code",
      "source": [
        "print('Label', df_persen_svm.index[0] ,'memiliki persentase sebesar', '{:,.2f}'.format(df_persen_svm['prediksi'][0]), '%')\n",
        "print('Label', df_persen_svm.index[1] ,'memiliki persentase sebesar', '{:,.2f}'.format(df_persen_svm['prediksi'][1]), '%')\n",
        "print('Label', df_persen_svm.index[2] ,'memiliki persentase sebesar', '{:,.2f}'.format(df_persen_svm['prediksi'][2]), '%')"
      ],
      "metadata": {
        "colab": {
          "base_uri": "https://localhost:8080/"
        },
        "id": "jcuG8s_ExUIg",
        "outputId": "981f2d3e-a983-49c3-c274-e9e830967216"
      },
      "execution_count": 53,
      "outputs": [
        {
          "output_type": "stream",
          "name": "stdout",
          "text": [
            "Label Neutral memiliki persentase sebesar 73.25 %\n",
            "Label Positive memiliki persentase sebesar 16.77 %\n",
            "Label Negative memiliki persentase sebesar 9.98 %\n"
          ]
        }
      ]
    },
    {
      "cell_type": "code",
      "source": [
        "print('Prediksi menggunakan algoritma SVM menghasilkan label', df_persen_svm['prediksi'].idxmax() ,'memiliki persentase terbanyak sebesar', '{:,.2f}'.format(max(df_persen_svm['prediksi']), 2), '%')"
      ],
      "metadata": {
        "colab": {
          "base_uri": "https://localhost:8080/"
        },
        "id": "198iVP7l0NoW",
        "outputId": "467797e3-ed93-4187-afa1-4128c1cfb01f"
      },
      "execution_count": 54,
      "outputs": [
        {
          "output_type": "stream",
          "name": "stdout",
          "text": [
            "Prediksi menggunakan algoritma SVM menghasilkan label Neutral memiliki persentase terbanyak sebesar 73.25 %\n"
          ]
        }
      ]
    },
    {
      "cell_type": "markdown",
      "source": [
        "## Persentase label"
      ],
      "metadata": {
        "id": "xhsGYUvA1TLR"
      }
    },
    {
      "cell_type": "code",
      "source": [
        "#persentase label dataset\n",
        "pd.options.display.float_format = '{:,.2f}%'.format\n",
        "df_persen = pd.DataFrame(round((df['label'].value_counts()/df['label'].count())*100, 2))\n",
        "df_persen = df_persen.rename(index={-1:'Negative', 0:'Neutral', 1:'Positive'})\n",
        "df_persen = df_persen.rename(columns={'label':'Persentase'})\n",
        "df_persen"
      ],
      "metadata": {
        "colab": {
          "base_uri": "https://localhost:8080/",
          "height": 143
        },
        "id": "ueTaOy4KYJTW",
        "outputId": "64e0f099-5810-4ac8-86fd-12d86aa5c768"
      },
      "execution_count": null,
      "outputs": [
        {
          "output_type": "execute_result",
          "data": {
            "text/plain": [
              "          Persentase\n",
              "Neutral       75.36%\n",
              "Positive      14.94%\n",
              "Negative       9.70%"
            ],
            "text/html": [
              "\n",
              "  <div id=\"df-79317895-affd-4a34-9980-65d46980e5af\">\n",
              "    <div class=\"colab-df-container\">\n",
              "      <div>\n",
              "<style scoped>\n",
              "    .dataframe tbody tr th:only-of-type {\n",
              "        vertical-align: middle;\n",
              "    }\n",
              "\n",
              "    .dataframe tbody tr th {\n",
              "        vertical-align: top;\n",
              "    }\n",
              "\n",
              "    .dataframe thead th {\n",
              "        text-align: right;\n",
              "    }\n",
              "</style>\n",
              "<table border=\"1\" class=\"dataframe\">\n",
              "  <thead>\n",
              "    <tr style=\"text-align: right;\">\n",
              "      <th></th>\n",
              "      <th>Persentase</th>\n",
              "    </tr>\n",
              "  </thead>\n",
              "  <tbody>\n",
              "    <tr>\n",
              "      <th>Neutral</th>\n",
              "      <td>75.36%</td>\n",
              "    </tr>\n",
              "    <tr>\n",
              "      <th>Positive</th>\n",
              "      <td>14.94%</td>\n",
              "    </tr>\n",
              "    <tr>\n",
              "      <th>Negative</th>\n",
              "      <td>9.70%</td>\n",
              "    </tr>\n",
              "  </tbody>\n",
              "</table>\n",
              "</div>\n",
              "      <button class=\"colab-df-convert\" onclick=\"convertToInteractive('df-79317895-affd-4a34-9980-65d46980e5af')\"\n",
              "              title=\"Convert this dataframe to an interactive table.\"\n",
              "              style=\"display:none;\">\n",
              "        \n",
              "  <svg xmlns=\"http://www.w3.org/2000/svg\" height=\"24px\"viewBox=\"0 0 24 24\"\n",
              "       width=\"24px\">\n",
              "    <path d=\"M0 0h24v24H0V0z\" fill=\"none\"/>\n",
              "    <path d=\"M18.56 5.44l.94 2.06.94-2.06 2.06-.94-2.06-.94-.94-2.06-.94 2.06-2.06.94zm-11 1L8.5 8.5l.94-2.06 2.06-.94-2.06-.94L8.5 2.5l-.94 2.06-2.06.94zm10 10l.94 2.06.94-2.06 2.06-.94-2.06-.94-.94-2.06-.94 2.06-2.06.94z\"/><path d=\"M17.41 7.96l-1.37-1.37c-.4-.4-.92-.59-1.43-.59-.52 0-1.04.2-1.43.59L10.3 9.45l-7.72 7.72c-.78.78-.78 2.05 0 2.83L4 21.41c.39.39.9.59 1.41.59.51 0 1.02-.2 1.41-.59l7.78-7.78 2.81-2.81c.8-.78.8-2.07 0-2.86zM5.41 20L4 18.59l7.72-7.72 1.47 1.35L5.41 20z\"/>\n",
              "  </svg>\n",
              "      </button>\n",
              "      \n",
              "  <style>\n",
              "    .colab-df-container {\n",
              "      display:flex;\n",
              "      flex-wrap:wrap;\n",
              "      gap: 12px;\n",
              "    }\n",
              "\n",
              "    .colab-df-convert {\n",
              "      background-color: #E8F0FE;\n",
              "      border: none;\n",
              "      border-radius: 50%;\n",
              "      cursor: pointer;\n",
              "      display: none;\n",
              "      fill: #1967D2;\n",
              "      height: 32px;\n",
              "      padding: 0 0 0 0;\n",
              "      width: 32px;\n",
              "    }\n",
              "\n",
              "    .colab-df-convert:hover {\n",
              "      background-color: #E2EBFA;\n",
              "      box-shadow: 0px 1px 2px rgba(60, 64, 67, 0.3), 0px 1px 3px 1px rgba(60, 64, 67, 0.15);\n",
              "      fill: #174EA6;\n",
              "    }\n",
              "\n",
              "    [theme=dark] .colab-df-convert {\n",
              "      background-color: #3B4455;\n",
              "      fill: #D2E3FC;\n",
              "    }\n",
              "\n",
              "    [theme=dark] .colab-df-convert:hover {\n",
              "      background-color: #434B5C;\n",
              "      box-shadow: 0px 1px 3px 1px rgba(0, 0, 0, 0.15);\n",
              "      filter: drop-shadow(0px 1px 2px rgba(0, 0, 0, 0.3));\n",
              "      fill: #FFFFFF;\n",
              "    }\n",
              "  </style>\n",
              "\n",
              "      <script>\n",
              "        const buttonEl =\n",
              "          document.querySelector('#df-79317895-affd-4a34-9980-65d46980e5af button.colab-df-convert');\n",
              "        buttonEl.style.display =\n",
              "          google.colab.kernel.accessAllowed ? 'block' : 'none';\n",
              "\n",
              "        async function convertToInteractive(key) {\n",
              "          const element = document.querySelector('#df-79317895-affd-4a34-9980-65d46980e5af');\n",
              "          const dataTable =\n",
              "            await google.colab.kernel.invokeFunction('convertToInteractive',\n",
              "                                                     [key], {});\n",
              "          if (!dataTable) return;\n",
              "\n",
              "          const docLinkHtml = 'Like what you see? Visit the ' +\n",
              "            '<a target=\"_blank\" href=https://colab.research.google.com/notebooks/data_table.ipynb>data table notebook</a>'\n",
              "            + ' to learn more about interactive tables.';\n",
              "          element.innerHTML = '';\n",
              "          dataTable['output_type'] = 'display_data';\n",
              "          await google.colab.output.renderOutput(dataTable, element);\n",
              "          const docLink = document.createElement('div');\n",
              "          docLink.innerHTML = docLinkHtml;\n",
              "          element.appendChild(docLink);\n",
              "        }\n",
              "      </script>\n",
              "    </div>\n",
              "  </div>\n",
              "  "
            ]
          },
          "metadata": {},
          "execution_count": 4
        }
      ]
    },
    {
      "cell_type": "code",
      "source": [
        "print('Label', df_persen.index[0] ,'memiliki persentase sebesar', df_persen['Persentase'][0], '%')\n",
        "print('Label', df_persen.index[1] ,'memiliki persentase sebesar', df_persen['Persentase'][1], '%')\n",
        "print('Label', df_persen.index[2] ,'memiliki persentase sebesar', df_persen['Persentase'][2], '%')"
      ],
      "metadata": {
        "colab": {
          "base_uri": "https://localhost:8080/"
        },
        "id": "J6SwmG2yt5u0",
        "outputId": "6bf7ffe9-4633-4adf-a225-dc490ace67d2"
      },
      "execution_count": 23,
      "outputs": [
        {
          "output_type": "stream",
          "name": "stdout",
          "text": [
            "Label Neutral memiliki persentase sebesar 75.36 %\n",
            "Label Positive memiliki persentase sebesar 14.94 %\n",
            "Label Negative memiliki persentase sebesar 9.7 %\n"
          ]
        }
      ]
    },
    {
      "cell_type": "code",
      "source": [
        "print('Label', df_persen['Persentase'].idxmax() ,'memiliki persentase terbanyak sebesar', max(df_persen['Persentase']), '%')"
      ],
      "metadata": {
        "colab": {
          "base_uri": "https://localhost:8080/"
        },
        "id": "cJ7RASU5YXl3",
        "outputId": "6595c2e9-1af3-4f60-9a69-cac07a8fdd9f"
      },
      "execution_count": null,
      "outputs": [
        {
          "output_type": "stream",
          "name": "stdout",
          "text": [
            "Label Neutral memiliki persentase terbanyak sebesar 75.36 %\n"
          ]
        }
      ]
    }
  ],
  "metadata": {
    "colab": {
      "collapsed_sections": [],
      "provenance": []
    },
    "kernelspec": {
      "display_name": "Python 3 (ipykernel)",
      "language": "python",
      "name": "python3"
    },
    "language_info": {
      "codemirror_mode": {
        "name": "ipython",
        "version": 3
      },
      "file_extension": ".py",
      "mimetype": "text/x-python",
      "name": "python",
      "nbconvert_exporter": "python",
      "pygments_lexer": "ipython3",
      "version": "3.8.10"
    }
  },
  "nbformat": 4,
  "nbformat_minor": 0
}